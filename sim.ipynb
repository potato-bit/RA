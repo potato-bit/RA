{
 "cells": [
  {
   "cell_type": "markdown",
   "metadata": {},
   "source": [
    "# Homefinder Simulation"
   ]
  },
  {
   "cell_type": "markdown",
   "metadata": {},
   "source": [
    "Import necessary libraries"
   ]
  },
  {
   "cell_type": "code",
   "execution_count": 17,
   "metadata": {},
   "outputs": [],
   "source": [
    "import random\n",
    "import datetime \n",
    "import pandas as pd\n",
    "from faker import Faker"
   ]
  },
  {
   "cell_type": "markdown",
   "metadata": {},
   "source": [
    "Set random generation seed"
   ]
  },
  {
   "cell_type": "code",
   "execution_count": 18,
   "metadata": {},
   "outputs": [],
   "source": [
    "random.seed(42)"
   ]
  },
  {
   "cell_type": "markdown",
   "metadata": {},
   "source": [
    "## Creating class-objects for Houses and Applicants"
   ]
  },
  {
   "cell_type": "code",
   "execution_count": 19,
   "metadata": {},
   "outputs": [],
   "source": [
    "class House:\n",
    "    shortlist = pd.DataFrame(columns=['id','priority','bp_date','ap_date'])\n",
    "    def __init__(self,id,rooms,status,bids,location='',rent=0,slist=shortlist,tenant=0):\n",
    "        self.id = id\n",
    "        self.rooms = rooms\n",
    "        self.status = status \n",
    "        self.bids = bids\n",
    "        self.slist = slist\n",
    "        self.tenant = tenant\n",
    "        self.rent = rent # currently not used \n",
    "        self.location = location # currently not used\n",
    "    \n",
    "    def __str__(self):\n",
    "        return f\"House ID:{self.id} has {self.rooms} rooms and {len(self.bids)} bid(s). It is currently {self.status}\"\n",
    "\n",
    "\n",
    "    # function to shortlist applicants and choose top applicant and send offer\n",
    "    def shortlister(self):\n",
    "        shortlist = pd.DataFrame(columns=['id','priority','bp_date','ap_date'])\n",
    "        ## shortlisted in order of priority band, then effective band date, then application date\n",
    "        for x in self.bids: # checks bids and applicant ids to generate shortlist\n",
    "            if applicants[x][0].status == 'Live':\n",
    "                shortlist.loc[x,'id'] = applicants[x][0].id\n",
    "                shortlist.loc[x,'priority'] = applicants[x][0].priority\n",
    "                shortlist.loc[x,'bp_date'] = applicants[x][0].bp_date\n",
    "                shortlist.loc[x, 'ap_date'] = applicants[x][0].ap_date\n",
    "            else:\n",
    "                continue\n",
    "        \n",
    "        shortlist.sort_values(['priority','bp_date','ap_date'],axis=0,inplace=True,ignore_index=True)\n",
    "        self.slist = shortlist\n",
    "        if len(self.slist) < 1:\n",
    "            self.status = 'No bids'\n",
    "            return self.status\n",
    "        else:\n",
    "            top = self.slist.loc[0,'id']\n",
    "            applicants[top][1].append(self.id)\n",
    "            #print(top)\n",
    "            return shortlist\n",
    "    \n",
    "    # function to sign contract with top applicant if top applicant accepts offer\n",
    "    def contract(self):\n",
    "        top = self.slist.loc[0,'id']\n",
    "        if applicants[top][0].home == self.id:\n",
    "            # change house and applicant status from 'Live' to 'Occupied'/'Housed' to remove from bidding process\n",
    "            self.status = 'Occupied'\n",
    "            self.tenant = top\n",
    "            applicants[top][0].status = 'Housed'\n",
    "        else:\n",
    "            pass\n",
    "\n",
    "\n",
    "\n",
    "            \n",
    "        \n",
    "        "
   ]
  },
  {
   "cell_type": "code",
   "execution_count": 20,
   "metadata": {},
   "outputs": [],
   "source": [
    "class Applicant:\n",
    "    bid = []\n",
    "    def __init__(self,id,priority,bp_date,ap_date,hsize,status,offers,income=0,location='',bids=bid,home=0):\n",
    "        self.id = id\n",
    "        self.priority = priority\n",
    "        self.bp_date = bp_date\n",
    "        self.ap_date = ap_date\n",
    "        self.hsize = hsize\n",
    "        self.status = status\n",
    "        self.bids = bids\n",
    "        self.offers = offers\n",
    "        self.home = home\n",
    "        self.income = income # currently not used\n",
    "        self.location = location # currently not used\n",
    "\n",
    "    def __str__(self):\n",
    "        return f\"Applicant {self.id} is in Priority Band {self.priority}. They have a need of {self.hsize} rooms and are currently {self.status}\"\n",
    "    \n",
    "    # function for bidding logic - applicants choose homes which are the same size as their household need and pick 3 randomly (3 bids), this \n",
    "    # should be modified later to choose homes based on logic instead of random\n",
    "    def bidder(self,hlist):\n",
    "        shortlist = []\n",
    "        for x in hlist:\n",
    "            if hlist[x].rooms == self.hsize and hlist[x].status == 'Live':\n",
    "                shortlist.append((x,hlist[x]))\n",
    "        try:\n",
    "            bids = random.sample(shortlist,k=3)\n",
    "        except ValueError:\n",
    "            bids = random.sample(shortlist,k=len(shortlist)) # if the number of suitable properties are less than 3\n",
    "        for x in bids:\n",
    "            houses[x[0]].bids.append(self.id) # adds applicant id to list of bids at house they are applying in\n",
    "        self.bids = bids \n",
    "        return bids\n",
    "    \n",
    "    # checks offers from homes they bid on, and picks one randomly, this should be modified later to add complexity and decide homes based on\n",
    "    # some logic.\n",
    "    def shortlist(self): \n",
    "        if len(self.offers) > 1:\n",
    "            self.home = random.choice(self.offers)\n",
    "            return self.home\n",
    "        elif len(self.offers) == 1:\n",
    "            self.home = self.offers[0]\n",
    "            return self.home\n",
    "        else:\n",
    "            pass\n",
    "        \n",
    "    \n"
   ]
  },
  {
   "cell_type": "markdown",
   "metadata": {},
   "source": [
    "## Generate random applicants and houses"
   ]
  },
  {
   "cell_type": "markdown",
   "metadata": {},
   "source": [
    "Create generator functions to create homes and applicants, currently randomly generated, can use actual datasets to create synthetic homes and applicants based on real data"
   ]
  },
  {
   "cell_type": "code",
   "execution_count": 21,
   "metadata": {},
   "outputs": [],
   "source": [
    "fake = Faker()\n",
    "Faker.seed(42)\n",
    "def date_generator(y,m,d):\n",
    "    start_date = datetime.datetime(y,m,d)\n",
    "    return fake.date_between(start_date=start_date, end_date='now')\n",
    "\n",
    "def house_generator(ind):\n",
    "    id = ind\n",
    "    rooms  = random.randint(0,5)\n",
    "    house = House(id,rooms,'Live',[])\n",
    "    return house\n",
    "\n",
    "def applicant_generator(ind):\n",
    "    id = ind\n",
    "    priority = random.randint(1,4)\n",
    "    bp_date = date_generator(2015,1,1)\n",
    "    ap_date = date_generator(2021,9,19)\n",
    "    hsize = random.randint(0,5)\n",
    "    offers = []\n",
    "    applicant = Applicant(id,priority,bp_date,ap_date,hsize,offers=offers,status='Live')\n",
    "    return applicant"
   ]
  },
  {
   "cell_type": "markdown",
   "metadata": {},
   "source": [
    "To rerun, delete homes and applicants before regeneration. House and applicant objects stored in dictionary with ID as key"
   ]
  },
  {
   "cell_type": "code",
   "execution_count": 22,
   "metadata": {},
   "outputs": [],
   "source": [
    "try:\n",
    "    del houses\n",
    "except NameError:\n",
    "    pass\n",
    "houses = {}\n",
    "number_of_houses = input('Number of houses to generate: ')\n",
    "for x in range(1,int(number_of_houses)): # change upper limit to change number of homes generated\n",
    "    houses[x] = house_generator(x)"
   ]
  },
  {
   "cell_type": "code",
   "execution_count": 23,
   "metadata": {},
   "outputs": [],
   "source": [
    "try:\n",
    "    del applicants\n",
    "except NameError:\n",
    "    pass\n",
    "applicants = {}\n",
    "number_of_applicants = input('Number of applicants to generate: ')\n",
    "for x in range(1,int(number_of_applicants)): # change upper limit to change number of applicant generated\n",
    "    applicants[x] = [applicant_generator(x),[]]"
   ]
  },
  {
   "cell_type": "markdown",
   "metadata": {},
   "source": [
    "A typical biddinng cycle consists of a round of bidding, then landlords shortlist tenants and make an offer to the top applicant, the applicant picks which home to move to if they receive multiple offers. The landlord then picks the next most suitable tenant, and the cycle continues till all houses are occupied"
   ]
  },
  {
   "cell_type": "markdown",
   "metadata": {},
   "source": [
    "Creating dataframe to check homes list"
   ]
  },
  {
   "cell_type": "code",
   "execution_count": 24,
   "metadata": {},
   "outputs": [],
   "source": [
    "homes = pd.DataFrame(columns=['id','rooms','status'])\n",
    "for x in houses:\n",
    "    homes.loc[x,'id'] = houses[x].id\n",
    "    homes.loc[x,'rooms'] = houses[x].rooms\n",
    "    homes.loc[x,'status'] = houses[x].status"
   ]
  },
  {
   "cell_type": "code",
   "execution_count": 25,
   "metadata": {},
   "outputs": [
    {
     "data": {
      "text/html": [
       "<div>\n",
       "<style scoped>\n",
       "    .dataframe tbody tr th:only-of-type {\n",
       "        vertical-align: middle;\n",
       "    }\n",
       "\n",
       "    .dataframe tbody tr th {\n",
       "        vertical-align: top;\n",
       "    }\n",
       "\n",
       "    .dataframe thead th {\n",
       "        text-align: right;\n",
       "    }\n",
       "</style>\n",
       "<table border=\"1\" class=\"dataframe\">\n",
       "  <thead>\n",
       "    <tr style=\"text-align: right;\">\n",
       "      <th></th>\n",
       "      <th>id</th>\n",
       "      <th>rooms</th>\n",
       "      <th>status</th>\n",
       "    </tr>\n",
       "  </thead>\n",
       "  <tbody>\n",
       "    <tr>\n",
       "      <th>1</th>\n",
       "      <td>1</td>\n",
       "      <td>5</td>\n",
       "      <td>Live</td>\n",
       "    </tr>\n",
       "    <tr>\n",
       "      <th>2</th>\n",
       "      <td>2</td>\n",
       "      <td>0</td>\n",
       "      <td>Live</td>\n",
       "    </tr>\n",
       "    <tr>\n",
       "      <th>3</th>\n",
       "      <td>3</td>\n",
       "      <td>0</td>\n",
       "      <td>Live</td>\n",
       "    </tr>\n",
       "    <tr>\n",
       "      <th>4</th>\n",
       "      <td>4</td>\n",
       "      <td>5</td>\n",
       "      <td>Live</td>\n",
       "    </tr>\n",
       "    <tr>\n",
       "      <th>5</th>\n",
       "      <td>5</td>\n",
       "      <td>2</td>\n",
       "      <td>Live</td>\n",
       "    </tr>\n",
       "    <tr>\n",
       "      <th>...</th>\n",
       "      <td>...</td>\n",
       "      <td>...</td>\n",
       "      <td>...</td>\n",
       "    </tr>\n",
       "    <tr>\n",
       "      <th>195</th>\n",
       "      <td>195</td>\n",
       "      <td>3</td>\n",
       "      <td>Live</td>\n",
       "    </tr>\n",
       "    <tr>\n",
       "      <th>196</th>\n",
       "      <td>196</td>\n",
       "      <td>0</td>\n",
       "      <td>Live</td>\n",
       "    </tr>\n",
       "    <tr>\n",
       "      <th>197</th>\n",
       "      <td>197</td>\n",
       "      <td>0</td>\n",
       "      <td>Live</td>\n",
       "    </tr>\n",
       "    <tr>\n",
       "      <th>198</th>\n",
       "      <td>198</td>\n",
       "      <td>2</td>\n",
       "      <td>Live</td>\n",
       "    </tr>\n",
       "    <tr>\n",
       "      <th>199</th>\n",
       "      <td>199</td>\n",
       "      <td>2</td>\n",
       "      <td>Live</td>\n",
       "    </tr>\n",
       "  </tbody>\n",
       "</table>\n",
       "<p>199 rows × 3 columns</p>\n",
       "</div>"
      ],
      "text/plain": [
       "      id rooms status\n",
       "1      1     5   Live\n",
       "2      2     0   Live\n",
       "3      3     0   Live\n",
       "4      4     5   Live\n",
       "5      5     2   Live\n",
       "..   ...   ...    ...\n",
       "195  195     3   Live\n",
       "196  196     0   Live\n",
       "197  197     0   Live\n",
       "198  198     2   Live\n",
       "199  199     2   Live\n",
       "\n",
       "[199 rows x 3 columns]"
      ]
     },
     "execution_count": 25,
     "metadata": {},
     "output_type": "execute_result"
    }
   ],
   "source": [
    "for x in houses:\n",
    "    homes.loc[x,'status'] = houses[x].status\n",
    "homes"
   ]
  },
  {
   "cell_type": "markdown",
   "metadata": {},
   "source": [
    "To check number of homes still listed"
   ]
  },
  {
   "cell_type": "code",
   "execution_count": 26,
   "metadata": {},
   "outputs": [
    {
     "data": {
      "text/html": [
       "<div>\n",
       "<style scoped>\n",
       "    .dataframe tbody tr th:only-of-type {\n",
       "        vertical-align: middle;\n",
       "    }\n",
       "\n",
       "    .dataframe tbody tr th {\n",
       "        vertical-align: top;\n",
       "    }\n",
       "\n",
       "    .dataframe thead th {\n",
       "        text-align: right;\n",
       "    }\n",
       "</style>\n",
       "<table border=\"1\" class=\"dataframe\">\n",
       "  <thead>\n",
       "    <tr style=\"text-align: right;\">\n",
       "      <th></th>\n",
       "      <th>id</th>\n",
       "      <th>rooms</th>\n",
       "    </tr>\n",
       "    <tr>\n",
       "      <th>status</th>\n",
       "      <th></th>\n",
       "      <th></th>\n",
       "    </tr>\n",
       "  </thead>\n",
       "  <tbody>\n",
       "    <tr>\n",
       "      <th>Live</th>\n",
       "      <td>199</td>\n",
       "      <td>199</td>\n",
       "    </tr>\n",
       "  </tbody>\n",
       "</table>\n",
       "</div>"
      ],
      "text/plain": [
       "         id  rooms\n",
       "status            \n",
       "Live    199    199"
      ]
     },
     "execution_count": 26,
     "metadata": {},
     "output_type": "execute_result"
    }
   ],
   "source": [
    "homes.groupby('status').count()"
   ]
  },
  {
   "cell_type": "markdown",
   "metadata": {},
   "source": [
    "The bidding cycle simulation, runs until either all homes are occupied or 20 cycles have been run"
   ]
  },
  {
   "cell_type": "code",
   "execution_count": 27,
   "metadata": {},
   "outputs": [
    {
     "name": "stdout",
     "output_type": "stream",
     "text": [
      "1\n",
      "2\n",
      "3\n",
      "4\n",
      "5\n",
      "6\n",
      "7\n",
      "8\n",
      "9\n",
      "10\n",
      "11\n",
      "12\n",
      "13\n"
     ]
    },
    {
     "data": {
      "text/html": [
       "<div>\n",
       "<style scoped>\n",
       "    .dataframe tbody tr th:only-of-type {\n",
       "        vertical-align: middle;\n",
       "    }\n",
       "\n",
       "    .dataframe tbody tr th {\n",
       "        vertical-align: top;\n",
       "    }\n",
       "\n",
       "    .dataframe thead th {\n",
       "        text-align: right;\n",
       "    }\n",
       "</style>\n",
       "<table border=\"1\" class=\"dataframe\">\n",
       "  <thead>\n",
       "    <tr style=\"text-align: right;\">\n",
       "      <th></th>\n",
       "      <th>id</th>\n",
       "      <th>rooms</th>\n",
       "    </tr>\n",
       "    <tr>\n",
       "      <th>status</th>\n",
       "      <th></th>\n",
       "      <th></th>\n",
       "    </tr>\n",
       "  </thead>\n",
       "  <tbody>\n",
       "    <tr>\n",
       "      <th>Occupied</th>\n",
       "      <td>199</td>\n",
       "      <td>199</td>\n",
       "    </tr>\n",
       "  </tbody>\n",
       "</table>\n",
       "</div>"
      ],
      "text/plain": [
       "           id  rooms\n",
       "status              \n",
       "Occupied  199    199"
      ]
     },
     "metadata": {},
     "output_type": "display_data"
    }
   ],
   "source": [
    "cycle = 0\n",
    "while 'Live' in homes['status'].unique():\n",
    "    cycle += 1\n",
    "    print(cycle)\n",
    "    for x in applicants:\n",
    "        if applicants[x][0].status == 'Live':\n",
    "            applicants[x][0].bidder(houses)\n",
    "        else:\n",
    "            continue\n",
    "    for x in houses:\n",
    "        if houses[x].status != 'Occupied':\n",
    "            houses[x].shortlister()\n",
    "        else:\n",
    "            continue\n",
    "    for x in applicants:\n",
    "        applicants[x][0].offers = applicants[x][1]\n",
    "        if applicants[x][0].status == 'Live' and len(applicants[x][0].offers) > 1:\n",
    "            applicants[x][0].shortlist()\n",
    "            house = applicants[x][0].home\n",
    "            houses[house].contract()\n",
    "        else:\n",
    "            continue\n",
    "    for x in houses:\n",
    "        homes.loc[x,'status'] = houses[x].status\n",
    "    \n",
    "    if cycle > 20:\n",
    "        print('Limit reached, stopping simulation.')\n",
    "        display(homes.groupby('status').count())\n",
    "        break\n",
    "else:\n",
    "    display(homes.groupby('status').count())\n",
    "\n",
    "                \n"
   ]
  },
  {
   "cell_type": "code",
   "execution_count": null,
   "metadata": {},
   "outputs": [],
   "source": []
  },
  {
   "cell_type": "code",
   "execution_count": null,
   "metadata": {},
   "outputs": [],
   "source": []
  }
 ],
 "metadata": {
  "kernelspec": {
   "display_name": "Python 3.10.4 64-bit",
   "language": "python",
   "name": "python3"
  },
  "language_info": {
   "codemirror_mode": {
    "name": "ipython",
    "version": 3
   },
   "file_extension": ".py",
   "mimetype": "text/x-python",
   "name": "python",
   "nbconvert_exporter": "python",
   "pygments_lexer": "ipython3",
   "version": "3.10.4"
  },
  "orig_nbformat": 4,
  "vscode": {
   "interpreter": {
    "hash": "264cccd5883412ab4e02ed8c66b4bdd34e6b25f2ac5afddfbd93d0dda37aab11"
   }
  }
 },
 "nbformat": 4,
 "nbformat_minor": 2
}
