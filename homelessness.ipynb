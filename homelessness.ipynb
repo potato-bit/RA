{
 "cells": [
  {
   "cell_type": "code",
   "execution_count": 1,
   "metadata": {},
   "outputs": [],
   "source": [
    "import pandas as pd\n",
    "import numpy as np"
   ]
  },
  {
   "cell_type": "code",
   "execution_count": 2,
   "metadata": {},
   "outputs": [],
   "source": [
    "pd.set_option('display.max_rows',100)"
   ]
  },
  {
   "cell_type": "markdown",
   "metadata": {},
   "source": [
    "# 2008-2011"
   ]
  },
  {
   "cell_type": "code",
   "execution_count": 29,
   "metadata": {},
   "outputs": [],
   "source": [
    "columns = ['LA_code','LA','households','homeless_acc','homeless_pm','TA','TA_pm','no_accom','year']"
   ]
  },
  {
   "cell_type": "code",
   "execution_count": 141,
   "metadata": {},
   "outputs": [
    {
     "name": "stdout",
     "output_type": "stream",
     "text": [
      "9\n",
      "10\n",
      "11\n"
     ]
    }
   ],
   "source": [
    "data1 = []\n",
    "for x in range(9,12):\n",
    "    print(x)\n",
    "    df = pd.read_excel('homelessness/Table_784_2017_18.xlsx',sheet_name=x,header=11)\n",
    "    df_trim = df[['Local Authority area','estimate)','Total','h/holds','Accommodation)','h/holds.1']].copy()\n",
    "    df_trim['ONS Code'] = df[df.columns[0]]\n",
    "    df_trim.insert(0,'ONS Code',df_trim.pop('ONS Code'))\n",
    "    df_trim['no_accom'] = df[df.columns[-1]]\n",
    "    df_trim['year'] = 2020 - x\n",
    "    df_trim = df_trim[~df_trim.loc[:,'ONS Code'].isnull()]\n",
    "    df_trim.reset_index(drop=True,inplace=True)\n",
    "    for y in df_trim.index:\n",
    "        if not df_trim.loc[y,'ONS Code'].startswith('E0'):\n",
    "            df_trim.drop(y,inplace=True)\n",
    "    df_trim.reset_index(drop=True,inplace=True)\n",
    "    for k in df_trim.values.tolist():\n",
    "        data1.append(k)\n",
    "    \n",
    "    \n",
    "\n",
    "    "
   ]
  },
  {
   "cell_type": "code",
   "execution_count": 142,
   "metadata": {},
   "outputs": [],
   "source": [
    "df1 = pd.DataFrame(data1)\n",
    "df1.columns = columns"
   ]
  },
  {
   "cell_type": "code",
   "execution_count": 143,
   "metadata": {},
   "outputs": [
    {
     "data": {
      "text/html": [
       "<div>\n",
       "<style scoped>\n",
       "    .dataframe tbody tr th:only-of-type {\n",
       "        vertical-align: middle;\n",
       "    }\n",
       "\n",
       "    .dataframe tbody tr th {\n",
       "        vertical-align: top;\n",
       "    }\n",
       "\n",
       "    .dataframe thead th {\n",
       "        text-align: right;\n",
       "    }\n",
       "</style>\n",
       "<table border=\"1\" class=\"dataframe\">\n",
       "  <thead>\n",
       "    <tr style=\"text-align: right;\">\n",
       "      <th></th>\n",
       "      <th>LA_code</th>\n",
       "      <th>LA</th>\n",
       "      <th>households</th>\n",
       "      <th>homeless_acc</th>\n",
       "      <th>homeless_pm</th>\n",
       "      <th>TA</th>\n",
       "      <th>TA_pm</th>\n",
       "      <th>no_accom</th>\n",
       "      <th>year</th>\n",
       "    </tr>\n",
       "  </thead>\n",
       "  <tbody>\n",
       "    <tr>\n",
       "      <th>0</th>\n",
       "      <td>E06000005</td>\n",
       "      <td>Darlington</td>\n",
       "      <td>44.0</td>\n",
       "      <td>14.0</td>\n",
       "      <td>0.318182</td>\n",
       "      <td>4.0</td>\n",
       "      <td>0.090909</td>\n",
       "      <td>0.0</td>\n",
       "      <td>2011</td>\n",
       "    </tr>\n",
       "    <tr>\n",
       "      <th>1</th>\n",
       "      <td>E06000047</td>\n",
       "      <td>County Durham</td>\n",
       "      <td>216.0</td>\n",
       "      <td>381.0</td>\n",
       "      <td>1.763889</td>\n",
       "      <td>30.0</td>\n",
       "      <td>0.138889</td>\n",
       "      <td>0.0</td>\n",
       "      <td>2011</td>\n",
       "    </tr>\n",
       "    <tr>\n",
       "      <th>2</th>\n",
       "      <td>E06000001</td>\n",
       "      <td>Hartlepool</td>\n",
       "      <td>39.0</td>\n",
       "      <td>15.0</td>\n",
       "      <td>0.384615</td>\n",
       "      <td>2.0</td>\n",
       "      <td>0.051282</td>\n",
       "      <td>0.0</td>\n",
       "      <td>2011</td>\n",
       "    </tr>\n",
       "    <tr>\n",
       "      <th>3</th>\n",
       "      <td>E06000002</td>\n",
       "      <td>Middlesbrough</td>\n",
       "      <td>58.0</td>\n",
       "      <td>79.0</td>\n",
       "      <td>1.362069</td>\n",
       "      <td>17.0</td>\n",
       "      <td>0.293103</td>\n",
       "      <td>0.0</td>\n",
       "      <td>2011</td>\n",
       "    </tr>\n",
       "    <tr>\n",
       "      <th>4</th>\n",
       "      <td>E06000048</td>\n",
       "      <td>Northumberland</td>\n",
       "      <td>136.0</td>\n",
       "      <td>189.0</td>\n",
       "      <td>1.389706</td>\n",
       "      <td>13.0</td>\n",
       "      <td>0.095588</td>\n",
       "      <td>0.0</td>\n",
       "      <td>2011</td>\n",
       "    </tr>\n",
       "  </tbody>\n",
       "</table>\n",
       "</div>"
      ],
      "text/plain": [
       "     LA_code              LA  households homeless_acc homeless_pm    TA  \\\n",
       "0  E06000005      Darlington        44.0         14.0    0.318182   4.0   \n",
       "1  E06000047   County Durham       216.0        381.0    1.763889  30.0   \n",
       "2  E06000001      Hartlepool        39.0         15.0    0.384615   2.0   \n",
       "3  E06000002   Middlesbrough        58.0         79.0    1.362069  17.0   \n",
       "4  E06000048  Northumberland       136.0        189.0    1.389706  13.0   \n",
       "\n",
       "      TA_pm no_accom  year  \n",
       "0  0.090909      0.0  2011  \n",
       "1  0.138889      0.0  2011  \n",
       "2  0.051282      0.0  2011  \n",
       "3  0.293103      0.0  2011  \n",
       "4  0.095588      0.0  2011  "
      ]
     },
     "execution_count": 143,
     "metadata": {},
     "output_type": "execute_result"
    }
   ],
   "source": [
    "df1.head()"
   ]
  },
  {
   "cell_type": "markdown",
   "metadata": {},
   "source": [
    "# 2011-2012"
   ]
  },
  {
   "cell_type": "code",
   "execution_count": 144,
   "metadata": {},
   "outputs": [],
   "source": [
    "df = pd.read_excel('homelessness/Table_784_2017_18.xlsx',sheet_name=8,header=11)\n",
    "df = df[['Unnamed: 0','Unnamed: 1','estimate)','Total','h/holds','Accommodation)','h/holds.1',' March 2012']]\n",
    "df['year'] = 2012\n",
    "df.columns = columns\n",
    "df = df[~df.loc[:,'LA_code'].isnull()]\n",
    "df.reset_index(drop=True,inplace=True)\n",
    "for x in df.index:\n",
    "    if not df.loc[x,'LA_code'].startswith('E0'):\n",
    "        df.drop(x,inplace=True)\n",
    "df.reset_index(drop=True,inplace=True)\n",
    "df2 = df.copy()"
   ]
  },
  {
   "cell_type": "code",
   "execution_count": 145,
   "metadata": {},
   "outputs": [
    {
     "data": {
      "text/html": [
       "<div>\n",
       "<style scoped>\n",
       "    .dataframe tbody tr th:only-of-type {\n",
       "        vertical-align: middle;\n",
       "    }\n",
       "\n",
       "    .dataframe tbody tr th {\n",
       "        vertical-align: top;\n",
       "    }\n",
       "\n",
       "    .dataframe thead th {\n",
       "        text-align: right;\n",
       "    }\n",
       "</style>\n",
       "<table border=\"1\" class=\"dataframe\">\n",
       "  <thead>\n",
       "    <tr style=\"text-align: right;\">\n",
       "      <th></th>\n",
       "      <th>LA_code</th>\n",
       "      <th>LA</th>\n",
       "      <th>households</th>\n",
       "      <th>homeless_acc</th>\n",
       "      <th>homeless_pm</th>\n",
       "      <th>TA</th>\n",
       "      <th>TA_pm</th>\n",
       "      <th>no_accom</th>\n",
       "      <th>year</th>\n",
       "    </tr>\n",
       "  </thead>\n",
       "  <tbody>\n",
       "    <tr>\n",
       "      <th>0</th>\n",
       "      <td>E06000047</td>\n",
       "      <td>County Durham</td>\n",
       "      <td>216</td>\n",
       "      <td>425</td>\n",
       "      <td>1.97</td>\n",
       "      <td>25.0</td>\n",
       "      <td>0.12</td>\n",
       "      <td>113</td>\n",
       "      <td>2012</td>\n",
       "    </tr>\n",
       "    <tr>\n",
       "      <th>1</th>\n",
       "      <td>E06000005</td>\n",
       "      <td>Darlington</td>\n",
       "      <td>44</td>\n",
       "      <td>15</td>\n",
       "      <td>0.34</td>\n",
       "      <td>0.0</td>\n",
       "      <td>0.00</td>\n",
       "      <td>0</td>\n",
       "      <td>2012</td>\n",
       "    </tr>\n",
       "    <tr>\n",
       "      <th>2</th>\n",
       "      <td>E06000001</td>\n",
       "      <td>Hartlepool</td>\n",
       "      <td>39</td>\n",
       "      <td>19</td>\n",
       "      <td>0.49</td>\n",
       "      <td>0.0</td>\n",
       "      <td>0.00</td>\n",
       "      <td>6</td>\n",
       "      <td>2012</td>\n",
       "    </tr>\n",
       "    <tr>\n",
       "      <th>3</th>\n",
       "      <td>E06000002</td>\n",
       "      <td>Middlesbrough</td>\n",
       "      <td>58</td>\n",
       "      <td>87</td>\n",
       "      <td>1.50</td>\n",
       "      <td>14.0</td>\n",
       "      <td>0.24</td>\n",
       "      <td>22</td>\n",
       "      <td>2012</td>\n",
       "    </tr>\n",
       "    <tr>\n",
       "      <th>4</th>\n",
       "      <td>E06000048</td>\n",
       "      <td>Northumberland</td>\n",
       "      <td>136</td>\n",
       "      <td>229</td>\n",
       "      <td>1.68</td>\n",
       "      <td>16.0</td>\n",
       "      <td>0.12</td>\n",
       "      <td>126</td>\n",
       "      <td>2012</td>\n",
       "    </tr>\n",
       "  </tbody>\n",
       "</table>\n",
       "</div>"
      ],
      "text/plain": [
       "     LA_code              LA households homeless_acc  homeless_pm    TA  \\\n",
       "0  E06000047   County Durham        216          425         1.97  25.0   \n",
       "1  E06000005      Darlington         44           15         0.34   0.0   \n",
       "2  E06000001      Hartlepool         39           19         0.49   0.0   \n",
       "3  E06000002   Middlesbrough         58           87         1.50  14.0   \n",
       "4  E06000048  Northumberland        136          229         1.68  16.0   \n",
       "\n",
       "   TA_pm no_accom  year  \n",
       "0   0.12      113  2012  \n",
       "1   0.00        0  2012  \n",
       "2   0.00        6  2012  \n",
       "3   0.24       22  2012  \n",
       "4   0.12      126  2012  "
      ]
     },
     "execution_count": 145,
     "metadata": {},
     "output_type": "execute_result"
    }
   ],
   "source": [
    "df2.head()"
   ]
  },
  {
   "cell_type": "markdown",
   "metadata": {},
   "source": [
    "# 2012-13"
   ]
  },
  {
   "cell_type": "code",
   "execution_count": 146,
   "metadata": {},
   "outputs": [],
   "source": [
    "df = pd.read_excel('homelessness/Table_784_2017_18.xlsx',sheet_name=7,header=11)\n",
    "df = df[['Unnamed: 0','Unnamed: 1','(000s)','Total','h/holds','Accommodation)','h/holds.1',' March 2013']]\n",
    "df['year'] = 2013\n",
    "df.columns = columns\n",
    "df = df[~df.loc[:,'LA_code'].isnull()]\n",
    "df['LA_code'] = df['LA_code'].astype('string')\n",
    "df.reset_index(drop=True,inplace=True)\n",
    "for x in df.index:\n",
    "    if not df.loc[x,'LA_code'].startswith('E0'):\n",
    "        df.drop(x,inplace=True)\n",
    "df.reset_index(drop=True,inplace=True)\n",
    "df3 = df.copy()"
   ]
  },
  {
   "cell_type": "markdown",
   "metadata": {},
   "source": [
    "# 2013-2018"
   ]
  },
  {
   "cell_type": "code",
   "execution_count": 147,
   "metadata": {},
   "outputs": [],
   "source": [
    "data2 = []\n",
    "for x in range(2,7):\n",
    "    df = pd.read_excel('homelessness/Table_784_2017_18.xlsx',sheet_name=x,header=5)\n",
    "    for i in df.columns:\n",
    "        if i.startswith('Number of'):\n",
    "            df = df[['ONS code','Local Authority / Region / Country',i,'Total','Number per 1,000 households',\n",
    "            'Total in temporary accommodation','Number per 1,000 households.1']]\n",
    "    df['no_accom'] = df[df.columns[-1]]\n",
    "    df['year'] = 2020 - x\n",
    "    df.columns = columns\n",
    "    df['LA_code'] = df['LA_code'].astype('string')\n",
    "    df = df[~df.loc[:,'LA_code'].isnull()]\n",
    "    df.reset_index(drop=True,inplace=True)\n",
    "    for y in df.index:\n",
    "        if not df.loc[y,'LA_code'].startswith('E0'):\n",
    "            df.drop(y,inplace=True)\n",
    "    df.reset_index(drop=True,inplace=True)\n",
    "    for a in df.values.tolist():\n",
    "        data2.append(a)\n",
    "    "
   ]
  },
  {
   "cell_type": "code",
   "execution_count": 148,
   "metadata": {},
   "outputs": [
    {
     "data": {
      "text/html": [
       "<div>\n",
       "<style scoped>\n",
       "    .dataframe tbody tr th:only-of-type {\n",
       "        vertical-align: middle;\n",
       "    }\n",
       "\n",
       "    .dataframe tbody tr th {\n",
       "        vertical-align: top;\n",
       "    }\n",
       "\n",
       "    .dataframe thead th {\n",
       "        text-align: right;\n",
       "    }\n",
       "</style>\n",
       "<table border=\"1\" class=\"dataframe\">\n",
       "  <thead>\n",
       "    <tr style=\"text-align: right;\">\n",
       "      <th></th>\n",
       "      <th>LA_code</th>\n",
       "      <th>LA</th>\n",
       "      <th>households</th>\n",
       "      <th>homeless_acc</th>\n",
       "      <th>homeless_pm</th>\n",
       "      <th>TA</th>\n",
       "      <th>TA_pm</th>\n",
       "      <th>no_accom</th>\n",
       "      <th>year</th>\n",
       "    </tr>\n",
       "  </thead>\n",
       "  <tbody>\n",
       "    <tr>\n",
       "      <th>0</th>\n",
       "      <td>E07000223</td>\n",
       "      <td>Adur</td>\n",
       "      <td>28.527</td>\n",
       "      <td>38</td>\n",
       "      <td>1.33</td>\n",
       "      <td>62</td>\n",
       "      <td>2.17</td>\n",
       "      <td>2.17</td>\n",
       "      <td>2018</td>\n",
       "    </tr>\n",
       "    <tr>\n",
       "      <th>1</th>\n",
       "      <td>E07000026</td>\n",
       "      <td>Allerdale</td>\n",
       "      <td>43.175</td>\n",
       "      <td>22</td>\n",
       "      <td>0.51</td>\n",
       "      <td>6</td>\n",
       "      <td>0.14</td>\n",
       "      <td>0.14</td>\n",
       "      <td>2018</td>\n",
       "    </tr>\n",
       "    <tr>\n",
       "      <th>2</th>\n",
       "      <td>E07000032</td>\n",
       "      <td>Amber Valley</td>\n",
       "      <td>54.937</td>\n",
       "      <td>76</td>\n",
       "      <td>1.38</td>\n",
       "      <td>12</td>\n",
       "      <td>0.22</td>\n",
       "      <td>0.22</td>\n",
       "      <td>2018</td>\n",
       "    </tr>\n",
       "    <tr>\n",
       "      <th>3</th>\n",
       "      <td>E07000224</td>\n",
       "      <td>Arun</td>\n",
       "      <td>71.369</td>\n",
       "      <td>204</td>\n",
       "      <td>2.86</td>\n",
       "      <td>128</td>\n",
       "      <td>1.79</td>\n",
       "      <td>1.79</td>\n",
       "      <td>2018</td>\n",
       "    </tr>\n",
       "    <tr>\n",
       "      <th>4</th>\n",
       "      <td>E07000170</td>\n",
       "      <td>Ashfield</td>\n",
       "      <td>54.054</td>\n",
       "      <td>123</td>\n",
       "      <td>2.28</td>\n",
       "      <td>22</td>\n",
       "      <td>0.41</td>\n",
       "      <td>0.41</td>\n",
       "      <td>2018</td>\n",
       "    </tr>\n",
       "  </tbody>\n",
       "</table>\n",
       "</div>"
      ],
      "text/plain": [
       "     LA_code            LA  households homeless_acc homeless_pm   TA TA_pm  \\\n",
       "0  E07000223          Adur      28.527           38        1.33   62  2.17   \n",
       "1  E07000026     Allerdale      43.175           22        0.51    6  0.14   \n",
       "2  E07000032  Amber Valley      54.937           76        1.38   12  0.22   \n",
       "3  E07000224          Arun      71.369          204        2.86  128  1.79   \n",
       "4  E07000170      Ashfield      54.054          123        2.28   22  0.41   \n",
       "\n",
       "  no_accom  year  \n",
       "0     2.17  2018  \n",
       "1     0.14  2018  \n",
       "2     0.22  2018  \n",
       "3     1.79  2018  \n",
       "4     0.41  2018  "
      ]
     },
     "execution_count": 148,
     "metadata": {},
     "output_type": "execute_result"
    }
   ],
   "source": [
    "df4 = pd.DataFrame(data2)\n",
    "df4.columns= columns\n",
    "df4.head()"
   ]
  },
  {
   "cell_type": "code",
   "execution_count": 149,
   "metadata": {},
   "outputs": [],
   "source": [
    "df4 = df4.replace('-',np.nan)\n"
   ]
  },
  {
   "cell_type": "code",
   "execution_count": 162,
   "metadata": {},
   "outputs": [],
   "source": [
    "df_main = pd.concat([df1,df2,df3,df4])"
   ]
  },
  {
   "cell_type": "code",
   "execution_count": 163,
   "metadata": {},
   "outputs": [],
   "source": [
    "df_main.reset_index(drop=True,inplace=True)\n",
    "df_main.sort_values(['year','LA_code'],inplace=True)"
   ]
  },
  {
   "cell_type": "code",
   "execution_count": 166,
   "metadata": {},
   "outputs": [],
   "source": [
    "df_main.loc[:,'date'] = pd.to_datetime(df_main.loc[:,'year'].astype('str'), format='%Y')"
   ]
  },
  {
   "cell_type": "code",
   "execution_count": 168,
   "metadata": {},
   "outputs": [],
   "source": [
    "df_main.reset_index(drop=True,inplace=True)"
   ]
  },
  {
   "cell_type": "code",
   "execution_count": 170,
   "metadata": {},
   "outputs": [],
   "source": [
    "df_main.to_excel('cleaned datasets/Homelessness 2009-2018 by LA.xlsx',index=False)"
   ]
  },
  {
   "cell_type": "code",
   "execution_count": null,
   "metadata": {},
   "outputs": [],
   "source": []
  }
 ],
 "metadata": {
  "interpreter": {
   "hash": "afcbf81318a229b4525fb6e135028dc6563b1b027cefba10fdf5bdd956634443"
  },
  "kernelspec": {
   "display_name": "Python 3.10.4 64-bit",
   "language": "python",
   "name": "python3"
  },
  "language_info": {
   "codemirror_mode": {
    "name": "ipython",
    "version": 3
   },
   "file_extension": ".py",
   "mimetype": "text/x-python",
   "name": "python",
   "nbconvert_exporter": "python",
   "pygments_lexer": "ipython3",
   "version": "3.10.4"
  },
  "orig_nbformat": 4
 },
 "nbformat": 4,
 "nbformat_minor": 2
}
