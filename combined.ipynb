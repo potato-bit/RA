{
 "cells": [
  {
   "cell_type": "code",
   "execution_count": 1,
   "metadata": {},
   "outputs": [],
   "source": [
    "import pandas as pd\n",
    "import numpy as np\n",
    "import matplotlib.pyplot as plt\n",
    "%matplotlib inline\n"
   ]
  },
  {
   "cell_type": "code",
   "execution_count": 77,
   "metadata": {},
   "outputs": [],
   "source": [
    "pd.set_option('display.max_rows',317)"
   ]
  },
  {
   "cell_type": "code",
   "execution_count": 57,
   "metadata": {},
   "outputs": [
    {
     "data": {
      "text/html": [
       "<div>\n",
       "<style scoped>\n",
       "    .dataframe tbody tr th:only-of-type {\n",
       "        vertical-align: middle;\n",
       "    }\n",
       "\n",
       "    .dataframe tbody tr th {\n",
       "        vertical-align: top;\n",
       "    }\n",
       "\n",
       "    .dataframe thead th {\n",
       "        text-align: right;\n",
       "    }\n",
       "</style>\n",
       "<table border=\"1\" class=\"dataframe\">\n",
       "  <thead>\n",
       "    <tr style=\"text-align: right;\">\n",
       "      <th></th>\n",
       "      <th>DLUHC Code</th>\n",
       "      <th>Former ONS Code</th>\n",
       "      <th>ONS Code</th>\n",
       "      <th>Local Authority</th>\n",
       "      <th>DS_P</th>\n",
       "      <th>DS_HA</th>\n",
       "      <th>DS_LA</th>\n",
       "      <th>DS_Total</th>\n",
       "      <th>DC_P</th>\n",
       "      <th>DC_HA</th>\n",
       "      <th>DC_LA</th>\n",
       "      <th>DC_Total</th>\n",
       "      <th>quarter</th>\n",
       "    </tr>\n",
       "  </thead>\n",
       "  <tbody>\n",
       "    <tr>\n",
       "      <th>0</th>\n",
       "      <td>F0114</td>\n",
       "      <td>00HA</td>\n",
       "      <td>E06000022</td>\n",
       "      <td>Bath and North East Somerset UA</td>\n",
       "      <td>40</td>\n",
       "      <td>20</td>\n",
       "      <td>0</td>\n",
       "      <td>60</td>\n",
       "      <td>30</td>\n",
       "      <td>0</td>\n",
       "      <td>0</td>\n",
       "      <td>30</td>\n",
       "      <td>2005 Q1</td>\n",
       "    </tr>\n",
       "    <tr>\n",
       "      <th>1</th>\n",
       "      <td>M2372</td>\n",
       "      <td>00EX</td>\n",
       "      <td>E06000008</td>\n",
       "      <td>Blackburn with Darwen UA</td>\n",
       "      <td>30</td>\n",
       "      <td>0</td>\n",
       "      <td>0</td>\n",
       "      <td>30</td>\n",
       "      <td>110</td>\n",
       "      <td>10</td>\n",
       "      <td>0</td>\n",
       "      <td>120</td>\n",
       "      <td>2005 Q1</td>\n",
       "    </tr>\n",
       "    <tr>\n",
       "      <th>2</th>\n",
       "      <td>J2373</td>\n",
       "      <td>00EY</td>\n",
       "      <td>E06000009</td>\n",
       "      <td>Blackpool UA</td>\n",
       "      <td>20</td>\n",
       "      <td>10</td>\n",
       "      <td>0</td>\n",
       "      <td>30</td>\n",
       "      <td>60</td>\n",
       "      <td>40</td>\n",
       "      <td>0</td>\n",
       "      <td>100</td>\n",
       "      <td>2005 Q1</td>\n",
       "    </tr>\n",
       "    <tr>\n",
       "      <th>3</th>\n",
       "      <td>G1250</td>\n",
       "      <td>00HN</td>\n",
       "      <td>E06000028</td>\n",
       "      <td>Bournemouth UA</td>\n",
       "      <td>90</td>\n",
       "      <td>0</td>\n",
       "      <td>0</td>\n",
       "      <td>90</td>\n",
       "      <td>110</td>\n",
       "      <td>10</td>\n",
       "      <td>0</td>\n",
       "      <td>120</td>\n",
       "      <td>2005 Q1</td>\n",
       "    </tr>\n",
       "    <tr>\n",
       "      <th>4</th>\n",
       "      <td>R0335</td>\n",
       "      <td>00MA</td>\n",
       "      <td>E06000036</td>\n",
       "      <td>Bracknell Forest UA</td>\n",
       "      <td>80</td>\n",
       "      <td>20</td>\n",
       "      <td>0</td>\n",
       "      <td>100</td>\n",
       "      <td>40</td>\n",
       "      <td>10</td>\n",
       "      <td>0</td>\n",
       "      <td>50</td>\n",
       "      <td>2005 Q1</td>\n",
       "    </tr>\n",
       "  </tbody>\n",
       "</table>\n",
       "</div>"
      ],
      "text/plain": [
       "  DLUHC Code Former ONS Code   ONS Code                  Local Authority  \\\n",
       "0      F0114            00HA  E06000022  Bath and North East Somerset UA   \n",
       "1      M2372            00EX  E06000008         Blackburn with Darwen UA   \n",
       "2      J2373            00EY  E06000009                     Blackpool UA   \n",
       "3      G1250            00HN  E06000028                   Bournemouth UA   \n",
       "4      R0335            00MA  E06000036              Bracknell Forest UA   \n",
       "\n",
       "   DS_P  DS_HA  DS_LA  DS_Total  DC_P  DC_HA  DC_LA  DC_Total  quarter  \n",
       "0    40     20      0        60    30      0      0        30  2005 Q1  \n",
       "1    30      0      0        30   110     10      0       120  2005 Q1  \n",
       "2    20     10      0        30    60     40      0       100  2005 Q1  \n",
       "3    90      0      0        90   110     10      0       120  2005 Q1  \n",
       "4    80     20      0       100    40     10      0        50  2005 Q1  "
      ]
     },
     "execution_count": 57,
     "metadata": {},
     "output_type": "execute_result"
    }
   ],
   "source": [
    "df1 = pd.read_excel('Dwellings by LA 2005-2021, Quarterly.xlsx', index_col=0)\n",
    "df1.head()"
   ]
  },
  {
   "cell_type": "code",
   "execution_count": 4,
   "metadata": {},
   "outputs": [
    {
     "data": {
      "text/html": [
       "<div>\n",
       "<style scoped>\n",
       "    .dataframe tbody tr th:only-of-type {\n",
       "        vertical-align: middle;\n",
       "    }\n",
       "\n",
       "    .dataframe tbody tr th {\n",
       "        vertical-align: top;\n",
       "    }\n",
       "\n",
       "    .dataframe thead th {\n",
       "        text-align: right;\n",
       "    }\n",
       "</style>\n",
       "<table border=\"1\" class=\"dataframe\">\n",
       "  <thead>\n",
       "    <tr style=\"text-align: right;\">\n",
       "      <th></th>\n",
       "      <th>LA_code</th>\n",
       "      <th>LA</th>\n",
       "      <th>quarter</th>\n",
       "      <th>median</th>\n",
       "      <th>cpih</th>\n",
       "      <th>real_median</th>\n",
       "    </tr>\n",
       "  </thead>\n",
       "  <tbody>\n",
       "    <tr>\n",
       "      <th>0</th>\n",
       "      <td>E06000001</td>\n",
       "      <td>Hartlepool</td>\n",
       "      <td>1995 Q4</td>\n",
       "      <td>36500.0</td>\n",
       "      <td>67.2</td>\n",
       "      <td>54315.476190</td>\n",
       "    </tr>\n",
       "    <tr>\n",
       "      <th>1</th>\n",
       "      <td>E06000001</td>\n",
       "      <td>Hartlepool</td>\n",
       "      <td>1996 Q1</td>\n",
       "      <td>37500.0</td>\n",
       "      <td>67.7</td>\n",
       "      <td>55391.432792</td>\n",
       "    </tr>\n",
       "    <tr>\n",
       "      <th>2</th>\n",
       "      <td>E06000001</td>\n",
       "      <td>Hartlepool</td>\n",
       "      <td>1996 Q2</td>\n",
       "      <td>38500.0</td>\n",
       "      <td>68.5</td>\n",
       "      <td>56204.379562</td>\n",
       "    </tr>\n",
       "    <tr>\n",
       "      <th>3</th>\n",
       "      <td>E06000001</td>\n",
       "      <td>Hartlepool</td>\n",
       "      <td>1996 Q3</td>\n",
       "      <td>39000.0</td>\n",
       "      <td>68.7</td>\n",
       "      <td>56768.558952</td>\n",
       "    </tr>\n",
       "    <tr>\n",
       "      <th>4</th>\n",
       "      <td>E06000001</td>\n",
       "      <td>Hartlepool</td>\n",
       "      <td>1996 Q4</td>\n",
       "      <td>40000.0</td>\n",
       "      <td>69.2</td>\n",
       "      <td>57803.468208</td>\n",
       "    </tr>\n",
       "  </tbody>\n",
       "</table>\n",
       "</div>"
      ],
      "text/plain": [
       "     LA_code          LA  quarter   median  cpih   real_median\n",
       "0  E06000001  Hartlepool  1995 Q4  36500.0  67.2  54315.476190\n",
       "1  E06000001  Hartlepool  1996 Q1  37500.0  67.7  55391.432792\n",
       "2  E06000001  Hartlepool  1996 Q2  38500.0  68.5  56204.379562\n",
       "3  E06000001  Hartlepool  1996 Q3  39000.0  68.7  56768.558952\n",
       "4  E06000001  Hartlepool  1996 Q4  40000.0  69.2  57803.468208"
      ]
     },
     "execution_count": 4,
     "metadata": {},
     "output_type": "execute_result"
    }
   ],
   "source": [
    "df2 = pd.read_excel('2015 Real Median House Price by LA 1995-2021, Quarterly.xlsx', index_col=0)\n",
    "df2.head()"
   ]
  },
  {
   "cell_type": "code",
   "execution_count": 6,
   "metadata": {},
   "outputs": [
    {
     "data": {
      "text/html": [
       "<div>\n",
       "<style scoped>\n",
       "    .dataframe tbody tr th:only-of-type {\n",
       "        vertical-align: middle;\n",
       "    }\n",
       "\n",
       "    .dataframe tbody tr th {\n",
       "        vertical-align: top;\n",
       "    }\n",
       "\n",
       "    .dataframe thead th {\n",
       "        text-align: right;\n",
       "    }\n",
       "</style>\n",
       "<table border=\"1\" class=\"dataframe\">\n",
       "  <thead>\n",
       "    <tr style=\"text-align: right;\">\n",
       "      <th></th>\n",
       "      <th>quarter</th>\n",
       "      <th>interest_rate</th>\n",
       "      <th>cpih</th>\n",
       "      <th>inflation_rate</th>\n",
       "      <th>real_interest</th>\n",
       "    </tr>\n",
       "  </thead>\n",
       "  <tbody>\n",
       "    <tr>\n",
       "      <th>0</th>\n",
       "      <td>1995 Q1</td>\n",
       "      <td>8.661467</td>\n",
       "      <td>65.7</td>\n",
       "      <td>NaN</td>\n",
       "      <td>NaN</td>\n",
       "    </tr>\n",
       "    <tr>\n",
       "      <th>1</th>\n",
       "      <td>1995 Q2</td>\n",
       "      <td>8.242567</td>\n",
       "      <td>66.7</td>\n",
       "      <td>1.522070</td>\n",
       "      <td>6.720497</td>\n",
       "    </tr>\n",
       "    <tr>\n",
       "      <th>2</th>\n",
       "      <td>1995 Q3</td>\n",
       "      <td>8.108933</td>\n",
       "      <td>66.9</td>\n",
       "      <td>0.299850</td>\n",
       "      <td>7.809083</td>\n",
       "    </tr>\n",
       "    <tr>\n",
       "      <th>3</th>\n",
       "      <td>1995 Q4</td>\n",
       "      <td>7.788167</td>\n",
       "      <td>67.2</td>\n",
       "      <td>0.448430</td>\n",
       "      <td>7.339736</td>\n",
       "    </tr>\n",
       "    <tr>\n",
       "      <th>4</th>\n",
       "      <td>1996 Q1</td>\n",
       "      <td>7.753200</td>\n",
       "      <td>67.7</td>\n",
       "      <td>0.744048</td>\n",
       "      <td>7.009152</td>\n",
       "    </tr>\n",
       "  </tbody>\n",
       "</table>\n",
       "</div>"
      ],
      "text/plain": [
       "   quarter  interest_rate  cpih  inflation_rate  real_interest\n",
       "0  1995 Q1       8.661467  65.7             NaN            NaN\n",
       "1  1995 Q2       8.242567  66.7        1.522070       6.720497\n",
       "2  1995 Q3       8.108933  66.9        0.299850       7.809083\n",
       "3  1995 Q4       7.788167  67.2        0.448430       7.339736\n",
       "4  1996 Q1       7.753200  67.7        0.744048       7.009152"
      ]
     },
     "execution_count": 6,
     "metadata": {},
     "output_type": "execute_result"
    }
   ],
   "source": [
    "df3 = pd.read_excel('Real Interest Rates 1995-2021, Quarterly.xlsx', index_col=0)\n",
    "df3.head()"
   ]
  },
  {
   "cell_type": "code",
   "execution_count": 58,
   "metadata": {},
   "outputs": [],
   "source": [
    "df1 = df1[['ONS Code','Local Authority','DC_Total','quarter']]\n",
    "df1.rename(columns={'ONS Code':'LA_code','Local Authority':'LA'}, inplace=True)"
   ]
  },
  {
   "cell_type": "code",
   "execution_count": 13,
   "metadata": {},
   "outputs": [],
   "source": [
    "df2 = df2[['LA_code','LA','quarter','real_median']]"
   ]
  },
  {
   "cell_type": "code",
   "execution_count": 55,
   "metadata": {},
   "outputs": [
    {
     "name": "stdout",
     "output_type": "stream",
     "text": [
      "['Bournemouth UA']\n",
      "['Poole UA']\n",
      "['Gateshead']\n",
      "['Bedford']\n",
      "['Mid Bedfordshire']\n",
      "['South Bedfordshire']\n",
      "['Aylesbury Vale']\n",
      "['Chiltern']\n",
      "['South Bucks']\n",
      "['Wycombe']\n",
      "['Chester']\n",
      "['Congleton']\n",
      "['Crewe and Nantwich']\n",
      "['Ellesmere Port & Neston']\n",
      "['Macclesfield']\n",
      "['Vale Royal']\n",
      "['Caradon']\n",
      "['Carrick']\n",
      "['Isles of Scilly']\n",
      "['Kerrier']\n",
      "['North Cornwall']\n",
      "['Penwith']\n",
      "['Restormel']\n",
      "['Christchurch']\n",
      "['East Dorset']\n",
      "['North Dorset']\n",
      "['Purbeck']\n",
      "['West Dorset']\n",
      "['Weymouth and Portland']\n",
      "['Chester-le-Street']\n",
      "['Derwentside']\n",
      "['Durham']\n",
      "['Easington']\n",
      "['Sedgefield']\n",
      "['Teesdale']\n",
      "['Wear Valley']\n",
      "['East Hertfordshire']\n",
      "['St Albans']\n",
      "['Stevenage']\n",
      "['Welwyn Hatfield']\n",
      "['Corby']\n",
      "['Daventry']\n",
      "['East Northamptonshire']\n",
      "['Kettering']\n",
      "['Northampton']\n",
      "['South Northamptonshire']\n",
      "['Wellingborough']\n",
      "['Alnwick']\n",
      "['Berwick-upon-Tweed']\n",
      "['Blyth Valley']\n",
      "['Castle Morpeth']\n",
      "['Tynedale']\n",
      "['Wansbeck']\n",
      "['Bridgnorth']\n",
      "['North Shropshire']\n",
      "['Oswestry']\n",
      "['Shrewsbury and Atcham']\n",
      "['South Shropshire']\n",
      "['Taunton Deane']\n",
      "['West Somerset']\n",
      "['Forest Heath']\n",
      "['St Edmundsbury']\n",
      "['Suffolk Coastal']\n",
      "['Waveney']\n",
      "['Kennet']\n",
      "['North Wiltshire']\n",
      "['Salisbury']\n",
      "['West Wiltshire']\n",
      "['Northumberland UA']\n"
     ]
    }
   ],
   "source": [
    "for x in df1.LA_code.unique():\n",
    "    if x not in df2.LA_code.unique():\n",
    "        print(df1[df1.loc[:,'LA_code']==x].LA.unique())"
   ]
  },
  {
   "cell_type": "code",
   "execution_count": 59,
   "metadata": {},
   "outputs": [
    {
     "data": {
      "text/plain": [
       "378"
      ]
     },
     "execution_count": 59,
     "metadata": {},
     "output_type": "execute_result"
    }
   ],
   "source": [
    "len(df1.LA_code.unique())"
   ]
  },
  {
   "cell_type": "code",
   "execution_count": 60,
   "metadata": {},
   "outputs": [
    {
     "data": {
      "text/plain": [
       "331"
      ]
     },
     "execution_count": 60,
     "metadata": {},
     "output_type": "execute_result"
    }
   ],
   "source": [
    "len(df2.LA_code.unique())"
   ]
  },
  {
   "cell_type": "code",
   "execution_count": 38,
   "metadata": {},
   "outputs": [
    {
     "name": "stdout",
     "output_type": "stream",
     "text": [
      "['W06000001']\n",
      "['W06000002']\n",
      "['W06000003']\n",
      "['W06000004']\n",
      "['W06000005']\n",
      "['W06000006']\n",
      "['W06000008']\n",
      "['W06000009']\n",
      "['W06000010']\n",
      "['W06000011']\n",
      "['W06000012']\n",
      "['W06000013']\n",
      "['W06000014']\n",
      "['W06000015']\n",
      "['W06000016']\n",
      "['W06000018']\n",
      "['W06000019']\n",
      "['W06000020']\n",
      "['W06000021']\n",
      "['W06000022']\n",
      "['W06000023']\n",
      "['W06000024']\n"
     ]
    }
   ],
   "source": [
    "for x in df2.LA_code.unique():\n",
    "    if x not in df1.LA_code.unique():\n",
    "        print(df2[df2.loc[:,'LA_code']==x].LA_code.unique())"
   ]
  },
  {
   "cell_type": "code",
   "execution_count": 66,
   "metadata": {},
   "outputs": [],
   "source": [
    "df = pd.merge(df1,df2,on=['LA_code','quarter'],how='inner')\n",
    "df.drop(columns='LA_y',inplace=True)\n",
    "df.rename(columns={'LA_x':'LA'},inplace=True)"
   ]
  },
  {
   "cell_type": "code",
   "execution_count": 68,
   "metadata": {},
   "outputs": [
    {
     "data": {
      "text/html": [
       "<div>\n",
       "<style scoped>\n",
       "    .dataframe tbody tr th:only-of-type {\n",
       "        vertical-align: middle;\n",
       "    }\n",
       "\n",
       "    .dataframe tbody tr th {\n",
       "        vertical-align: top;\n",
       "    }\n",
       "\n",
       "    .dataframe thead th {\n",
       "        text-align: right;\n",
       "    }\n",
       "</style>\n",
       "<table border=\"1\" class=\"dataframe\">\n",
       "  <thead>\n",
       "    <tr style=\"text-align: right;\">\n",
       "      <th></th>\n",
       "      <th>LA_code</th>\n",
       "      <th>LA</th>\n",
       "      <th>DC_Total</th>\n",
       "      <th>quarter</th>\n",
       "      <th>real_median</th>\n",
       "    </tr>\n",
       "  </thead>\n",
       "  <tbody>\n",
       "    <tr>\n",
       "      <th>0</th>\n",
       "      <td>E06000022</td>\n",
       "      <td>Bath and North East Somerset UA</td>\n",
       "      <td>30</td>\n",
       "      <td>2005 Q1</td>\n",
       "      <td>245350.318471</td>\n",
       "    </tr>\n",
       "    <tr>\n",
       "      <th>1</th>\n",
       "      <td>E06000008</td>\n",
       "      <td>Blackburn with Darwen UA</td>\n",
       "      <td>120</td>\n",
       "      <td>2005 Q1</td>\n",
       "      <td>92993.630573</td>\n",
       "    </tr>\n",
       "    <tr>\n",
       "      <th>2</th>\n",
       "      <td>E06000009</td>\n",
       "      <td>Blackpool UA</td>\n",
       "      <td>100</td>\n",
       "      <td>2005 Q1</td>\n",
       "      <td>122292.993631</td>\n",
       "    </tr>\n",
       "    <tr>\n",
       "      <th>3</th>\n",
       "      <td>E06000036</td>\n",
       "      <td>Bracknell Forest UA</td>\n",
       "      <td>50</td>\n",
       "      <td>2005 Q1</td>\n",
       "      <td>235668.789809</td>\n",
       "    </tr>\n",
       "    <tr>\n",
       "      <th>4</th>\n",
       "      <td>E06000043</td>\n",
       "      <td>Brighton and Hove UA</td>\n",
       "      <td>110</td>\n",
       "      <td>2005 Q1</td>\n",
       "      <td>235668.789809</td>\n",
       "    </tr>\n",
       "  </tbody>\n",
       "</table>\n",
       "</div>"
      ],
      "text/plain": [
       "     LA_code                               LA  DC_Total  quarter  \\\n",
       "0  E06000022  Bath and North East Somerset UA        30  2005 Q1   \n",
       "1  E06000008         Blackburn with Darwen UA       120  2005 Q1   \n",
       "2  E06000009                     Blackpool UA       100  2005 Q1   \n",
       "3  E06000036              Bracknell Forest UA        50  2005 Q1   \n",
       "4  E06000043             Brighton and Hove UA       110  2005 Q1   \n",
       "\n",
       "     real_median  \n",
       "0  245350.318471  \n",
       "1   92993.630573  \n",
       "2  122292.993631  \n",
       "3  235668.789809  \n",
       "4  235668.789809  "
      ]
     },
     "execution_count": 68,
     "metadata": {},
     "output_type": "execute_result"
    }
   ],
   "source": [
    "df.head()"
   ]
  },
  {
   "cell_type": "code",
   "execution_count": 91,
   "metadata": {},
   "outputs": [
    {
     "data": {
      "text/plain": [
       "n    23\n",
       "dtype: int64"
      ]
     },
     "execution_count": 91,
     "metadata": {},
     "output_type": "execute_result"
    }
   ],
   "source": [
    "counter = df[['LA_code','quarter']].groupby('LA_code').count().rename(columns={'quarter':'n'})\n",
    "counter[counter.loc[:,'n']!=67].count()"
   ]
  },
  {
   "cell_type": "code",
   "execution_count": 90,
   "metadata": {},
   "outputs": [
    {
     "data": {
      "text/plain": [
       "309"
      ]
     },
     "execution_count": 90,
     "metadata": {},
     "output_type": "execute_result"
    }
   ],
   "source": [
    "len(df.LA_code.unique())"
   ]
  },
  {
   "cell_type": "code",
   "execution_count": null,
   "metadata": {},
   "outputs": [],
   "source": []
  }
 ],
 "metadata": {
  "interpreter": {
   "hash": "afcbf81318a229b4525fb6e135028dc6563b1b027cefba10fdf5bdd956634443"
  },
  "kernelspec": {
   "display_name": "Python 3.10.4 64-bit",
   "language": "python",
   "name": "python3"
  },
  "language_info": {
   "codemirror_mode": {
    "name": "ipython",
    "version": 3
   },
   "file_extension": ".py",
   "mimetype": "text/x-python",
   "name": "python",
   "nbconvert_exporter": "python",
   "pygments_lexer": "ipython3",
   "version": "3.10.4"
  },
  "orig_nbformat": 4
 },
 "nbformat": 4,
 "nbformat_minor": 2
}
