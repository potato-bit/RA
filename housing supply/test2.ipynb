{
 "cells": [
  {
   "cell_type": "code",
   "execution_count": 1,
   "metadata": {},
   "outputs": [],
   "source": [
    "import pandas as pd\n",
    "import numpy as np\n",
    "import matplotlib.pyplot as plt\n",
    "%matplotlib inline\n",
    "\n",
    "from statsmodels.tsa.api import VAR\n",
    "from statsmodels.tsa.stattools import adfuller\n",
    "from statsmodels.tools.eval_measures import rmse, aic"
   ]
  },
  {
   "cell_type": "code",
   "execution_count": 7,
   "metadata": {},
   "outputs": [
    {
     "data": {
      "text/html": [
       "<div>\n",
       "<style scoped>\n",
       "    .dataframe tbody tr th:only-of-type {\n",
       "        vertical-align: middle;\n",
       "    }\n",
       "\n",
       "    .dataframe tbody tr th {\n",
       "        vertical-align: top;\n",
       "    }\n",
       "\n",
       "    .dataframe thead th {\n",
       "        text-align: right;\n",
       "    }\n",
       "</style>\n",
       "<table border=\"1\" class=\"dataframe\">\n",
       "  <thead>\n",
       "    <tr style=\"text-align: right;\">\n",
       "      <th></th>\n",
       "      <th>LA_code</th>\n",
       "      <th>LA</th>\n",
       "      <th>quarter</th>\n",
       "      <th>DC_Total</th>\n",
       "      <th>real_median</th>\n",
       "      <th>real_interest</th>\n",
       "      <th>date</th>\n",
       "    </tr>\n",
       "  </thead>\n",
       "  <tbody>\n",
       "    <tr>\n",
       "      <th>0</th>\n",
       "      <td>E06000001</td>\n",
       "      <td>Hartlepool UA</td>\n",
       "      <td>2005 Q1</td>\n",
       "      <td>50</td>\n",
       "      <td>68789.808917</td>\n",
       "      <td>4.386672</td>\n",
       "      <td>2005-01-01</td>\n",
       "    </tr>\n",
       "    <tr>\n",
       "      <th>1</th>\n",
       "      <td>E06000002</td>\n",
       "      <td>Middlesbrough UA</td>\n",
       "      <td>2005 Q1</td>\n",
       "      <td>70</td>\n",
       "      <td>87898.089172</td>\n",
       "      <td>4.386672</td>\n",
       "      <td>2005-01-01</td>\n",
       "    </tr>\n",
       "    <tr>\n",
       "      <th>2</th>\n",
       "      <td>E06000003</td>\n",
       "      <td>Redcar and Cleveland UA</td>\n",
       "      <td>2005 Q1</td>\n",
       "      <td>30</td>\n",
       "      <td>121019.108280</td>\n",
       "      <td>4.386672</td>\n",
       "      <td>2005-01-01</td>\n",
       "    </tr>\n",
       "    <tr>\n",
       "      <th>3</th>\n",
       "      <td>E06000004</td>\n",
       "      <td>Stockton-on-Tees UA</td>\n",
       "      <td>2005 Q1</td>\n",
       "      <td>80</td>\n",
       "      <td>140127.388535</td>\n",
       "      <td>4.386672</td>\n",
       "      <td>2005-01-01</td>\n",
       "    </tr>\n",
       "    <tr>\n",
       "      <th>4</th>\n",
       "      <td>E06000005</td>\n",
       "      <td>Darlington UA</td>\n",
       "      <td>2005 Q1</td>\n",
       "      <td>140</td>\n",
       "      <td>136942.675159</td>\n",
       "      <td>4.386672</td>\n",
       "      <td>2005-01-01</td>\n",
       "    </tr>\n",
       "  </tbody>\n",
       "</table>\n",
       "</div>"
      ],
      "text/plain": [
       "     LA_code                       LA  quarter  DC_Total    real_median  \\\n",
       "0  E06000001            Hartlepool UA  2005 Q1        50   68789.808917   \n",
       "1  E06000002         Middlesbrough UA  2005 Q1        70   87898.089172   \n",
       "2  E06000003  Redcar and Cleveland UA  2005 Q1        30  121019.108280   \n",
       "3  E06000004      Stockton-on-Tees UA  2005 Q1        80  140127.388535   \n",
       "4  E06000005            Darlington UA  2005 Q1       140  136942.675159   \n",
       "\n",
       "   real_interest       date  \n",
       "0       4.386672 2005-01-01  \n",
       "1       4.386672 2005-01-01  \n",
       "2       4.386672 2005-01-01  \n",
       "3       4.386672 2005-01-01  \n",
       "4       4.386672 2005-01-01  "
      ]
     },
     "execution_count": 7,
     "metadata": {},
     "output_type": "execute_result"
    }
   ],
   "source": [
    "df = pd.read_excel('D:\\Documents\\projects\\RA\\cleaned datasets\\combined.xlsx',index_col=0)\n",
    "df.head()"
   ]
  },
  {
   "cell_type": "code",
   "execution_count": null,
   "metadata": {},
   "outputs": [],
   "source": []
  }
 ],
 "metadata": {
  "interpreter": {
   "hash": "afcbf81318a229b4525fb6e135028dc6563b1b027cefba10fdf5bdd956634443"
  },
  "kernelspec": {
   "display_name": "Python 3.10.4 64-bit",
   "language": "python",
   "name": "python3"
  },
  "language_info": {
   "codemirror_mode": {
    "name": "ipython",
    "version": 3
   },
   "file_extension": ".py",
   "mimetype": "text/x-python",
   "name": "python",
   "nbconvert_exporter": "python",
   "pygments_lexer": "ipython3",
   "version": "3.10.4"
  },
  "orig_nbformat": 4
 },
 "nbformat": 4,
 "nbformat_minor": 2
}
