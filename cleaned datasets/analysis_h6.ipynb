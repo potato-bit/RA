{
 "cells": [
  {
   "cell_type": "markdown",
   "metadata": {},
   "source": [
    "# The Effects of Policy H6 on Social Housing"
   ]
  },
  {
   "cell_type": "markdown",
   "metadata": {},
   "source": [
    "Importing required packages"
   ]
  },
  {
   "cell_type": "code",
   "execution_count": 1,
   "metadata": {},
   "outputs": [],
   "source": [
    "import pandas as pd\n",
    "import numpy as np\n",
    "import matplotlib.pyplot as plt\n",
    "import seaborn as sns"
   ]
  },
  {
   "cell_type": "markdown",
   "metadata": {},
   "source": [
    "## Affordable Housing in Coventry"
   ]
  },
  {
   "cell_type": "markdown",
   "metadata": {},
   "source": [
    "We begin our analysis looking at the delivery of different components of affordable housing (affordable rent and social rent) within Coventry, comparing them to the overall housing market and the housing requirements set out by the Local Plan. "
   ]
  },
  {
   "cell_type": "markdown",
   "metadata": {},
   "source": [
    "\n",
    "Primarily, we are interested in how Policy H6 affects social housing in Coventry specifically, since there are no explicit requirements on social housing within the plan. The Local Plan sets out that new developments with >25 dwellings or >1ha in area must provide 25% of its dwellings as affordable housing. Further, the Local Plan assesses affordable housing need at the first 4 digits of the postcode level to determine areas of high existing stock of social housing (>1,500 properties) and areas of low existing stock of social housing (<500 properties). Anything in between is determined as medium concentration. Within the geographic areas, the provision of affordable housing is as follows:\n",
    "\n",
    "* In areas of high concentration: 10% Social/Affordable Rental Provision; 15% Intermediate Provision\n",
    "* In areas of medium concentration: 12.5% Social/Affordable Rental Provision; 12.5% Intermediate Provision\n",
    "* In areas of low concentration: 15% Social/Affordable Rental Provision; 10% Intermediate Provision\n",
    "\n",
    "We assume the intention of this policy is to bring up the level of affordable housing in areas of low concentration but is this setting up misaligned incentives? Areas of high concentration of social housing require fewer social houses making it more attractive to developers (because it gets higher rents) reducing the concentration of social housing and areas of low concentration don’t get as much development (because of the higher social/affordable housing requirement).\n",
    "\n",
    "The Local Plan also recommends that the housing mix of affordable housing should follow the latest SHMA/SHLAA which suggests that houses with 3 or more bedrooms should make up 50% of the housing mix. However, as the 2021 Homefinder data suggests, houses with 3 or more bedrooms only make 14% of socially rented homes. We assume that since Policy H6 does not set out explicit requirements on the size of homes provided within the plan, developers might be building larger homes for the more profitable Intermediate Homes or Affordable Rent sector rather than the social rent sectors which is mostly made up of bedsits, 1BR, and 2BR homes. \n",
    "\n",
    "Finally the Council understands that it may not always be possible for developers to provide the full 25% at every site and thus allows developers to make viability arguments and reach alternative solutions such as off-site delivery or commuted sum payments through the S106 developer's contribution agreement. We expect that this avenue has a significant effect on the delivery of socially rented homes in Coventry and may be contributing to the undersupply problem of homes for Coventry's social housing market.\n",
    "\n"
   ]
  },
  {
   "cell_type": "markdown",
   "metadata": {},
   "source": [
    "In this report we hope to answer the following questions:\n",
    "\n",
    "* How has Policy H6 affected social housing specifically?\n",
    "* Has Policy H6 succesfully rebalanced the concetration of Affordable Housing (and specifically social housing) in Coventry?\n",
    "* How has Policy H6 affected the housing mix of affordable housing and social housing?\n",
    "* How have viability arguments/settlements affected the delivery of social housing in Coventry?\n",
    "\n"
   ]
  },
  {
   "cell_type": "markdown",
   "metadata": {},
   "source": [
    "## Exploring Housing Supply in Coventry"
   ]
  },
  {
   "cell_type": "markdown",
   "metadata": {},
   "source": [
    "We begin this analysis by exploring the housing market of Coventry. We compare net dwellings per year to additional affordable, social, and intermediate housing. We try to identify any trends so it may inform analysis going forward. We also compare affordable housing delivery to the target set by the Council to meet their housing need of 348 homes/year. We also look at how social housing and affordable housing diverges in their delivery and the falling delivery of social housing. Finally, we compare the affordable housing market in Coventry with the rest of the UK."
   ]
  },
  {
   "cell_type": "markdown",
   "metadata": {},
   "source": [
    "### Data"
   ]
  },
  {
   "cell_type": "markdown",
   "metadata": {},
   "source": [
    "For our data on net dwellings, we use the Department for Levelling Up, Housing, and Communities (DLUHC) and Ministry of Housing, Communities and Local Government (MHCLG) Live Table 122 available [here](https://assets.publishing.service.gov.uk/government/uploads/system/uploads/attachment_data/file/1035591/Live_Table_122.ods 'Live Table 122'). For our data on additional dwellings for social housing, affordable housing, and intermediate rent - we use DLUHC Live Tables 1006-1008 available [here](https://assets.publishing.service.gov.uk/government/uploads/system/uploads/attachment_data/file/1034087/Live_Tables_1006-1009.ods 'Live Table 1006-1009').\n",
    "\n",
    "The data is prepared for analysis prior to importing, the process is documented in the files titled `netdwellings.ipynb`, `socialrent.ipynb`, `totalaffordablerent.ipynb`, `affordablerent.ipynb`, `affordablehomes.ipynb` and `intermediaterent.ipynb`. \n",
    "\n",
    "Total Affordable Rent is the sum of socially rented and affordable rent dwellings."
   ]
  },
  {
   "cell_type": "markdown",
   "metadata": {},
   "source": [
    "#### Importing data"
   ]
  },
  {
   "cell_type": "code",
   "execution_count": 54,
   "metadata": {},
   "outputs": [],
   "source": [
    "df_netD = pd.read_excel('Net Dwellings by LA, 2001-2021.xlsx',na_values=['..']) # net dwellings\n",
    "df_SR = pd.read_excel('Socially Rented Dwellings by LA, 1992-2021.xlsx')        # socially rented\n",
    "df_AR = pd.read_excel('Affordable Rent Dwellings by LA, 2011-2021.xlsx')        # affordable rent\n",
    "df_AH = pd.read_excel('Affordable Home Ownership by LA, 1991-2021.xlsx')        # affordable home ownership\n",
    "df_IR = pd.read_excel('Intermediate Rent Dwellings by LA, 2003-2021.xlsx')      # intermediate rent\n",
    "df_TAR = pd.read_excel('Total Affordable Rent Dwellings by LA, 1992-2021.xlsx') # total affordable rent\n",
    "df_hl = pd.read_excel('Homelessness 2009-2018 by LA.xlsx')                      # homelessness count\n",
    "df_TD = pd.read_excel('New Dwellings by LA 1980-2021.xlsx',na_values=['..'])    # total new dwellings\n",
    "df_NP = pd.read_excel('Number of Properties by Tax Band by LA, 1993-2021.xlsx') # number of properties by tax band"
   ]
  },
  {
   "cell_type": "code",
   "execution_count": 55,
   "metadata": {},
   "outputs": [],
   "source": [
    "for x in [df_netD,df_SR,df_AR,df_AH,df_IR,df_TAR,df_TD,df_NP]:\n",
    "    x.drop(columns='Unnamed: 0',inplace=True)"
   ]
  },
  {
   "cell_type": "code",
   "execution_count": 4,
   "metadata": {},
   "outputs": [],
   "source": [
    "## code for shape and types of dataframes to be inserted"
   ]
  },
  {
   "cell_type": "markdown",
   "metadata": {},
   "source": [
    "Collating datasets into a single dataframe for Coventry"
   ]
  },
  {
   "cell_type": "code",
   "execution_count": 56,
   "metadata": {},
   "outputs": [
    {
     "data": {
      "text/html": [
       "<div>\n",
       "<style scoped>\n",
       "    .dataframe tbody tr th:only-of-type {\n",
       "        vertical-align: middle;\n",
       "    }\n",
       "\n",
       "    .dataframe tbody tr th {\n",
       "        vertical-align: top;\n",
       "    }\n",
       "\n",
       "    .dataframe thead th {\n",
       "        text-align: right;\n",
       "    }\n",
       "</style>\n",
       "<table border=\"1\" class=\"dataframe\">\n",
       "  <thead>\n",
       "    <tr style=\"text-align: right;\">\n",
       "      <th></th>\n",
       "      <th>LA_code</th>\n",
       "      <th>LA</th>\n",
       "      <th>year</th>\n",
       "      <th>TAR</th>\n",
       "    </tr>\n",
       "  </thead>\n",
       "  <tbody>\n",
       "    <tr>\n",
       "      <th>0</th>\n",
       "      <td>E08000026</td>\n",
       "      <td>Coventry</td>\n",
       "      <td>1992</td>\n",
       "      <td>127.0</td>\n",
       "    </tr>\n",
       "    <tr>\n",
       "      <th>1</th>\n",
       "      <td>E08000026</td>\n",
       "      <td>Coventry</td>\n",
       "      <td>1993</td>\n",
       "      <td>331.0</td>\n",
       "    </tr>\n",
       "    <tr>\n",
       "      <th>2</th>\n",
       "      <td>E08000026</td>\n",
       "      <td>Coventry</td>\n",
       "      <td>1994</td>\n",
       "      <td>474.0</td>\n",
       "    </tr>\n",
       "    <tr>\n",
       "      <th>3</th>\n",
       "      <td>E08000026</td>\n",
       "      <td>Coventry</td>\n",
       "      <td>1995</td>\n",
       "      <td>371.0</td>\n",
       "    </tr>\n",
       "    <tr>\n",
       "      <th>4</th>\n",
       "      <td>E08000026</td>\n",
       "      <td>Coventry</td>\n",
       "      <td>1996</td>\n",
       "      <td>315.0</td>\n",
       "    </tr>\n",
       "  </tbody>\n",
       "</table>\n",
       "</div>"
      ],
      "text/plain": [
       "     LA_code        LA  year    TAR\n",
       "0  E08000026  Coventry  1992  127.0\n",
       "1  E08000026  Coventry  1993  331.0\n",
       "2  E08000026  Coventry  1994  474.0\n",
       "3  E08000026  Coventry  1995  371.0\n",
       "4  E08000026  Coventry  1996  315.0"
      ]
     },
     "execution_count": 56,
     "metadata": {},
     "output_type": "execute_result"
    }
   ],
   "source": [
    "dcov = df_TAR[df_TAR.loc[:,'LA']=='Coventry'].copy()\n",
    "dcov.rename(columns={'new_dwellings':'TAR'},inplace=True)\n",
    "dcov.reset_index(drop=True,inplace=True)\n",
    "dcov.head()"
   ]
  },
  {
   "cell_type": "code",
   "execution_count": 57,
   "metadata": {},
   "outputs": [],
   "source": [
    "dcov = pd.merge(dcov,df_netD[['LA_code','year','net dwellings']],how='left',on=['LA_code','year'])\n",
    "dcov.rename(columns={'net dwellings':'netD'},inplace=True)"
   ]
  },
  {
   "cell_type": "code",
   "execution_count": 58,
   "metadata": {},
   "outputs": [],
   "source": [
    "dcov = pd.merge(dcov,df_SR[['LA_code','year','new_dwellings']],how='left',on=['LA_code','year'])\n",
    "dcov.rename(columns={'new_dwellings':'SR'},inplace=True)"
   ]
  },
  {
   "cell_type": "code",
   "execution_count": 59,
   "metadata": {},
   "outputs": [],
   "source": [
    "dcov = pd.merge(dcov,df_AR[['LA_code','year','DC']],how='left',on=['LA_code','year'])\n",
    "dcov.rename(columns={'DC':'AR'},inplace=True)"
   ]
  },
  {
   "cell_type": "code",
   "execution_count": 60,
   "metadata": {},
   "outputs": [],
   "source": [
    "dcov = pd.merge(dcov,df_AH[['LA_code','year','DC']],how='left',on=['LA_code','year'])\n",
    "dcov.rename(columns={'DC':'AH'},inplace=True)"
   ]
  },
  {
   "cell_type": "code",
   "execution_count": 61,
   "metadata": {},
   "outputs": [],
   "source": [
    "dcov = pd.merge(dcov,df_IR[['LA_code','year','DC']],how='left',on=['LA_code','year'])\n",
    "dcov.rename(columns={'DC':'IR'},inplace=True)"
   ]
  },
  {
   "cell_type": "code",
   "execution_count": 62,
   "metadata": {},
   "outputs": [],
   "source": [
    "df_TD.rename(columns={'ONS Code':'LA_code','Local Authority':'LA'},inplace=True)"
   ]
  },
  {
   "cell_type": "code",
   "execution_count": 63,
   "metadata": {},
   "outputs": [],
   "source": [
    "dcov = pd.merge(dcov,df_TD[['LA_code','year','DC_Total']],how='left',on=['LA_code','year'])\n",
    "dcov.rename(columns={'DC_Total':'TD'},inplace=True)"
   ]
  },
  {
   "cell_type": "code",
   "execution_count": 66,
   "metadata": {},
   "outputs": [],
   "source": [
    "dcov = pd.merge(dcov,df_NP,how='left',on=['LA_code','LA','year'])"
   ]
  },
  {
   "cell_type": "code",
   "execution_count": 67,
   "metadata": {},
   "outputs": [
    {
     "data": {
      "text/html": [
       "<div>\n",
       "<style scoped>\n",
       "    .dataframe tbody tr th:only-of-type {\n",
       "        vertical-align: middle;\n",
       "    }\n",
       "\n",
       "    .dataframe tbody tr th {\n",
       "        vertical-align: top;\n",
       "    }\n",
       "\n",
       "    .dataframe thead th {\n",
       "        text-align: right;\n",
       "    }\n",
       "</style>\n",
       "<table border=\"1\" class=\"dataframe\">\n",
       "  <thead>\n",
       "    <tr style=\"text-align: right;\">\n",
       "      <th></th>\n",
       "      <th>LA_code</th>\n",
       "      <th>LA</th>\n",
       "      <th>year</th>\n",
       "      <th>TAR</th>\n",
       "      <th>netD</th>\n",
       "      <th>SR</th>\n",
       "      <th>AR</th>\n",
       "      <th>AH</th>\n",
       "      <th>IR</th>\n",
       "      <th>TD</th>\n",
       "      <th>band_a</th>\n",
       "      <th>band_b</th>\n",
       "      <th>band_c</th>\n",
       "      <th>band_d</th>\n",
       "      <th>band_e</th>\n",
       "      <th>band_f</th>\n",
       "      <th>band_g</th>\n",
       "      <th>band_h</th>\n",
       "      <th>band_i</th>\n",
       "      <th>all_properties</th>\n",
       "    </tr>\n",
       "  </thead>\n",
       "  <tbody>\n",
       "    <tr>\n",
       "      <th>0</th>\n",
       "      <td>E08000026</td>\n",
       "      <td>Coventry</td>\n",
       "      <td>1992</td>\n",
       "      <td>127.0</td>\n",
       "      <td>NaN</td>\n",
       "      <td>102.0</td>\n",
       "      <td>NaN</td>\n",
       "      <td>25.0</td>\n",
       "      <td>NaN</td>\n",
       "      <td>230</td>\n",
       "      <td>NaN</td>\n",
       "      <td>NaN</td>\n",
       "      <td>NaN</td>\n",
       "      <td>NaN</td>\n",
       "      <td>NaN</td>\n",
       "      <td>NaN</td>\n",
       "      <td>NaN</td>\n",
       "      <td>NaN</td>\n",
       "      <td>NaN</td>\n",
       "      <td>NaN</td>\n",
       "    </tr>\n",
       "    <tr>\n",
       "      <th>1</th>\n",
       "      <td>E08000026</td>\n",
       "      <td>Coventry</td>\n",
       "      <td>1993</td>\n",
       "      <td>331.0</td>\n",
       "      <td>NaN</td>\n",
       "      <td>231.0</td>\n",
       "      <td>NaN</td>\n",
       "      <td>100.0</td>\n",
       "      <td>NaN</td>\n",
       "      <td>390</td>\n",
       "      <td>52710.0</td>\n",
       "      <td>36050.0</td>\n",
       "      <td>20880.0</td>\n",
       "      <td>7100.0</td>\n",
       "      <td>3600.0</td>\n",
       "      <td>2050.0</td>\n",
       "      <td>1130.0</td>\n",
       "      <td>160.0</td>\n",
       "      <td>NaN</td>\n",
       "      <td>123680.0</td>\n",
       "    </tr>\n",
       "    <tr>\n",
       "      <th>2</th>\n",
       "      <td>E08000026</td>\n",
       "      <td>Coventry</td>\n",
       "      <td>1994</td>\n",
       "      <td>474.0</td>\n",
       "      <td>NaN</td>\n",
       "      <td>378.0</td>\n",
       "      <td>NaN</td>\n",
       "      <td>96.0</td>\n",
       "      <td>NaN</td>\n",
       "      <td>330</td>\n",
       "      <td>52930.0</td>\n",
       "      <td>36170.0</td>\n",
       "      <td>20710.0</td>\n",
       "      <td>7200.0</td>\n",
       "      <td>3520.0</td>\n",
       "      <td>1990.0</td>\n",
       "      <td>1080.0</td>\n",
       "      <td>150.0</td>\n",
       "      <td>NaN</td>\n",
       "      <td>123750.0</td>\n",
       "    </tr>\n",
       "    <tr>\n",
       "      <th>3</th>\n",
       "      <td>E08000026</td>\n",
       "      <td>Coventry</td>\n",
       "      <td>1995</td>\n",
       "      <td>371.0</td>\n",
       "      <td>NaN</td>\n",
       "      <td>271.0</td>\n",
       "      <td>NaN</td>\n",
       "      <td>100.0</td>\n",
       "      <td>NaN</td>\n",
       "      <td>490</td>\n",
       "      <td>53430.0</td>\n",
       "      <td>36480.0</td>\n",
       "      <td>20490.0</td>\n",
       "      <td>7280.0</td>\n",
       "      <td>3550.0</td>\n",
       "      <td>1920.0</td>\n",
       "      <td>1040.0</td>\n",
       "      <td>150.0</td>\n",
       "      <td>NaN</td>\n",
       "      <td>124340.0</td>\n",
       "    </tr>\n",
       "    <tr>\n",
       "      <th>4</th>\n",
       "      <td>E08000026</td>\n",
       "      <td>Coventry</td>\n",
       "      <td>1996</td>\n",
       "      <td>315.0</td>\n",
       "      <td>NaN</td>\n",
       "      <td>203.0</td>\n",
       "      <td>NaN</td>\n",
       "      <td>112.0</td>\n",
       "      <td>NaN</td>\n",
       "      <td>530</td>\n",
       "      <td>53650.0</td>\n",
       "      <td>36950.0</td>\n",
       "      <td>20270.0</td>\n",
       "      <td>7420.0</td>\n",
       "      <td>3580.0</td>\n",
       "      <td>1910.0</td>\n",
       "      <td>1040.0</td>\n",
       "      <td>150.0</td>\n",
       "      <td>NaN</td>\n",
       "      <td>124960.0</td>\n",
       "    </tr>\n",
       "  </tbody>\n",
       "</table>\n",
       "</div>"
      ],
      "text/plain": [
       "     LA_code        LA  year    TAR  netD     SR  AR     AH  IR   TD   band_a  \\\n",
       "0  E08000026  Coventry  1992  127.0   NaN  102.0 NaN   25.0 NaN  230      NaN   \n",
       "1  E08000026  Coventry  1993  331.0   NaN  231.0 NaN  100.0 NaN  390  52710.0   \n",
       "2  E08000026  Coventry  1994  474.0   NaN  378.0 NaN   96.0 NaN  330  52930.0   \n",
       "3  E08000026  Coventry  1995  371.0   NaN  271.0 NaN  100.0 NaN  490  53430.0   \n",
       "4  E08000026  Coventry  1996  315.0   NaN  203.0 NaN  112.0 NaN  530  53650.0   \n",
       "\n",
       "    band_b   band_c  band_d  band_e  band_f  band_g  band_h  band_i  \\\n",
       "0      NaN      NaN     NaN     NaN     NaN     NaN     NaN     NaN   \n",
       "1  36050.0  20880.0  7100.0  3600.0  2050.0  1130.0   160.0     NaN   \n",
       "2  36170.0  20710.0  7200.0  3520.0  1990.0  1080.0   150.0     NaN   \n",
       "3  36480.0  20490.0  7280.0  3550.0  1920.0  1040.0   150.0     NaN   \n",
       "4  36950.0  20270.0  7420.0  3580.0  1910.0  1040.0   150.0     NaN   \n",
       "\n",
       "   all_properties  \n",
       "0             NaN  \n",
       "1        123680.0  \n",
       "2        123750.0  \n",
       "3        124340.0  \n",
       "4        124960.0  "
      ]
     },
     "execution_count": 67,
     "metadata": {},
     "output_type": "execute_result"
    }
   ],
   "source": [
    "dcov.head()"
   ]
  },
  {
   "cell_type": "code",
   "execution_count": 68,
   "metadata": {},
   "outputs": [
    {
     "data": {
      "text/html": [
       "<div>\n",
       "<style scoped>\n",
       "    .dataframe tbody tr th:only-of-type {\n",
       "        vertical-align: middle;\n",
       "    }\n",
       "\n",
       "    .dataframe tbody tr th {\n",
       "        vertical-align: top;\n",
       "    }\n",
       "\n",
       "    .dataframe thead th {\n",
       "        text-align: right;\n",
       "    }\n",
       "</style>\n",
       "<table border=\"1\" class=\"dataframe\">\n",
       "  <thead>\n",
       "    <tr style=\"text-align: right;\">\n",
       "      <th></th>\n",
       "      <th>LA_code</th>\n",
       "      <th>LA</th>\n",
       "      <th>households</th>\n",
       "      <th>homeless_acc</th>\n",
       "      <th>homeless_pm</th>\n",
       "      <th>TA</th>\n",
       "      <th>TA_pm</th>\n",
       "      <th>no_accom</th>\n",
       "      <th>year</th>\n",
       "      <th>date</th>\n",
       "    </tr>\n",
       "  </thead>\n",
       "  <tbody>\n",
       "    <tr>\n",
       "      <th>272</th>\n",
       "      <td>E08000026</td>\n",
       "      <td>Coventry</td>\n",
       "      <td>127.032</td>\n",
       "      <td>550</td>\n",
       "      <td>4.329618</td>\n",
       "      <td>24</td>\n",
       "      <td>0.188929</td>\n",
       "      <td>0</td>\n",
       "      <td>2009</td>\n",
       "      <td>2009-01-01</td>\n",
       "    </tr>\n",
       "    <tr>\n",
       "      <th>598</th>\n",
       "      <td>E08000026</td>\n",
       "      <td>Coventry</td>\n",
       "      <td>127.000</td>\n",
       "      <td>538</td>\n",
       "      <td>4.23622</td>\n",
       "      <td>39</td>\n",
       "      <td>0.307087</td>\n",
       "      <td>0</td>\n",
       "      <td>2010</td>\n",
       "      <td>2010-01-01</td>\n",
       "    </tr>\n",
       "    <tr>\n",
       "      <th>924</th>\n",
       "      <td>E08000026</td>\n",
       "      <td>Coventry</td>\n",
       "      <td>127.000</td>\n",
       "      <td>703</td>\n",
       "      <td>5.535433</td>\n",
       "      <td>32</td>\n",
       "      <td>0.251969</td>\n",
       "      <td>0</td>\n",
       "      <td>2011</td>\n",
       "      <td>2011-01-01</td>\n",
       "    </tr>\n",
       "    <tr>\n",
       "      <th>1250</th>\n",
       "      <td>E08000026</td>\n",
       "      <td>Coventry</td>\n",
       "      <td>127.000</td>\n",
       "      <td>576</td>\n",
       "      <td>4.54</td>\n",
       "      <td>67</td>\n",
       "      <td>0.53</td>\n",
       "      <td>315</td>\n",
       "      <td>2012</td>\n",
       "      <td>2012-01-01</td>\n",
       "    </tr>\n",
       "    <tr>\n",
       "      <th>1576</th>\n",
       "      <td>E08000026</td>\n",
       "      <td>Coventry</td>\n",
       "      <td>130.690</td>\n",
       "      <td>540</td>\n",
       "      <td>4.13</td>\n",
       "      <td>55</td>\n",
       "      <td>0.42</td>\n",
       "      <td>378</td>\n",
       "      <td>2013</td>\n",
       "      <td>2013-01-01</td>\n",
       "    </tr>\n",
       "  </tbody>\n",
       "</table>\n",
       "</div>"
      ],
      "text/plain": [
       "        LA_code        LA  households homeless_acc homeless_pm  TA     TA_pm  \\\n",
       "272   E08000026  Coventry     127.032          550    4.329618  24  0.188929   \n",
       "598   E08000026  Coventry     127.000          538     4.23622  39  0.307087   \n",
       "924   E08000026  Coventry     127.000          703    5.535433  32  0.251969   \n",
       "1250  E08000026  Coventry     127.000          576        4.54  67      0.53   \n",
       "1576  E08000026  Coventry     130.690          540        4.13  55      0.42   \n",
       "\n",
       "     no_accom  year       date  \n",
       "272         0  2009 2009-01-01  \n",
       "598         0  2010 2010-01-01  \n",
       "924         0  2011 2011-01-01  \n",
       "1250      315  2012 2012-01-01  \n",
       "1576      378  2013 2013-01-01  "
      ]
     },
     "execution_count": 68,
     "metadata": {},
     "output_type": "execute_result"
    }
   ],
   "source": [
    "dcov_hl = df_hl[df_hl.loc[:,'LA']=='Coventry'].copy()\n",
    "dcov_hl.head()"
   ]
  },
  {
   "cell_type": "code",
   "execution_count": null,
   "metadata": {},
   "outputs": [],
   "source": []
  },
  {
   "cell_type": "markdown",
   "metadata": {},
   "source": [
    "### Analysis"
   ]
  },
  {
   "cell_type": "markdown",
   "metadata": {},
   "source": [
    "#### Summary Statistics"
   ]
  },
  {
   "cell_type": "markdown",
   "metadata": {},
   "source": [
    "First, for Coventry alone:"
   ]
  },
  {
   "cell_type": "code",
   "execution_count": 69,
   "metadata": {},
   "outputs": [],
   "source": [
    "dcov['TD'] = dcov['TD'].astype(float)"
   ]
  },
  {
   "cell_type": "code",
   "execution_count": 70,
   "metadata": {},
   "outputs": [
    {
     "data": {
      "text/html": [
       "<div>\n",
       "<style scoped>\n",
       "    .dataframe tbody tr th:only-of-type {\n",
       "        vertical-align: middle;\n",
       "    }\n",
       "\n",
       "    .dataframe tbody tr th {\n",
       "        vertical-align: top;\n",
       "    }\n",
       "\n",
       "    .dataframe thead th {\n",
       "        text-align: right;\n",
       "    }\n",
       "</style>\n",
       "<table border=\"1\" class=\"dataframe\">\n",
       "  <thead>\n",
       "    <tr style=\"text-align: right;\">\n",
       "      <th></th>\n",
       "      <th>TAR</th>\n",
       "      <th>netD</th>\n",
       "      <th>SR</th>\n",
       "      <th>AR</th>\n",
       "      <th>AH</th>\n",
       "      <th>IR</th>\n",
       "      <th>TD</th>\n",
       "      <th>band_a</th>\n",
       "      <th>band_b</th>\n",
       "      <th>band_c</th>\n",
       "      <th>band_d</th>\n",
       "      <th>band_e</th>\n",
       "      <th>band_f</th>\n",
       "      <th>band_g</th>\n",
       "      <th>band_h</th>\n",
       "      <th>band_i</th>\n",
       "      <th>all_properties</th>\n",
       "    </tr>\n",
       "  </thead>\n",
       "  <tbody>\n",
       "    <tr>\n",
       "      <th>count</th>\n",
       "      <td>30.000000</td>\n",
       "      <td>20.000000</td>\n",
       "      <td>30.000000</td>\n",
       "      <td>10.000000</td>\n",
       "      <td>30.000000</td>\n",
       "      <td>18.000000</td>\n",
       "      <td>27.000000</td>\n",
       "      <td>29.000000</td>\n",
       "      <td>29.000000</td>\n",
       "      <td>29.000000</td>\n",
       "      <td>29.000000</td>\n",
       "      <td>29.000000</td>\n",
       "      <td>29.000000</td>\n",
       "      <td>29.000000</td>\n",
       "      <td>29.000000</td>\n",
       "      <td>0.0</td>\n",
       "      <td>29.000000</td>\n",
       "    </tr>\n",
       "    <tr>\n",
       "      <th>mean</th>\n",
       "      <td>273.533333</td>\n",
       "      <td>924.150000</td>\n",
       "      <td>136.300000</td>\n",
       "      <td>134.600000</td>\n",
       "      <td>73.700000</td>\n",
       "      <td>12.444444</td>\n",
       "      <td>628.888889</td>\n",
       "      <td>55142.068966</td>\n",
       "      <td>39171.034483</td>\n",
       "      <td>21658.965517</td>\n",
       "      <td>8406.206897</td>\n",
       "      <td>4138.620690</td>\n",
       "      <td>2147.586207</td>\n",
       "      <td>1258.965517</td>\n",
       "      <td>163.103448</td>\n",
       "      <td>NaN</td>\n",
       "      <td>132082.758621</td>\n",
       "    </tr>\n",
       "    <tr>\n",
       "      <th>std</th>\n",
       "      <td>111.972821</td>\n",
       "      <td>471.909812</td>\n",
       "      <td>88.817577</td>\n",
       "      <td>84.322397</td>\n",
       "      <td>55.964367</td>\n",
       "      <td>17.657600</td>\n",
       "      <td>244.215122</td>\n",
       "      <td>2064.221367</td>\n",
       "      <td>2141.081744</td>\n",
       "      <td>1359.643716</td>\n",
       "      <td>861.578343</td>\n",
       "      <td>407.060228</td>\n",
       "      <td>168.960164</td>\n",
       "      <td>142.185614</td>\n",
       "      <td>8.905636</td>\n",
       "      <td>NaN</td>\n",
       "      <td>7001.863475</td>\n",
       "    </tr>\n",
       "    <tr>\n",
       "      <th>min</th>\n",
       "      <td>100.000000</td>\n",
       "      <td>-8.000000</td>\n",
       "      <td>0.000000</td>\n",
       "      <td>0.000000</td>\n",
       "      <td>0.000000</td>\n",
       "      <td>0.000000</td>\n",
       "      <td>230.000000</td>\n",
       "      <td>52710.000000</td>\n",
       "      <td>36050.000000</td>\n",
       "      <td>20180.000000</td>\n",
       "      <td>7100.000000</td>\n",
       "      <td>3520.000000</td>\n",
       "      <td>1910.000000</td>\n",
       "      <td>1040.000000</td>\n",
       "      <td>150.000000</td>\n",
       "      <td>NaN</td>\n",
       "      <td>123680.000000</td>\n",
       "    </tr>\n",
       "    <tr>\n",
       "      <th>25%</th>\n",
       "      <td>180.250000</td>\n",
       "      <td>629.250000</td>\n",
       "      <td>78.250000</td>\n",
       "      <td>87.000000</td>\n",
       "      <td>27.250000</td>\n",
       "      <td>0.000000</td>\n",
       "      <td>470.000000</td>\n",
       "      <td>53760.000000</td>\n",
       "      <td>37400.000000</td>\n",
       "      <td>20510.000000</td>\n",
       "      <td>7760.000000</td>\n",
       "      <td>3810.000000</td>\n",
       "      <td>2010.000000</td>\n",
       "      <td>1130.000000</td>\n",
       "      <td>160.000000</td>\n",
       "      <td>NaN</td>\n",
       "      <td>126630.000000</td>\n",
       "    </tr>\n",
       "    <tr>\n",
       "      <th>50%</th>\n",
       "      <td>255.000000</td>\n",
       "      <td>915.000000</td>\n",
       "      <td>112.000000</td>\n",
       "      <td>137.000000</td>\n",
       "      <td>76.000000</td>\n",
       "      <td>1.000000</td>\n",
       "      <td>570.000000</td>\n",
       "      <td>54160.000000</td>\n",
       "      <td>38710.000000</td>\n",
       "      <td>21200.000000</td>\n",
       "      <td>8310.000000</td>\n",
       "      <td>4150.000000</td>\n",
       "      <td>2130.000000</td>\n",
       "      <td>1320.000000</td>\n",
       "      <td>160.000000</td>\n",
       "      <td>NaN</td>\n",
       "      <td>129830.000000</td>\n",
       "    </tr>\n",
       "    <tr>\n",
       "      <th>75%</th>\n",
       "      <td>356.250000</td>\n",
       "      <td>1114.000000</td>\n",
       "      <td>199.000000</td>\n",
       "      <td>157.750000</td>\n",
       "      <td>103.000000</td>\n",
       "      <td>26.000000</td>\n",
       "      <td>800.000000</td>\n",
       "      <td>56140.000000</td>\n",
       "      <td>40760.000000</td>\n",
       "      <td>22520.000000</td>\n",
       "      <td>8900.000000</td>\n",
       "      <td>4400.000000</td>\n",
       "      <td>2270.000000</td>\n",
       "      <td>1380.000000</td>\n",
       "      <td>170.000000</td>\n",
       "      <td>NaN</td>\n",
       "      <td>136550.000000</td>\n",
       "    </tr>\n",
       "    <tr>\n",
       "      <th>max</th>\n",
       "      <td>524.000000</td>\n",
       "      <td>2241.000000</td>\n",
       "      <td>378.000000</td>\n",
       "      <td>278.000000</td>\n",
       "      <td>233.000000</td>\n",
       "      <td>50.000000</td>\n",
       "      <td>1220.000000</td>\n",
       "      <td>60840.000000</td>\n",
       "      <td>43270.000000</td>\n",
       "      <td>24530.000000</td>\n",
       "      <td>10280.000000</td>\n",
       "      <td>4890.000000</td>\n",
       "      <td>2490.000000</td>\n",
       "      <td>1450.000000</td>\n",
       "      <td>180.000000</td>\n",
       "      <td>NaN</td>\n",
       "      <td>147930.000000</td>\n",
       "    </tr>\n",
       "  </tbody>\n",
       "</table>\n",
       "</div>"
      ],
      "text/plain": [
       "              TAR         netD          SR          AR          AH         IR  \\\n",
       "count   30.000000    20.000000   30.000000   10.000000   30.000000  18.000000   \n",
       "mean   273.533333   924.150000  136.300000  134.600000   73.700000  12.444444   \n",
       "std    111.972821   471.909812   88.817577   84.322397   55.964367  17.657600   \n",
       "min    100.000000    -8.000000    0.000000    0.000000    0.000000   0.000000   \n",
       "25%    180.250000   629.250000   78.250000   87.000000   27.250000   0.000000   \n",
       "50%    255.000000   915.000000  112.000000  137.000000   76.000000   1.000000   \n",
       "75%    356.250000  1114.000000  199.000000  157.750000  103.000000  26.000000   \n",
       "max    524.000000  2241.000000  378.000000  278.000000  233.000000  50.000000   \n",
       "\n",
       "                TD        band_a        band_b        band_c        band_d  \\\n",
       "count    27.000000     29.000000     29.000000     29.000000     29.000000   \n",
       "mean    628.888889  55142.068966  39171.034483  21658.965517   8406.206897   \n",
       "std     244.215122   2064.221367   2141.081744   1359.643716    861.578343   \n",
       "min     230.000000  52710.000000  36050.000000  20180.000000   7100.000000   \n",
       "25%     470.000000  53760.000000  37400.000000  20510.000000   7760.000000   \n",
       "50%     570.000000  54160.000000  38710.000000  21200.000000   8310.000000   \n",
       "75%     800.000000  56140.000000  40760.000000  22520.000000   8900.000000   \n",
       "max    1220.000000  60840.000000  43270.000000  24530.000000  10280.000000   \n",
       "\n",
       "            band_e       band_f       band_g      band_h  band_i  \\\n",
       "count    29.000000    29.000000    29.000000   29.000000     0.0   \n",
       "mean   4138.620690  2147.586207  1258.965517  163.103448     NaN   \n",
       "std     407.060228   168.960164   142.185614    8.905636     NaN   \n",
       "min    3520.000000  1910.000000  1040.000000  150.000000     NaN   \n",
       "25%    3810.000000  2010.000000  1130.000000  160.000000     NaN   \n",
       "50%    4150.000000  2130.000000  1320.000000  160.000000     NaN   \n",
       "75%    4400.000000  2270.000000  1380.000000  170.000000     NaN   \n",
       "max    4890.000000  2490.000000  1450.000000  180.000000     NaN   \n",
       "\n",
       "       all_properties  \n",
       "count       29.000000  \n",
       "mean    132082.758621  \n",
       "std       7001.863475  \n",
       "min     123680.000000  \n",
       "25%     126630.000000  \n",
       "50%     129830.000000  \n",
       "75%     136550.000000  \n",
       "max     147930.000000  "
      ]
     },
     "execution_count": 70,
     "metadata": {},
     "output_type": "execute_result"
    }
   ],
   "source": [
    "dcov[[x for x in dcov.columns[3:]]].describe()"
   ]
  },
  {
   "cell_type": "markdown",
   "metadata": {},
   "source": [
    "Firstly, note that not all datasets cover the full range of years as seen in the `count` row. Let's examine the summary statistics for the years 2003-2021."
   ]
  },
  {
   "cell_type": "code",
   "execution_count": 71,
   "metadata": {},
   "outputs": [],
   "source": [
    "dcov_t = dcov[dcov.loc[:,'year']>2002].copy()"
   ]
  },
  {
   "cell_type": "code",
   "execution_count": 72,
   "metadata": {},
   "outputs": [
    {
     "data": {
      "text/html": [
       "<div>\n",
       "<style scoped>\n",
       "    .dataframe tbody tr th:only-of-type {\n",
       "        vertical-align: middle;\n",
       "    }\n",
       "\n",
       "    .dataframe tbody tr th {\n",
       "        vertical-align: top;\n",
       "    }\n",
       "\n",
       "    .dataframe thead th {\n",
       "        text-align: right;\n",
       "    }\n",
       "</style>\n",
       "<table border=\"1\" class=\"dataframe\">\n",
       "  <thead>\n",
       "    <tr style=\"text-align: right;\">\n",
       "      <th></th>\n",
       "      <th>TAR</th>\n",
       "      <th>netD</th>\n",
       "      <th>SR</th>\n",
       "      <th>AR</th>\n",
       "      <th>AH</th>\n",
       "      <th>IR</th>\n",
       "      <th>TD</th>\n",
       "      <th>band_a</th>\n",
       "      <th>band_b</th>\n",
       "      <th>band_c</th>\n",
       "      <th>band_d</th>\n",
       "      <th>band_e</th>\n",
       "      <th>band_f</th>\n",
       "      <th>band_g</th>\n",
       "      <th>band_h</th>\n",
       "      <th>band_i</th>\n",
       "      <th>all_properties</th>\n",
       "    </tr>\n",
       "  </thead>\n",
       "  <tbody>\n",
       "    <tr>\n",
       "      <th>count</th>\n",
       "      <td>19.000000</td>\n",
       "      <td>19.000000</td>\n",
       "      <td>19.000000</td>\n",
       "      <td>10.000000</td>\n",
       "      <td>19.000000</td>\n",
       "      <td>18.000000</td>\n",
       "      <td>17.000000</td>\n",
       "      <td>19.000000</td>\n",
       "      <td>19.000000</td>\n",
       "      <td>19.000000</td>\n",
       "      <td>19.000000</td>\n",
       "      <td>19.000000</td>\n",
       "      <td>19.000000</td>\n",
       "      <td>19.000000</td>\n",
       "      <td>19.000000</td>\n",
       "      <td>0.0</td>\n",
       "      <td>19.000000</td>\n",
       "    </tr>\n",
       "    <tr>\n",
       "      <th>mean</th>\n",
       "      <td>291.736842</td>\n",
       "      <td>943.000000</td>\n",
       "      <td>112.263158</td>\n",
       "      <td>134.600000</td>\n",
       "      <td>79.157895</td>\n",
       "      <td>12.444444</td>\n",
       "      <td>748.235294</td>\n",
       "      <td>55912.105263</td>\n",
       "      <td>40325.789474</td>\n",
       "      <td>22312.105263</td>\n",
       "      <td>8863.684211</td>\n",
       "      <td>4371.578947</td>\n",
       "      <td>2241.578947</td>\n",
       "      <td>1349.473684</td>\n",
       "      <td>167.894737</td>\n",
       "      <td>NaN</td>\n",
       "      <td>135537.894737</td>\n",
       "    </tr>\n",
       "    <tr>\n",
       "      <th>std</th>\n",
       "      <td>108.025122</td>\n",
       "      <td>477.042742</td>\n",
       "      <td>79.194446</td>\n",
       "      <td>84.322397</td>\n",
       "      <td>64.077439</td>\n",
       "      <td>17.657600</td>\n",
       "      <td>223.109707</td>\n",
       "      <td>2163.717426</td>\n",
       "      <td>1698.317193</td>\n",
       "      <td>1241.932092</td>\n",
       "      <td>688.865497</td>\n",
       "      <td>285.778919</td>\n",
       "      <td>126.809707</td>\n",
       "      <td>75.090589</td>\n",
       "      <td>6.306035</td>\n",
       "      <td>NaN</td>\n",
       "      <td>6233.165398</td>\n",
       "    </tr>\n",
       "    <tr>\n",
       "      <th>min</th>\n",
       "      <td>111.000000</td>\n",
       "      <td>-8.000000</td>\n",
       "      <td>0.000000</td>\n",
       "      <td>0.000000</td>\n",
       "      <td>0.000000</td>\n",
       "      <td>0.000000</td>\n",
       "      <td>360.000000</td>\n",
       "      <td>53470.000000</td>\n",
       "      <td>38000.000000</td>\n",
       "      <td>20640.000000</td>\n",
       "      <td>8010.000000</td>\n",
       "      <td>3980.000000</td>\n",
       "      <td>2060.000000</td>\n",
       "      <td>1160.000000</td>\n",
       "      <td>160.000000</td>\n",
       "      <td>NaN</td>\n",
       "      <td>127810.000000</td>\n",
       "    </tr>\n",
       "    <tr>\n",
       "      <th>25%</th>\n",
       "      <td>210.500000</td>\n",
       "      <td>670.500000</td>\n",
       "      <td>70.000000</td>\n",
       "      <td>87.000000</td>\n",
       "      <td>28.000000</td>\n",
       "      <td>0.000000</td>\n",
       "      <td>570.000000</td>\n",
       "      <td>54030.000000</td>\n",
       "      <td>38880.000000</td>\n",
       "      <td>21285.000000</td>\n",
       "      <td>8340.000000</td>\n",
       "      <td>4175.000000</td>\n",
       "      <td>2140.000000</td>\n",
       "      <td>1335.000000</td>\n",
       "      <td>160.000000</td>\n",
       "      <td>NaN</td>\n",
       "      <td>130335.000000</td>\n",
       "    </tr>\n",
       "    <tr>\n",
       "      <th>50%</th>\n",
       "      <td>298.000000</td>\n",
       "      <td>918.000000</td>\n",
       "      <td>94.000000</td>\n",
       "      <td>137.000000</td>\n",
       "      <td>75.000000</td>\n",
       "      <td>1.000000</td>\n",
       "      <td>710.000000</td>\n",
       "      <td>55570.000000</td>\n",
       "      <td>40130.000000</td>\n",
       "      <td>22220.000000</td>\n",
       "      <td>8690.000000</td>\n",
       "      <td>4260.000000</td>\n",
       "      <td>2220.000000</td>\n",
       "      <td>1370.000000</td>\n",
       "      <td>170.000000</td>\n",
       "      <td>NaN</td>\n",
       "      <td>134620.000000</td>\n",
       "    </tr>\n",
       "    <tr>\n",
       "      <th>75%</th>\n",
       "      <td>365.000000</td>\n",
       "      <td>1119.000000</td>\n",
       "      <td>142.000000</td>\n",
       "      <td>157.750000</td>\n",
       "      <td>116.000000</td>\n",
       "      <td>26.000000</td>\n",
       "      <td>870.000000</td>\n",
       "      <td>57085.000000</td>\n",
       "      <td>41585.000000</td>\n",
       "      <td>23215.000000</td>\n",
       "      <td>9275.000000</td>\n",
       "      <td>4625.000000</td>\n",
       "      <td>2335.000000</td>\n",
       "      <td>1395.000000</td>\n",
       "      <td>170.000000</td>\n",
       "      <td>NaN</td>\n",
       "      <td>139685.000000</td>\n",
       "    </tr>\n",
       "    <tr>\n",
       "      <th>max</th>\n",
       "      <td>524.000000</td>\n",
       "      <td>2241.000000</td>\n",
       "      <td>291.000000</td>\n",
       "      <td>278.000000</td>\n",
       "      <td>233.000000</td>\n",
       "      <td>50.000000</td>\n",
       "      <td>1220.000000</td>\n",
       "      <td>60840.000000</td>\n",
       "      <td>43270.000000</td>\n",
       "      <td>24530.000000</td>\n",
       "      <td>10280.000000</td>\n",
       "      <td>4890.000000</td>\n",
       "      <td>2490.000000</td>\n",
       "      <td>1450.000000</td>\n",
       "      <td>180.000000</td>\n",
       "      <td>NaN</td>\n",
       "      <td>147930.000000</td>\n",
       "    </tr>\n",
       "  </tbody>\n",
       "</table>\n",
       "</div>"
      ],
      "text/plain": [
       "              TAR         netD          SR          AR          AH         IR  \\\n",
       "count   19.000000    19.000000   19.000000   10.000000   19.000000  18.000000   \n",
       "mean   291.736842   943.000000  112.263158  134.600000   79.157895  12.444444   \n",
       "std    108.025122   477.042742   79.194446   84.322397   64.077439  17.657600   \n",
       "min    111.000000    -8.000000    0.000000    0.000000    0.000000   0.000000   \n",
       "25%    210.500000   670.500000   70.000000   87.000000   28.000000   0.000000   \n",
       "50%    298.000000   918.000000   94.000000  137.000000   75.000000   1.000000   \n",
       "75%    365.000000  1119.000000  142.000000  157.750000  116.000000  26.000000   \n",
       "max    524.000000  2241.000000  291.000000  278.000000  233.000000  50.000000   \n",
       "\n",
       "                TD        band_a        band_b        band_c        band_d  \\\n",
       "count    17.000000     19.000000     19.000000     19.000000     19.000000   \n",
       "mean    748.235294  55912.105263  40325.789474  22312.105263   8863.684211   \n",
       "std     223.109707   2163.717426   1698.317193   1241.932092    688.865497   \n",
       "min     360.000000  53470.000000  38000.000000  20640.000000   8010.000000   \n",
       "25%     570.000000  54030.000000  38880.000000  21285.000000   8340.000000   \n",
       "50%     710.000000  55570.000000  40130.000000  22220.000000   8690.000000   \n",
       "75%     870.000000  57085.000000  41585.000000  23215.000000   9275.000000   \n",
       "max    1220.000000  60840.000000  43270.000000  24530.000000  10280.000000   \n",
       "\n",
       "            band_e       band_f       band_g      band_h  band_i  \\\n",
       "count    19.000000    19.000000    19.000000   19.000000     0.0   \n",
       "mean   4371.578947  2241.578947  1349.473684  167.894737     NaN   \n",
       "std     285.778919   126.809707    75.090589    6.306035     NaN   \n",
       "min    3980.000000  2060.000000  1160.000000  160.000000     NaN   \n",
       "25%    4175.000000  2140.000000  1335.000000  160.000000     NaN   \n",
       "50%    4260.000000  2220.000000  1370.000000  170.000000     NaN   \n",
       "75%    4625.000000  2335.000000  1395.000000  170.000000     NaN   \n",
       "max    4890.000000  2490.000000  1450.000000  180.000000     NaN   \n",
       "\n",
       "       all_properties  \n",
       "count       19.000000  \n",
       "mean    135537.894737  \n",
       "std       6233.165398  \n",
       "min     127810.000000  \n",
       "25%     130335.000000  \n",
       "50%     134620.000000  \n",
       "75%     139685.000000  \n",
       "max     147930.000000  "
      ]
     },
     "execution_count": 72,
     "metadata": {},
     "output_type": "execute_result"
    }
   ],
   "source": [
    "dcov_ss = dcov_t[[x for x in dcov_t.columns[3:]]].describe()\n",
    "dcov_ss"
   ]
  },
  {
   "cell_type": "code",
   "execution_count": 18,
   "metadata": {},
   "outputs": [
    {
     "data": {
      "text/plain": [
       "0.3093709884467266"
      ]
     },
     "execution_count": 18,
     "metadata": {},
     "output_type": "execute_result"
    }
   ],
   "source": [
    "dcov_ss.loc['mean','TAR']/dcov_ss.loc['mean','netD']"
   ]
  },
  {
   "cell_type": "markdown",
   "metadata": {},
   "source": [
    "Now that counts are more similar, we can see that on average Coventry provided around 292 additional dwellings as affordable homes between 2003-2021. In the same period, the average net delivery of all homes in Coventry was 943 homes which implies that the average delivery of affordable rent homes was 30.9% of the net delivery. This is above the required 25% delivery, a quick scan of the recent development sites reveals that while many developments only meet the 25% minimum requirement or fall below, certain development sites contribute 100% of dwellings towards affordable housing<sup>[citation needed]</sup>"
   ]
  },
  {
   "cell_type": "markdown",
   "metadata": {},
   "source": [
    "In the same period, Coventry provided an average of 112 socially rented dwellings, about 40% of total affordable dwellings and 12.36% of net dwellings. Affordable rented homes alone makes up 46% of total affordable homes in Coventry, the remaining portioon is made up of affordable home ownership, intermediate rent homes, and shared home ownership."
   ]
  },
  {
   "cell_type": "markdown",
   "metadata": {},
   "source": [
    "Visualising density plots"
   ]
  },
  {
   "cell_type": "code",
   "execution_count": 19,
   "metadata": {},
   "outputs": [],
   "source": [
    "import itertools\n",
    "comb = itertools.product(range(3),repeat=2)\n",
    "comb = list(comb)\n",
    "comb.append((3,0))"
   ]
  },
  {
   "cell_type": "code",
   "execution_count": 21,
   "metadata": {},
   "outputs": [],
   "source": [
    "for x in [2,4,6]:\n",
    "    del comb[x]"
   ]
  },
  {
   "cell_type": "code",
   "execution_count": 22,
   "metadata": {},
   "outputs": [
    {
     "data": {
      "image/png": "[encoded data removed]",
      "text/plain": [
       "<Figure size 720x432 with 8 Axes>"
      ]
     },
     "metadata": {
      "needs_background": "light"
     },
     "output_type": "display_data"
    }
   ],
   "source": [
    "f, axs = plt.subplots(4,2,figsize=(10,6))\n",
    "for k,a in enumerate(comb):\n",
    "    sns.kdeplot(data=dcov_t,x=dcov_t.columns[3:][k],ax=axs[a])\n",
    "f.tight_layout()\n"
   ]
  },
  {
   "cell_type": "code",
   "execution_count": 24,
   "metadata": {},
   "outputs": [],
   "source": [
    "## analysis"
   ]
  },
  {
   "cell_type": "markdown",
   "metadata": {},
   "source": [
    "### Exploring time trends"
   ]
  },
  {
   "cell_type": "markdown",
   "metadata": {},
   "source": [
    "First, creating a datetime variable from `year`"
   ]
  },
  {
   "cell_type": "code",
   "execution_count": 23,
   "metadata": {},
   "outputs": [
    {
     "data": {
      "text/html": [
       "<div>\n",
       "<style scoped>\n",
       "    .dataframe tbody tr th:only-of-type {\n",
       "        vertical-align: middle;\n",
       "    }\n",
       "\n",
       "    .dataframe tbody tr th {\n",
       "        vertical-align: top;\n",
       "    }\n",
       "\n",
       "    .dataframe thead th {\n",
       "        text-align: right;\n",
       "    }\n",
       "</style>\n",
       "<table border=\"1\" class=\"dataframe\">\n",
       "  <thead>\n",
       "    <tr style=\"text-align: right;\">\n",
       "      <th></th>\n",
       "      <th>LA_code</th>\n",
       "      <th>LA</th>\n",
       "      <th>year</th>\n",
       "      <th>TAR</th>\n",
       "      <th>netD</th>\n",
       "      <th>SR</th>\n",
       "      <th>AR</th>\n",
       "      <th>AH</th>\n",
       "      <th>IR</th>\n",
       "      <th>TD</th>\n",
       "      <th>date</th>\n",
       "    </tr>\n",
       "  </thead>\n",
       "  <tbody>\n",
       "    <tr>\n",
       "      <th>0</th>\n",
       "      <td>E08000026</td>\n",
       "      <td>Coventry</td>\n",
       "      <td>1992</td>\n",
       "      <td>127.0</td>\n",
       "      <td>NaN</td>\n",
       "      <td>102.0</td>\n",
       "      <td>NaN</td>\n",
       "      <td>25.0</td>\n",
       "      <td>NaN</td>\n",
       "      <td>230.0</td>\n",
       "      <td>1992-01-01</td>\n",
       "    </tr>\n",
       "    <tr>\n",
       "      <th>1</th>\n",
       "      <td>E08000026</td>\n",
       "      <td>Coventry</td>\n",
       "      <td>1993</td>\n",
       "      <td>331.0</td>\n",
       "      <td>NaN</td>\n",
       "      <td>231.0</td>\n",
       "      <td>NaN</td>\n",
       "      <td>100.0</td>\n",
       "      <td>NaN</td>\n",
       "      <td>390.0</td>\n",
       "      <td>1993-01-01</td>\n",
       "    </tr>\n",
       "    <tr>\n",
       "      <th>2</th>\n",
       "      <td>E08000026</td>\n",
       "      <td>Coventry</td>\n",
       "      <td>1994</td>\n",
       "      <td>474.0</td>\n",
       "      <td>NaN</td>\n",
       "      <td>378.0</td>\n",
       "      <td>NaN</td>\n",
       "      <td>96.0</td>\n",
       "      <td>NaN</td>\n",
       "      <td>330.0</td>\n",
       "      <td>1994-01-01</td>\n",
       "    </tr>\n",
       "    <tr>\n",
       "      <th>3</th>\n",
       "      <td>E08000026</td>\n",
       "      <td>Coventry</td>\n",
       "      <td>1995</td>\n",
       "      <td>371.0</td>\n",
       "      <td>NaN</td>\n",
       "      <td>271.0</td>\n",
       "      <td>NaN</td>\n",
       "      <td>100.0</td>\n",
       "      <td>NaN</td>\n",
       "      <td>490.0</td>\n",
       "      <td>1995-01-01</td>\n",
       "    </tr>\n",
       "    <tr>\n",
       "      <th>4</th>\n",
       "      <td>E08000026</td>\n",
       "      <td>Coventry</td>\n",
       "      <td>1996</td>\n",
       "      <td>315.0</td>\n",
       "      <td>NaN</td>\n",
       "      <td>203.0</td>\n",
       "      <td>NaN</td>\n",
       "      <td>112.0</td>\n",
       "      <td>NaN</td>\n",
       "      <td>530.0</td>\n",
       "      <td>1996-01-01</td>\n",
       "    </tr>\n",
       "  </tbody>\n",
       "</table>\n",
       "</div>"
      ],
      "text/plain": [
       "     LA_code        LA  year    TAR  netD     SR  AR     AH  IR     TD  \\\n",
       "0  E08000026  Coventry  1992  127.0   NaN  102.0 NaN   25.0 NaN  230.0   \n",
       "1  E08000026  Coventry  1993  331.0   NaN  231.0 NaN  100.0 NaN  390.0   \n",
       "2  E08000026  Coventry  1994  474.0   NaN  378.0 NaN   96.0 NaN  330.0   \n",
       "3  E08000026  Coventry  1995  371.0   NaN  271.0 NaN  100.0 NaN  490.0   \n",
       "4  E08000026  Coventry  1996  315.0   NaN  203.0 NaN  112.0 NaN  530.0   \n",
       "\n",
       "        date  \n",
       "0 1992-01-01  \n",
       "1 1993-01-01  \n",
       "2 1994-01-01  \n",
       "3 1995-01-01  \n",
       "4 1996-01-01  "
      ]
     },
     "execution_count": 23,
     "metadata": {},
     "output_type": "execute_result"
    }
   ],
   "source": [
    "dcov['date'] = pd.to_datetime(dcov['year'].astype(str), format='%Y')\n",
    "dcov.head()"
   ]
  },
  {
   "cell_type": "code",
   "execution_count": 24,
   "metadata": {},
   "outputs": [],
   "source": [
    "dcov_t = dcov[dcov.loc[:,'year']>2002].copy()"
   ]
  },
  {
   "cell_type": "code",
   "execution_count": 25,
   "metadata": {},
   "outputs": [
    {
     "data": {
      "text/html": [
       "<div>\n",
       "<style scoped>\n",
       "    .dataframe tbody tr th:only-of-type {\n",
       "        vertical-align: middle;\n",
       "    }\n",
       "\n",
       "    .dataframe tbody tr th {\n",
       "        vertical-align: top;\n",
       "    }\n",
       "\n",
       "    .dataframe thead th {\n",
       "        text-align: right;\n",
       "    }\n",
       "</style>\n",
       "<table border=\"1\" class=\"dataframe\">\n",
       "  <thead>\n",
       "    <tr style=\"text-align: right;\">\n",
       "      <th></th>\n",
       "      <th>LA_code</th>\n",
       "      <th>LA</th>\n",
       "      <th>year</th>\n",
       "      <th>TAR</th>\n",
       "      <th>netD</th>\n",
       "      <th>SR</th>\n",
       "      <th>AR</th>\n",
       "      <th>AH</th>\n",
       "      <th>IR</th>\n",
       "      <th>TD</th>\n",
       "      <th>date</th>\n",
       "    </tr>\n",
       "  </thead>\n",
       "  <tbody>\n",
       "    <tr>\n",
       "      <th>11</th>\n",
       "      <td>E08000026</td>\n",
       "      <td>Coventry</td>\n",
       "      <td>2003</td>\n",
       "      <td>320.0</td>\n",
       "      <td>624.0</td>\n",
       "      <td>218.0</td>\n",
       "      <td>NaN</td>\n",
       "      <td>102.0</td>\n",
       "      <td>NaN</td>\n",
       "      <td>810.0</td>\n",
       "      <td>2003-01-01</td>\n",
       "    </tr>\n",
       "    <tr>\n",
       "      <th>12</th>\n",
       "      <td>E08000026</td>\n",
       "      <td>Coventry</td>\n",
       "      <td>2004</td>\n",
       "      <td>111.0</td>\n",
       "      <td>-8.0</td>\n",
       "      <td>98.0</td>\n",
       "      <td>NaN</td>\n",
       "      <td>13.0</td>\n",
       "      <td>0.0</td>\n",
       "      <td>NaN</td>\n",
       "      <td>2004-01-01</td>\n",
       "    </tr>\n",
       "    <tr>\n",
       "      <th>13</th>\n",
       "      <td>E08000026</td>\n",
       "      <td>Coventry</td>\n",
       "      <td>2005</td>\n",
       "      <td>174.0</td>\n",
       "      <td>308.0</td>\n",
       "      <td>131.0</td>\n",
       "      <td>NaN</td>\n",
       "      <td>43.0</td>\n",
       "      <td>0.0</td>\n",
       "      <td>NaN</td>\n",
       "      <td>2005-01-01</td>\n",
       "    </tr>\n",
       "    <tr>\n",
       "      <th>14</th>\n",
       "      <td>E08000026</td>\n",
       "      <td>Coventry</td>\n",
       "      <td>2006</td>\n",
       "      <td>172.0</td>\n",
       "      <td>631.0</td>\n",
       "      <td>122.0</td>\n",
       "      <td>NaN</td>\n",
       "      <td>50.0</td>\n",
       "      <td>0.0</td>\n",
       "      <td>520.0</td>\n",
       "      <td>2006-01-01</td>\n",
       "    </tr>\n",
       "    <tr>\n",
       "      <th>15</th>\n",
       "      <td>E08000026</td>\n",
       "      <td>Coventry</td>\n",
       "      <td>2007</td>\n",
       "      <td>222.0</td>\n",
       "      <td>918.0</td>\n",
       "      <td>85.0</td>\n",
       "      <td>NaN</td>\n",
       "      <td>137.0</td>\n",
       "      <td>0.0</td>\n",
       "      <td>870.0</td>\n",
       "      <td>2007-01-01</td>\n",
       "    </tr>\n",
       "  </tbody>\n",
       "</table>\n",
       "</div>"
      ],
      "text/plain": [
       "      LA_code        LA  year    TAR   netD     SR  AR     AH   IR     TD  \\\n",
       "11  E08000026  Coventry  2003  320.0  624.0  218.0 NaN  102.0  NaN  810.0   \n",
       "12  E08000026  Coventry  2004  111.0   -8.0   98.0 NaN   13.0  0.0    NaN   \n",
       "13  E08000026  Coventry  2005  174.0  308.0  131.0 NaN   43.0  0.0    NaN   \n",
       "14  E08000026  Coventry  2006  172.0  631.0  122.0 NaN   50.0  0.0  520.0   \n",
       "15  E08000026  Coventry  2007  222.0  918.0   85.0 NaN  137.0  0.0  870.0   \n",
       "\n",
       "         date  \n",
       "11 2003-01-01  \n",
       "12 2004-01-01  \n",
       "13 2005-01-01  \n",
       "14 2006-01-01  \n",
       "15 2007-01-01  "
      ]
     },
     "execution_count": 25,
     "metadata": {},
     "output_type": "execute_result"
    }
   ],
   "source": [
    "dcov_t.head()"
   ]
  },
  {
   "cell_type": "markdown",
   "metadata": {},
   "source": [
    "Creating columns for affordable rent homes as a percentage of net dwellings"
   ]
  },
  {
   "cell_type": "code",
   "execution_count": 26,
   "metadata": {},
   "outputs": [],
   "source": [
    "dcov_t['TAR_p'] = dcov_t['TAR']/dcov_t['netD']*100\n",
    "dcov_t['SR_p'] = dcov_t['SR']/dcov_t['netD']*100\n",
    "dcov_t['AR_p'] = dcov_t['AR']/dcov_t['netD']*100\n",
    "for x in ['TAR_p','SR_p','AR_p']:\n",
    "    dcov_t.loc[12,x] = pd.NA"
   ]
  },
  {
   "cell_type": "markdown",
   "metadata": {},
   "source": [
    "Visualising delivery of housing in Coventry "
   ]
  },
  {
   "cell_type": "code",
   "execution_count": 27,
   "metadata": {},
   "outputs": [],
   "source": [
    "dcov_t['AR_req'] = 0.25*dcov_t.loc[dcov_t.year>2010,'TD']"
   ]
  },
  {
   "cell_type": "markdown",
   "metadata": {},
   "source": [
    "Assuming that affordable housing should be 25% of net dwellings (in reality would only be 25% of _large_ developments). This is represented by the red line in the graph below.  "
   ]
  },
  {
   "cell_type": "code",
   "execution_count": 28,
   "metadata": {},
   "outputs": [
    {
     "data": {
      "text/plain": [
       "Text(0, 0.5, 'dwellings')"
      ]
     },
     "execution_count": 28,
     "metadata": {},
     "output_type": "execute_result"
    },
    {
     "data": {
      "image/png": "[encoded data removed]",
      "text/plain": [
       "<Figure size 432x288 with 1 Axes>"
      ]
     },
     "metadata": {
      "needs_background": "light"
     },
     "output_type": "display_data"
    }
   ],
   "source": [
    "fig,ax = plt.subplots()\n",
    "ax0 = sns.lineplot(x='date',y='netD',data=dcov_t)\n",
    "ax1 = sns.lineplot(x='date',y='TAR',data=dcov_t)\n",
    "ax2 = sns.lineplot(x='date',y='SR',data=dcov_t)\n",
    "ax3 = sns.lineplot(x='date',y='AR_req',data=dcov_t)\n",
    "plt.legend(['Net Dwellings','Total Affordable Housing','Social Rent','Affordable Housing Requirement'])\n",
    "plt.ylabel('dwellings')"
   ]
  },
  {
   "cell_type": "markdown",
   "metadata": {},
   "source": [
    "Affordable housing delivery started off being greater than the actual delivery required but has shown a falling trend in recent years. Let's visualise the percentage of total housing made up by affordable housing, social rent, and affordable rent."
   ]
  },
  {
   "cell_type": "code",
   "execution_count": 31,
   "metadata": {},
   "outputs": [
    {
     "data": {
      "image/png": "[encoded data removed]",
      "text/plain": [
       "<Figure size 432x288 with 1 Axes>"
      ]
     },
     "metadata": {
      "needs_background": "light"
     },
     "output_type": "display_data"
    }
   ],
   "source": [
    "fig,ax = plt.subplots()\n",
    "ax1 = sns.lineplot(x='date',y='TAR_p',data=dcov_t)\n",
    "ax2 = sns.lineplot(x='date',y='SR_p',data=dcov_t)\n",
    "ax3 = sns.lineplot(x='date',y='AR_p',data=dcov_t)\n",
    "plt.legend(['Total Affordable Housing','Social Rent','Affordable Rent'])\n",
    "plt.ylabel('% of dwellings')\n",
    "ax1.invert_yaxis()"
   ]
  },
  {
   "cell_type": "markdown",
   "metadata": {},
   "source": [
    "Until 2012, socially rented housing made up the majority of the supply of affordable housing in Coventry. Since, 2012 while affordable rent supply has been rising, the delivery of socially rented has been falling making up only about 25% of the affordable housing delivery, and has nearly fallen to 0 in recent years. This implies that recent growth in affordable housing delivery is almost completely made up of affordable rent development. Therefore, while affordable housing requirements are being met as per Policy H6, social rent developments seem to be falling, this might explain the severe undersupply of socially rented properties in Coventry available through Homefinder."
   ]
  },
  {
   "cell_type": "code",
   "execution_count": 30,
   "metadata": {},
   "outputs": [],
   "source": [
    "dcov_t['SR/TAR'] = dcov_t['SR']/dcov_t['TAR']*100\n",
    "dcov_t['AR/TAR'] = dcov_t['AR']/dcov_t['TAR']*100"
   ]
  },
  {
   "cell_type": "code",
   "execution_count": 31,
   "metadata": {},
   "outputs": [
    {
     "data": {
      "text/plain": [
       "<matplotlib.legend.Legend at 0x16cd5147250>"
      ]
     },
     "execution_count": 31,
     "metadata": {},
     "output_type": "execute_result"
    },
    {
     "data": {
      "image/png": "[encoded data removed]",
      "text/plain": [
       "<Figure size 432x288 with 1 Axes>"
      ]
     },
     "metadata": {
      "needs_background": "light"
     },
     "output_type": "display_data"
    }
   ],
   "source": [
    "fig, ax = plt.subplots()\n",
    "ax0 = sns.lineplot(x='date',y='AR/TAR',data=dcov_t)\n",
    "ax1 = sns.lineplot(x='date',y='SR/TAR',data=dcov_t)\n",
    "plt.ylabel('% of TAR')\n",
    "plt.legend(['AR (% of TAR)','SR (% of TAR)'])"
   ]
  },
  {
   "cell_type": "markdown",
   "metadata": {},
   "source": [
    "This confirms that affordable rent makes up nearly the entirety of affordable housing provision currently"
   ]
  },
  {
   "cell_type": "markdown",
   "metadata": {},
   "source": [
    "What about the delivery of affordable housing compared to the 25% requirement?"
   ]
  },
  {
   "cell_type": "code",
   "execution_count": 32,
   "metadata": {},
   "outputs": [
    {
     "data": {
      "image/png": "[encoded data removed]",
      "text/plain": [
       "<Figure size 432x288 with 1 Axes>"
      ]
     },
     "metadata": {
      "needs_background": "light"
     },
     "output_type": "display_data"
    }
   ],
   "source": [
    "dcov_t['AR_req/netD'] = 25\n",
    "fig,ax = plt.subplots()\n",
    "ax1 = sns.lineplot(x='date',y='TAR_p',data=dcov_t)\n",
    "ax2 = sns.lineplot(x='date',y='SR_p',data=dcov_t)\n",
    "ax3 = sns.lineplot(x='date',y='AR_req/netD',data=dcov_t[dcov_t.loc[:,'year']>=2011],color='red')\n",
    "plt.legend(['Total Affordable Housing','Social Rent','Affordable Rent Requirement'])\n",
    "plt.ylabel('% of dwellings')\n",
    "ax1.invert_yaxis()"
   ]
  },
  {
   "cell_type": "markdown",
   "metadata": {},
   "source": [
    "It seems like the 25% affordable housing requirement is being met for most years since 2011, except for the significant dip in 2020, which is attributed to delays in development from the COVID-19 pandemic and subsequent lockdowns according to the Authority Monitoring Report 2020/21. Again, we point out the significant drop in social rented properties since 2011. "
   ]
  },
  {
   "cell_type": "markdown",
   "metadata": {},
   "source": [
    "The Local Plan recommends an annual growth of 348 additional affordable homes per year to meet their affordable housing need. Similarly, it assesses that between 2011-2016, annual growth of total dwellings should be 1,020 homes per annum, and from 2017-2031, annual growth should increase to 1,300 homes per annum. "
   ]
  },
  {
   "cell_type": "code",
   "execution_count": 41,
   "metadata": {},
   "outputs": [],
   "source": [
    "for x in dcov_t.index:\n",
    "    if dcov_t.loc[x,'year'] in range(2011,2017):\n",
    "        dcov_t.loc[x,'AR_set'] = 348\n",
    "        dcov_t.loc[x,'netD_set'] = 1020\n",
    "    elif dcov_t.loc[x,'year'] >= 2017:\n",
    "        dcov_t.loc[x,'netD_set'] = 1300\n",
    "        dcov_t.loc[x,'AR_set'] = 348"
   ]
  },
  {
   "cell_type": "code",
   "execution_count": 44,
   "metadata": {},
   "outputs": [
    {
     "data": {
      "text/plain": [
       "Text(0, 0.5, 'dwellings')"
      ]
     },
     "execution_count": 44,
     "metadata": {},
     "output_type": "execute_result"
    },
    {
     "data": {
      "image/png": "[encoded data removed]",
      "text/plain": [
       "<Figure size 432x288 with 1 Axes>"
      ]
     },
     "metadata": {
      "needs_background": "light"
     },
     "output_type": "display_data"
    }
   ],
   "source": [
    "fig,ax = plt.subplots()\n",
    "ax0 = sns.lineplot(x='date',y='netD',data=dcov_t)\n",
    "ax1 = sns.lineplot(x='date',y='TAR',data=dcov_t)\n",
    "ax2 = sns.lineplot(x='date',y='SR',data=dcov_t)\n",
    "ax3 = sns.lineplot(x='date',y='AR_set',data=dcov_t)\n",
    "ax4 = sns.lineplot(x='date',y='netD_set',data=dcov_t)\n",
    "#ax4 = sns.lineplot(x='date',y='AR_req',data=dcov_t)\n",
    "plt.legend(['Net Dwellings','Total Affordable Housing','Social Rent','Affordable Housing Requirement','Total Housing Requirement'])\n",
    "plt.ylabel('dwellings')"
   ]
  },
  {
   "cell_type": "markdown",
   "metadata": {},
   "source": [
    "While delivery is above the 25% requirement, affordable housing delivery is still under the assessed 348 homes/year needed to meet Coventry's affordable housing needs. Let's evaluate by how much."
   ]
  },
  {
   "cell_type": "code",
   "execution_count": 47,
   "metadata": {},
   "outputs": [],
   "source": [
    "dcov_t['TAR_deficit'] = dcov_t['TAR'] - dcov_t['AR_set']\n",
    "dcov_t['netD_deficit'] = dcov_t['netD'] - dcov_t['netD_set']"
   ]
  },
  {
   "cell_type": "code",
   "execution_count": 51,
   "metadata": {},
   "outputs": [
    {
     "name": "stdout",
     "output_type": "stream",
     "text": [
      "Average number of affordable houses v. requirement:  -40.0\n",
      "Average number of total dwellings v. requirement:  17.0\n"
     ]
    }
   ],
   "source": [
    "print('Average number of affordable houses v. assessed need: ',dcov_t['TAR_deficit'].mean())\n",
    "print('Average number of total dwellings v. assessed need: ',dcov_t['netD_deficit'].mean())"
   ]
  },
  {
   "cell_type": "markdown",
   "metadata": {},
   "source": [
    "On average, affordable housing is 40 homes below the needed 348 homes per year assessed by the Local Plan. On the other hand, total dwellings are above the assessed need at an average of 17 homes per year. While in some years, there was a deficit in total housing supply, prior years' surplus helped to make up up for any deficits. "
   ]
  },
  {
   "cell_type": "code",
   "execution_count": 52,
   "metadata": {},
   "outputs": [],
   "source": [
    "dcov_t['TAR_deficit_a'] = dcov_t['TAR'] - dcov_t['AR_req']"
   ]
  },
  {
   "cell_type": "code",
   "execution_count": 53,
   "metadata": {},
   "outputs": [
    {
     "name": "stdout",
     "output_type": "stream",
     "text": [
      "Average number of affordable houses v. 25% requirement:  115.5\n"
     ]
    }
   ],
   "source": [
    "print('Average number of affordable houses v. 25% requirement: ',dcov_t['TAR_deficit_a'].mean())"
   ]
  },
  {
   "cell_type": "markdown",
   "metadata": {},
   "source": [
    "If instead looking at actual 25% requirement, affordable housing overdelivers by 115 homes per year on average."
   ]
  },
  {
   "cell_type": "markdown",
   "metadata": {},
   "source": []
  }
 ],
 "metadata": {
  "interpreter": {
   "hash": "264cccd5883412ab4e02ed8c66b4bdd34e6b25f2ac5afddfbd93d0dda37aab11"
  },
  "kernelspec": {
   "display_name": "Python 3.10.4 64-bit",
   "language": "python",
   "name": "python3"
  },
  "language_info": {
   "codemirror_mode": {
    "name": "ipython",
    "version": 3
   },
   "file_extension": ".py",
   "mimetype": "text/x-python",
   "name": "python",
   "nbconvert_exporter": "python",
   "pygments_lexer": "ipython3",
   "version": "3.10.4"
  },
  "orig_nbformat": 4
 },
 "nbformat": 4,
 "nbformat_minor": 2
}
