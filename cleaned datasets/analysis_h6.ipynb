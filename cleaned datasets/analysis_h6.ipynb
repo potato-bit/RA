{
 "cells": [
  {
   "cell_type": "markdown",
   "metadata": {},
   "source": [
    "# The Effects of Policy H6 on Social Housing"
   ]
  },
  {
   "cell_type": "markdown",
   "metadata": {},
   "source": [
    "## Affordable Housing in Coventry"
   ]
  },
  {
   "cell_type": "markdown",
   "metadata": {},
   "source": [
    "### Background"
   ]
  },
  {
   "cell_type": "markdown",
   "metadata": {},
   "source": [
    "Social rent in the National Planning Policy Framework (NPPF) is defined as housing owned by local authorities and private registered providers (as defined in section 80 of the Housing and Regeneration Act 2008), for which guideline target rents are determined through the national rent regime. It may also be owned by other persons and provided under equivalent rental arrangements to the above, as agreed with the local authority or with the Homes and Communities Agency. It is generally rented at rates far lower than market rate (typically around 30% of market rate) to houses assessed as needing it.\n",
    "\n",
    "Affordable rent in the NPPF is defined as housing is let by local authorities or private registered providers of social housing to households who are eligible for social rented housing. Affordable Rent is subject to rent controls that require a rent of no more than 80% of the local market rent (including service charges, where applicable). This scheme was introduced in 2011, prior to which affordable housing in the UK only consisted of social rent properties, shared home ownership, and other intermediate rent properties.\n",
    "\n",
    "Intermediate housing is homes for sale and rent provided at a cost above social rent, but below market levels subject to the criteria in the Affordable Housing definition above. These can include shared equity (shared ownership and equity loans), other low cost homes for sale and intermediate rent, but not affordable rented housing."
   ]
  },
  {
   "cell_type": "markdown",
   "metadata": {},
   "source": [
    "In 2021, there were nearly 13,400 homes on Coventry's social housing registry, Homefinder. Of this, 3,200 were deemed to be high priority applicants, those who the Council owes the main housing duty under the Homelessness Reduction Act, 2018 and considered homeless or those who are threatened with homelessness or currently placed in temporary accomodation. Also in 2021, Homefinder only listed a total of 1,219 homes not even able to service 10% of the demand or the high priority need for social housing. This follows a steady decline in social housing stock that is also seen in the rest of the country [citation needed, figure needed].\n",
    "\n",
    "Coventry follows the latest NPPF on affordable housing which is reflected in their ten-year Local Plan Housing Policies. Currently, the 2011 Local Plan guidance on affordable housing is from Policy H6 which is as follows:"
   ]
  },
  {
   "cell_type": "markdown",
   "metadata": {},
   "source": [
    "---\n",
    "New residential schemes of 25 dwellings or more (excluding student accommodation), or more than 1ha, will be expected to provide 25% of all dwellings as affordable homes. Further, the concentration of social/affordable rent and intermediate rent in new proposals will depend on the existing concentration of affordable dwellings at the four-digit postcode level:\n",
    "\n",
    "* In areas of high concentration: 10% Social/Affordable Rental Provision; 15% Intermediate Provision\n",
    "* In areas of medium concentration: 12.5% Social/Affordable Rental Provision; 12.5% Intermediate Provision\n",
    "* In areas of low concentration: 15% Social/Affordable Rental Provision; 10% Intermediate Provision\n",
    "\n",
    "Where the specified level of affordable housing cannot be provided, including for reasons of viability, robust evidence must be presented to justify a reduced or alternative form of contribution.\n",
    "\n",
    "Through appropriate design standards, new affordable housing units must be appropriately integrated within the development and with other affordable homes adjoining the site.\n",
    "\n",
    "Through engagement with the Council, Registered Providers, and having regard to the recommendations of the SHMA, developers should ensure that affordable housing contributions comprise dwellings of the right size, type, affordability and tenure to meet local needs. \n",
    "\n",
    "---"
   ]
  },
  {
   "cell_type": "markdown",
   "metadata": {},
   "source": [
    "The Plan also identifies a need for 384 additional affordable homes per year to meet their housing needs, and latest SHMA assessments suggest a housing mix where 50% of developments should be large homes (of 3 or more bedrooms). Current Policy H6 is very similar to the 2001 Local Plan policy on affordable housing, Policy H10. Following similar qualifying and concentration requirements, along with exemptions for non-viable sites, the two policies are nearly identical.\n",
    "\n",
    "The major distinction is that until 2011, there was no affordable rent scheme so affordable housing requirements in the 2001 Local Plan were set such that of the 25% required provision of affordable housing, 12.5% was made up entirely of social rent properties. The introduction of affordable rent in 2011 is reflected in the last Local Plan, where now 12.5% can be _either_ social or affordable rent. With affordable rent payments being much higher than social rent, we expect that developers would choose to favour providing affordable rent properties over the cheaper (for tenants) social rent. As we discuss below, this is reflected in the percentage of affordable housing made up by social rent which since 2011 has been on a steep and steady decline, while the relative composition of affordable housing has been on the rise making up nearly the entirety of affordable housing delivery in Coventry. The trend of erosion of social housing stock is seen nationally as well. \n",
    "\n",
    "With rising house prices and rents, falling home affordability, and rising homelessness, the social housing sector plays a critical role in ensuring that people meet their basic needs in the face of financial vulnerability. Thus, while developers in Coventry might be meeting their 25% affordable housing delivery requirements, they might be failing to meet the needs of those who need it the most by preferentially developing properties as affordable rent instead of social rent."
   ]
  },
  {
   "cell_type": "markdown",
   "metadata": {},
   "source": [
    "### Method"
   ]
  },
  {
   "cell_type": "markdown",
   "metadata": {},
   "source": [
    "We begin our analysis looking at the delivery of different components of affordable housing (affordable rent and social rent) within Coventry, comparing them to the overall housing market and the housing requirements set out by the Local Plan. "
   ]
  },
  {
   "cell_type": "markdown",
   "metadata": {},
   "source": [
    "\n",
    "Primarily, we are interested in how Policy H6 affects social housing in Coventry specifically, since there are no explicit requirements on social housing within the plan. The Local Plan sets out that new developments with >25 dwellings or >1ha in area must provide 25% of its dwellings as affordable housing. Further, the Local Plan assesses affordable housing need at the first 4 digits of the postcode level to determine areas of high existing stock of social housing (>1,500 properties) and areas of low existing stock of social housing (<500 properties). Anything in between is determined as medium concentration. Within the geographic areas, the provision of affordable housing is as follows:\n",
    "\n",
    "* In areas of high concentration: 10% Social/Affordable Rental Provision; 15% Intermediate Provision\n",
    "* In areas of medium concentration: 12.5% Social/Affordable Rental Provision; 12.5% Intermediate Provision\n",
    "* In areas of low concentration: 15% Social/Affordable Rental Provision; 10% Intermediate Provision\n",
    "\n",
    "We assume the intention of this policy is to bring up the level of affordable housing in areas of low concentration but is this setting up misaligned incentives? Areas of high concentration of social housing require fewer social houses making it more attractive to developers (because it gets higher rents) reducing the concentration of social housing and areas of low concentration don’t get as much development (because of the higher social/affordable housing requirement).\n",
    "\n",
    "The Local Plan also recommends that the housing mix of affordable housing should follow the latest SHMA/SHLAA which suggests that houses with 3 or more bedrooms should make up 50% of the housing mix. However, as the 2021 Homefinder data suggests, houses with 3 or more bedrooms only make 14% of socially rented homes. We assume that since Policy H6 does not set out explicit requirements on the size of homes provided within the plan, developers might be building larger homes for the more profitable Intermediate Homes or Affordable Rent sector rather than the social rent sectors which is mostly made up of bedsits, 1BR, and 2BR homes. \n",
    "\n",
    "Finally the Council understands that it may not always be possible for developers to provide the full 25% at every site and thus allows developers to make viability arguments and reach alternative solutions such as off-site delivery or commuted sum payments through the S106 developer's contribution agreement. We expect that this avenue has a significant effect on the delivery of socially rented homes in Coventry and may be contributing to the undersupply problem of homes for Coventry's social housing market.\n",
    "\n"
   ]
  },
  {
   "cell_type": "markdown",
   "metadata": {},
   "source": [
    "In this report we hope to answer the following questions:\n",
    "\n",
    "* How has Policy H6 affected social housing specifically?\n",
    "* Has Policy H6 succesfully rebalanced the concetration of Affordable Housing (and specifically social housing) in Coventry?\n",
    "* How has Policy H6 affected the housing mix of affordable housing and social housing?\n",
    "* How have viability arguments/settlements affected the delivery of social housing in Coventry?\n",
    "* How has the introduction of affordable rent affected social rent delivery?\n",
    "\n"
   ]
  },
  {
   "cell_type": "markdown",
   "metadata": {},
   "source": [
    "## Exploring Housing Supply in Coventry"
   ]
  },
  {
   "cell_type": "markdown",
   "metadata": {},
   "source": [
    "Importing required packages"
   ]
  },
  {
   "cell_type": "code",
   "execution_count": 1,
   "metadata": {},
   "outputs": [],
   "source": [
    "import pandas as pd\n",
    "import numpy as np\n",
    "import matplotlib.pyplot as plt\n",
    "import seaborn as sns"
   ]
  },
  {
   "cell_type": "markdown",
   "metadata": {},
   "source": [
    "We begin this analysis by exploring the housing market of Coventry. We compare net dwellings per year to additional affordable, social, and intermediate housing. We try to identify any trends so it may inform analysis going forward. We also compare affordable housing delivery to the target set by the Council to meet their housing need of 348 homes/year. We also look at how social housing and affordable housing diverges in their delivery and the falling delivery of social housing. Finally, we compare the affordable housing market in Coventry with the rest of the UK."
   ]
  },
  {
   "cell_type": "markdown",
   "metadata": {},
   "source": [
    "### Data"
   ]
  },
  {
   "cell_type": "markdown",
   "metadata": {},
   "source": [
    "For our data on net dwellings, we use the Department for Levelling Up, Housing, and Communities (DLUHC) and Ministry of Housing, Communities and Local Government (MHCLG) Live Table 122 available [here](https://assets.publishing.service.gov.uk/government/uploads/system/uploads/attachment_data/file/1035591/Live_Table_122.ods 'Live Table 122'). For our data on additional dwellings for social housing, affordable housing, and intermediate rent - we use DLUHC Live Tables 1006-1008 available [here](https://assets.publishing.service.gov.uk/government/uploads/system/uploads/attachment_data/file/1034087/Live_Tables_1006-1009.ods 'Live Table 1006-1009').\n",
    "\n",
    "The data is prepared for analysis prior to importing, the process is documented in the files titled `netdwellings.ipynb`, `socialrent.ipynb`, `totalaffordablerent.ipynb`, `affordablerent.ipynb`, `affordablehomes.ipynb` and `intermediaterent.ipynb`. \n",
    "\n",
    "Total Affordable Rent is the sum of all forms of affordable housing."
   ]
  },
  {
   "cell_type": "markdown",
   "metadata": {},
   "source": [
    "#### Importing data"
   ]
  },
  {
   "cell_type": "code",
   "execution_count": 57,
   "metadata": {},
   "outputs": [],
   "source": [
    "df_netD = pd.read_excel('Net Dwellings by LA, 2001-2021.xlsx',na_values=['..']) # net dwellings\n",
    "df_SR = pd.read_excel('Socially Rented Dwellings by LA, 1992-2021.xlsx')        # socially rented\n",
    "df_AR = pd.read_excel('Affordable Rent Dwellings by LA, 2011-2021.xlsx')        # affordable rent\n",
    "df_AH = pd.read_excel('Affordable Home Ownership by LA, 1991-2021.xlsx')        # affordable home ownership\n",
    "df_IR = pd.read_excel('Intermediate Rent Dwellings by LA, 2003-2021.xlsx')      # intermediate rent\n",
    "df_TAR = pd.read_excel('Total Affordable Rent Dwellings by LA, 1992-2021.xlsx') # total affordable rent\n",
    "df_hl = pd.read_excel('Homelessness 2009-2018 by LA.xlsx')                      # homelessness count\n",
    "df_TD = pd.read_excel('New Dwellings by LA 1980-2021.xlsx',na_values=['..'])    # total new dwellings\n",
    "df_NP = pd.read_excel('Number of Properties by Tax Band by LA, 1993-2021.xlsx') # number of properties by tax band"
   ]
  },
  {
   "cell_type": "code",
   "execution_count": 58,
   "metadata": {},
   "outputs": [],
   "source": [
    "for x in [df_netD,df_SR,df_AR,df_AH,df_IR,df_TAR,df_TD,df_NP]:\n",
    "    x.drop(columns='Unnamed: 0',inplace=True)"
   ]
  },
  {
   "cell_type": "code",
   "execution_count": 59,
   "metadata": {},
   "outputs": [],
   "source": [
    "## code for shape and types of dataframes to be inserted"
   ]
  },
  {
   "cell_type": "markdown",
   "metadata": {},
   "source": [
    "Collating datasets into a single dataframe for Coventry"
   ]
  },
  {
   "cell_type": "code",
   "execution_count": 60,
   "metadata": {},
   "outputs": [
    {
     "data": {
      "text/html": [
       "<div>\n",
       "<style scoped>\n",
       "    .dataframe tbody tr th:only-of-type {\n",
       "        vertical-align: middle;\n",
       "    }\n",
       "\n",
       "    .dataframe tbody tr th {\n",
       "        vertical-align: top;\n",
       "    }\n",
       "\n",
       "    .dataframe thead th {\n",
       "        text-align: right;\n",
       "    }\n",
       "</style>\n",
       "<table border=\"1\" class=\"dataframe\">\n",
       "  <thead>\n",
       "    <tr style=\"text-align: right;\">\n",
       "      <th></th>\n",
       "      <th>LA_code</th>\n",
       "      <th>LA</th>\n",
       "      <th>year</th>\n",
       "      <th>TAR</th>\n",
       "    </tr>\n",
       "  </thead>\n",
       "  <tbody>\n",
       "    <tr>\n",
       "      <th>0</th>\n",
       "      <td>E08000026</td>\n",
       "      <td>Coventry</td>\n",
       "      <td>1992</td>\n",
       "      <td>127.0</td>\n",
       "    </tr>\n",
       "    <tr>\n",
       "      <th>1</th>\n",
       "      <td>E08000026</td>\n",
       "      <td>Coventry</td>\n",
       "      <td>1993</td>\n",
       "      <td>331.0</td>\n",
       "    </tr>\n",
       "    <tr>\n",
       "      <th>2</th>\n",
       "      <td>E08000026</td>\n",
       "      <td>Coventry</td>\n",
       "      <td>1994</td>\n",
       "      <td>474.0</td>\n",
       "    </tr>\n",
       "    <tr>\n",
       "      <th>3</th>\n",
       "      <td>E08000026</td>\n",
       "      <td>Coventry</td>\n",
       "      <td>1995</td>\n",
       "      <td>371.0</td>\n",
       "    </tr>\n",
       "    <tr>\n",
       "      <th>4</th>\n",
       "      <td>E08000026</td>\n",
       "      <td>Coventry</td>\n",
       "      <td>1996</td>\n",
       "      <td>315.0</td>\n",
       "    </tr>\n",
       "  </tbody>\n",
       "</table>\n",
       "</div>"
      ],
      "text/plain": [
       "     LA_code        LA  year    TAR\n",
       "0  E08000026  Coventry  1992  127.0\n",
       "1  E08000026  Coventry  1993  331.0\n",
       "2  E08000026  Coventry  1994  474.0\n",
       "3  E08000026  Coventry  1995  371.0\n",
       "4  E08000026  Coventry  1996  315.0"
      ]
     },
     "execution_count": 60,
     "metadata": {},
     "output_type": "execute_result"
    }
   ],
   "source": [
    "dcov = df_TAR[df_TAR.loc[:,'LA']=='Coventry'].copy()\n",
    "dcov.rename(columns={'new_dwellings':'TAR'},inplace=True)\n",
    "dcov.reset_index(drop=True,inplace=True)\n",
    "dcov.head()"
   ]
  },
  {
   "cell_type": "code",
   "execution_count": 61,
   "metadata": {},
   "outputs": [],
   "source": [
    "dcov = pd.merge(dcov,df_netD[['LA_code','year','net dwellings']],how='left',on=['LA_code','year'])\n",
    "dcov.rename(columns={'net dwellings':'netD'},inplace=True)"
   ]
  },
  {
   "cell_type": "code",
   "execution_count": 62,
   "metadata": {},
   "outputs": [],
   "source": [
    "dcov = pd.merge(dcov,df_SR[['LA_code','year','new_dwellings']],how='left',on=['LA_code','year'])\n",
    "dcov.rename(columns={'new_dwellings':'SR'},inplace=True)"
   ]
  },
  {
   "cell_type": "code",
   "execution_count": 63,
   "metadata": {},
   "outputs": [],
   "source": [
    "dcov = pd.merge(dcov,df_AR[['LA_code','year','DC']],how='left',on=['LA_code','year'])\n",
    "dcov.rename(columns={'DC':'AR'},inplace=True)"
   ]
  },
  {
   "cell_type": "code",
   "execution_count": 64,
   "metadata": {},
   "outputs": [],
   "source": [
    "dcov = pd.merge(dcov,df_AH[['LA_code','year','DC']],how='left',on=['LA_code','year'])\n",
    "dcov.rename(columns={'DC':'AH'},inplace=True)"
   ]
  },
  {
   "cell_type": "code",
   "execution_count": 65,
   "metadata": {},
   "outputs": [],
   "source": [
    "dcov = pd.merge(dcov,df_IR[['LA_code','year','DC']],how='left',on=['LA_code','year'])\n",
    "dcov.rename(columns={'DC':'IR'},inplace=True)"
   ]
  },
  {
   "cell_type": "code",
   "execution_count": 67,
   "metadata": {},
   "outputs": [],
   "source": [
    "df_TD.rename(columns={'ONS Code':'LA_code','Local Authority':'LA'},inplace=True)\n",
    "#df_TD['DC_Total'] = df_TD['DC_Total'].astype(float)"
   ]
  },
  {
   "cell_type": "code",
   "execution_count": 68,
   "metadata": {},
   "outputs": [],
   "source": [
    "dcov = pd.merge(dcov,df_TD[['LA_code','year','DC_Total']],how='left',on=['LA_code','year'])\n",
    "dcov.rename(columns={'DC_Total':'TD'},inplace=True)"
   ]
  },
  {
   "cell_type": "code",
   "execution_count": 69,
   "metadata": {},
   "outputs": [],
   "source": [
    "dcov = pd.merge(dcov,df_NP,how='left',on=['LA_code','LA','year'])"
   ]
  },
  {
   "cell_type": "code",
   "execution_count": 70,
   "metadata": {},
   "outputs": [
    {
     "data": {
      "text/html": [
       "<div>\n",
       "<style scoped>\n",
       "    .dataframe tbody tr th:only-of-type {\n",
       "        vertical-align: middle;\n",
       "    }\n",
       "\n",
       "    .dataframe tbody tr th {\n",
       "        vertical-align: top;\n",
       "    }\n",
       "\n",
       "    .dataframe thead th {\n",
       "        text-align: right;\n",
       "    }\n",
       "</style>\n",
       "<table border=\"1\" class=\"dataframe\">\n",
       "  <thead>\n",
       "    <tr style=\"text-align: right;\">\n",
       "      <th></th>\n",
       "      <th>LA_code</th>\n",
       "      <th>LA</th>\n",
       "      <th>year</th>\n",
       "      <th>TAR</th>\n",
       "      <th>netD</th>\n",
       "      <th>SR</th>\n",
       "      <th>AR</th>\n",
       "      <th>AH</th>\n",
       "      <th>IR</th>\n",
       "      <th>TD</th>\n",
       "      <th>band_a</th>\n",
       "      <th>band_b</th>\n",
       "      <th>band_c</th>\n",
       "      <th>band_d</th>\n",
       "      <th>band_e</th>\n",
       "      <th>band_f</th>\n",
       "      <th>band_g</th>\n",
       "      <th>band_h</th>\n",
       "      <th>band_i</th>\n",
       "      <th>all_properties</th>\n",
       "    </tr>\n",
       "  </thead>\n",
       "  <tbody>\n",
       "    <tr>\n",
       "      <th>0</th>\n",
       "      <td>E08000026</td>\n",
       "      <td>Coventry</td>\n",
       "      <td>1992</td>\n",
       "      <td>127.0</td>\n",
       "      <td>NaN</td>\n",
       "      <td>102.0</td>\n",
       "      <td>NaN</td>\n",
       "      <td>25.0</td>\n",
       "      <td>NaN</td>\n",
       "      <td>230</td>\n",
       "      <td>NaN</td>\n",
       "      <td>NaN</td>\n",
       "      <td>NaN</td>\n",
       "      <td>NaN</td>\n",
       "      <td>NaN</td>\n",
       "      <td>NaN</td>\n",
       "      <td>NaN</td>\n",
       "      <td>NaN</td>\n",
       "      <td>NaN</td>\n",
       "      <td>NaN</td>\n",
       "    </tr>\n",
       "    <tr>\n",
       "      <th>1</th>\n",
       "      <td>E08000026</td>\n",
       "      <td>Coventry</td>\n",
       "      <td>1993</td>\n",
       "      <td>331.0</td>\n",
       "      <td>NaN</td>\n",
       "      <td>231.0</td>\n",
       "      <td>NaN</td>\n",
       "      <td>100.0</td>\n",
       "      <td>NaN</td>\n",
       "      <td>390</td>\n",
       "      <td>52710.0</td>\n",
       "      <td>36050.0</td>\n",
       "      <td>20880.0</td>\n",
       "      <td>7100.0</td>\n",
       "      <td>3600.0</td>\n",
       "      <td>2050.0</td>\n",
       "      <td>1130.0</td>\n",
       "      <td>160.0</td>\n",
       "      <td>NaN</td>\n",
       "      <td>123680.0</td>\n",
       "    </tr>\n",
       "    <tr>\n",
       "      <th>2</th>\n",
       "      <td>E08000026</td>\n",
       "      <td>Coventry</td>\n",
       "      <td>1994</td>\n",
       "      <td>474.0</td>\n",
       "      <td>NaN</td>\n",
       "      <td>378.0</td>\n",
       "      <td>NaN</td>\n",
       "      <td>96.0</td>\n",
       "      <td>NaN</td>\n",
       "      <td>330</td>\n",
       "      <td>52930.0</td>\n",
       "      <td>36170.0</td>\n",
       "      <td>20710.0</td>\n",
       "      <td>7200.0</td>\n",
       "      <td>3520.0</td>\n",
       "      <td>1990.0</td>\n",
       "      <td>1080.0</td>\n",
       "      <td>150.0</td>\n",
       "      <td>NaN</td>\n",
       "      <td>123750.0</td>\n",
       "    </tr>\n",
       "    <tr>\n",
       "      <th>3</th>\n",
       "      <td>E08000026</td>\n",
       "      <td>Coventry</td>\n",
       "      <td>1995</td>\n",
       "      <td>371.0</td>\n",
       "      <td>NaN</td>\n",
       "      <td>271.0</td>\n",
       "      <td>NaN</td>\n",
       "      <td>100.0</td>\n",
       "      <td>NaN</td>\n",
       "      <td>490</td>\n",
       "      <td>53430.0</td>\n",
       "      <td>36480.0</td>\n",
       "      <td>20490.0</td>\n",
       "      <td>7280.0</td>\n",
       "      <td>3550.0</td>\n",
       "      <td>1920.0</td>\n",
       "      <td>1040.0</td>\n",
       "      <td>150.0</td>\n",
       "      <td>NaN</td>\n",
       "      <td>124340.0</td>\n",
       "    </tr>\n",
       "    <tr>\n",
       "      <th>4</th>\n",
       "      <td>E08000026</td>\n",
       "      <td>Coventry</td>\n",
       "      <td>1996</td>\n",
       "      <td>315.0</td>\n",
       "      <td>NaN</td>\n",
       "      <td>203.0</td>\n",
       "      <td>NaN</td>\n",
       "      <td>112.0</td>\n",
       "      <td>NaN</td>\n",
       "      <td>530</td>\n",
       "      <td>53650.0</td>\n",
       "      <td>36950.0</td>\n",
       "      <td>20270.0</td>\n",
       "      <td>7420.0</td>\n",
       "      <td>3580.0</td>\n",
       "      <td>1910.0</td>\n",
       "      <td>1040.0</td>\n",
       "      <td>150.0</td>\n",
       "      <td>NaN</td>\n",
       "      <td>124960.0</td>\n",
       "    </tr>\n",
       "  </tbody>\n",
       "</table>\n",
       "</div>"
      ],
      "text/plain": [
       "     LA_code        LA  year    TAR  netD     SR  AR     AH  IR   TD   band_a  \\\n",
       "0  E08000026  Coventry  1992  127.0   NaN  102.0 NaN   25.0 NaN  230      NaN   \n",
       "1  E08000026  Coventry  1993  331.0   NaN  231.0 NaN  100.0 NaN  390  52710.0   \n",
       "2  E08000026  Coventry  1994  474.0   NaN  378.0 NaN   96.0 NaN  330  52930.0   \n",
       "3  E08000026  Coventry  1995  371.0   NaN  271.0 NaN  100.0 NaN  490  53430.0   \n",
       "4  E08000026  Coventry  1996  315.0   NaN  203.0 NaN  112.0 NaN  530  53650.0   \n",
       "\n",
       "    band_b   band_c  band_d  band_e  band_f  band_g  band_h  band_i  \\\n",
       "0      NaN      NaN     NaN     NaN     NaN     NaN     NaN     NaN   \n",
       "1  36050.0  20880.0  7100.0  3600.0  2050.0  1130.0   160.0     NaN   \n",
       "2  36170.0  20710.0  7200.0  3520.0  1990.0  1080.0   150.0     NaN   \n",
       "3  36480.0  20490.0  7280.0  3550.0  1920.0  1040.0   150.0     NaN   \n",
       "4  36950.0  20270.0  7420.0  3580.0  1910.0  1040.0   150.0     NaN   \n",
       "\n",
       "   all_properties  \n",
       "0             NaN  \n",
       "1        123680.0  \n",
       "2        123750.0  \n",
       "3        124340.0  \n",
       "4        124960.0  "
      ]
     },
     "execution_count": 70,
     "metadata": {},
     "output_type": "execute_result"
    }
   ],
   "source": [
    "dcov.head()"
   ]
  },
  {
   "cell_type": "code",
   "execution_count": 71,
   "metadata": {},
   "outputs": [
    {
     "data": {
      "text/html": [
       "<div>\n",
       "<style scoped>\n",
       "    .dataframe tbody tr th:only-of-type {\n",
       "        vertical-align: middle;\n",
       "    }\n",
       "\n",
       "    .dataframe tbody tr th {\n",
       "        vertical-align: top;\n",
       "    }\n",
       "\n",
       "    .dataframe thead th {\n",
       "        text-align: right;\n",
       "    }\n",
       "</style>\n",
       "<table border=\"1\" class=\"dataframe\">\n",
       "  <thead>\n",
       "    <tr style=\"text-align: right;\">\n",
       "      <th></th>\n",
       "      <th>LA_code</th>\n",
       "      <th>LA</th>\n",
       "      <th>households</th>\n",
       "      <th>homeless_acc</th>\n",
       "      <th>homeless_pm</th>\n",
       "      <th>TA</th>\n",
       "      <th>TA_pm</th>\n",
       "      <th>no_accom</th>\n",
       "      <th>year</th>\n",
       "      <th>date</th>\n",
       "    </tr>\n",
       "  </thead>\n",
       "  <tbody>\n",
       "    <tr>\n",
       "      <th>272</th>\n",
       "      <td>E08000026</td>\n",
       "      <td>Coventry</td>\n",
       "      <td>127.032</td>\n",
       "      <td>550</td>\n",
       "      <td>4.329618</td>\n",
       "      <td>24</td>\n",
       "      <td>0.188929</td>\n",
       "      <td>0</td>\n",
       "      <td>2009</td>\n",
       "      <td>2009-01-01</td>\n",
       "    </tr>\n",
       "    <tr>\n",
       "      <th>598</th>\n",
       "      <td>E08000026</td>\n",
       "      <td>Coventry</td>\n",
       "      <td>127.000</td>\n",
       "      <td>538</td>\n",
       "      <td>4.23622</td>\n",
       "      <td>39</td>\n",
       "      <td>0.307087</td>\n",
       "      <td>0</td>\n",
       "      <td>2010</td>\n",
       "      <td>2010-01-01</td>\n",
       "    </tr>\n",
       "    <tr>\n",
       "      <th>924</th>\n",
       "      <td>E08000026</td>\n",
       "      <td>Coventry</td>\n",
       "      <td>127.000</td>\n",
       "      <td>703</td>\n",
       "      <td>5.535433</td>\n",
       "      <td>32</td>\n",
       "      <td>0.251969</td>\n",
       "      <td>0</td>\n",
       "      <td>2011</td>\n",
       "      <td>2011-01-01</td>\n",
       "    </tr>\n",
       "    <tr>\n",
       "      <th>1250</th>\n",
       "      <td>E08000026</td>\n",
       "      <td>Coventry</td>\n",
       "      <td>127.000</td>\n",
       "      <td>576</td>\n",
       "      <td>4.54</td>\n",
       "      <td>67</td>\n",
       "      <td>0.53</td>\n",
       "      <td>315</td>\n",
       "      <td>2012</td>\n",
       "      <td>2012-01-01</td>\n",
       "    </tr>\n",
       "    <tr>\n",
       "      <th>1576</th>\n",
       "      <td>E08000026</td>\n",
       "      <td>Coventry</td>\n",
       "      <td>130.690</td>\n",
       "      <td>540</td>\n",
       "      <td>4.13</td>\n",
       "      <td>55</td>\n",
       "      <td>0.42</td>\n",
       "      <td>378</td>\n",
       "      <td>2013</td>\n",
       "      <td>2013-01-01</td>\n",
       "    </tr>\n",
       "  </tbody>\n",
       "</table>\n",
       "</div>"
      ],
      "text/plain": [
       "        LA_code        LA  households homeless_acc homeless_pm  TA     TA_pm  \\\n",
       "272   E08000026  Coventry     127.032          550    4.329618  24  0.188929   \n",
       "598   E08000026  Coventry     127.000          538     4.23622  39  0.307087   \n",
       "924   E08000026  Coventry     127.000          703    5.535433  32  0.251969   \n",
       "1250  E08000026  Coventry     127.000          576        4.54  67      0.53   \n",
       "1576  E08000026  Coventry     130.690          540        4.13  55      0.42   \n",
       "\n",
       "     no_accom  year       date  \n",
       "272         0  2009 2009-01-01  \n",
       "598         0  2010 2010-01-01  \n",
       "924         0  2011 2011-01-01  \n",
       "1250      315  2012 2012-01-01  \n",
       "1576      378  2013 2013-01-01  "
      ]
     },
     "execution_count": 71,
     "metadata": {},
     "output_type": "execute_result"
    }
   ],
   "source": [
    "dcov_hl = df_hl[df_hl.loc[:,'LA']=='Coventry'].copy()\n",
    "dcov_hl.head()"
   ]
  },
  {
   "cell_type": "markdown",
   "metadata": {},
   "source": [
    "Collating datasets into single dataframe for national aggregates"
   ]
  },
  {
   "cell_type": "code",
   "execution_count": 72,
   "metadata": {},
   "outputs": [
    {
     "name": "stderr",
     "output_type": "stream",
     "text": [
      "C:\\Users\\adnaa\\AppData\\Local\\Temp\\ipykernel_113260\\92610846.py:7: FutureWarning: Dropping invalid columns in DataFrameGroupBy.mean is deprecated. In a future version, a TypeError will be raised. Before calling .mean, select only columns which should be valid for the function.\n",
      "  df = pd.merge(df, df_TD.groupby('year').mean().rename(columns={'DC_Total':'TD'}),how='left',left_index=True,right_index=True)\n"
     ]
    },
    {
     "data": {
      "text/html": [
       "<div>\n",
       "<style scoped>\n",
       "    .dataframe tbody tr th:only-of-type {\n",
       "        vertical-align: middle;\n",
       "    }\n",
       "\n",
       "    .dataframe tbody tr th {\n",
       "        vertical-align: top;\n",
       "    }\n",
       "\n",
       "    .dataframe thead th {\n",
       "        text-align: right;\n",
       "    }\n",
       "</style>\n",
       "<table border=\"1\" class=\"dataframe\">\n",
       "  <thead>\n",
       "    <tr style=\"text-align: right;\">\n",
       "      <th></th>\n",
       "      <th>TAR</th>\n",
       "      <th>netD</th>\n",
       "      <th>SR</th>\n",
       "      <th>AR</th>\n",
       "      <th>AH</th>\n",
       "      <th>IR</th>\n",
       "    </tr>\n",
       "    <tr>\n",
       "      <th>year</th>\n",
       "      <th></th>\n",
       "      <th></th>\n",
       "      <th></th>\n",
       "      <th></th>\n",
       "      <th></th>\n",
       "      <th></th>\n",
       "    </tr>\n",
       "  </thead>\n",
       "  <tbody>\n",
       "    <tr>\n",
       "      <th>1992</th>\n",
       "      <td>77.884514</td>\n",
       "      <td>NaN</td>\n",
       "      <td>67.467192</td>\n",
       "      <td>NaN</td>\n",
       "      <td>10.640751</td>\n",
       "      <td>NaN</td>\n",
       "    </tr>\n",
       "    <tr>\n",
       "      <th>1993</th>\n",
       "      <td>172.950000</td>\n",
       "      <td>NaN</td>\n",
       "      <td>150.060526</td>\n",
       "      <td>NaN</td>\n",
       "      <td>23.381720</td>\n",
       "      <td>NaN</td>\n",
       "    </tr>\n",
       "    <tr>\n",
       "      <th>1994</th>\n",
       "      <td>168.412698</td>\n",
       "      <td>NaN</td>\n",
       "      <td>129.473545</td>\n",
       "      <td>NaN</td>\n",
       "      <td>38.983784</td>\n",
       "      <td>NaN</td>\n",
       "    </tr>\n",
       "    <tr>\n",
       "      <th>1995</th>\n",
       "      <td>185.452381</td>\n",
       "      <td>NaN</td>\n",
       "      <td>138.068783</td>\n",
       "      <td>NaN</td>\n",
       "      <td>42.272973</td>\n",
       "      <td>NaN</td>\n",
       "    </tr>\n",
       "    <tr>\n",
       "      <th>1996</th>\n",
       "      <td>197.692308</td>\n",
       "      <td>NaN</td>\n",
       "      <td>151.058355</td>\n",
       "      <td>NaN</td>\n",
       "      <td>47.644986</td>\n",
       "      <td>NaN</td>\n",
       "    </tr>\n",
       "  </tbody>\n",
       "</table>\n",
       "</div>"
      ],
      "text/plain": [
       "             TAR  netD          SR  AR         AH  IR\n",
       "year                                                 \n",
       "1992   77.884514   NaN   67.467192 NaN  10.640751 NaN\n",
       "1993  172.950000   NaN  150.060526 NaN  23.381720 NaN\n",
       "1994  168.412698   NaN  129.473545 NaN  38.983784 NaN\n",
       "1995  185.452381   NaN  138.068783 NaN  42.272973 NaN\n",
       "1996  197.692308   NaN  151.058355 NaN  47.644986 NaN"
      ]
     },
     "execution_count": 72,
     "metadata": {},
     "output_type": "execute_result"
    }
   ],
   "source": [
    "df = df_TAR.groupby('year').mean().rename(columns={'new_dwellings':'TAR'})\n",
    "df = pd.merge(df, df_netD.groupby('year').mean().rename(columns={'net dwellings':'netD'}),how='left',left_index=True,right_index=True)\n",
    "df = pd.merge(df, df_SR.groupby('year').mean().rename(columns={'new_dwellings':'SR'}),how='left',left_index=True,right_index=True)\n",
    "df = pd.merge(df, df_AR.groupby('year').mean().rename(columns={'DC':'AR'}),how='left',left_index=True,right_index=True)\n",
    "df = pd.merge(df, df_AH.groupby('year').mean().rename(columns={'DC':'AH'}),how='left',left_index=True,right_index=True)\n",
    "df = pd.merge(df, df_IR.groupby('year').mean().rename(columns={'DC':'IR'}),how='left',left_index=True,right_index=True)\n",
    "df = pd.merge(df, df_TD.groupby('year').mean().rename(columns={'DC_Total':'TD'}),how='left',left_index=True,right_index=True)\n",
    "df.head()\n"
   ]
  },
  {
   "cell_type": "code",
   "execution_count": 75,
   "metadata": {},
   "outputs": [
    {
     "data": {
      "text/html": [
       "<div>\n",
       "<style scoped>\n",
       "    .dataframe tbody tr th:only-of-type {\n",
       "        vertical-align: middle;\n",
       "    }\n",
       "\n",
       "    .dataframe tbody tr th {\n",
       "        vertical-align: top;\n",
       "    }\n",
       "\n",
       "    .dataframe thead th {\n",
       "        text-align: right;\n",
       "    }\n",
       "</style>\n",
       "<table border=\"1\" class=\"dataframe\">\n",
       "  <thead>\n",
       "    <tr style=\"text-align: right;\">\n",
       "      <th></th>\n",
       "      <th>year</th>\n",
       "      <th>TAR</th>\n",
       "      <th>netD</th>\n",
       "      <th>SR</th>\n",
       "      <th>AR</th>\n",
       "      <th>AH</th>\n",
       "      <th>IR</th>\n",
       "      <th>date</th>\n",
       "    </tr>\n",
       "  </thead>\n",
       "  <tbody>\n",
       "    <tr>\n",
       "      <th>0</th>\n",
       "      <td>1992</td>\n",
       "      <td>77.884514</td>\n",
       "      <td>NaN</td>\n",
       "      <td>67.467192</td>\n",
       "      <td>NaN</td>\n",
       "      <td>10.640751</td>\n",
       "      <td>NaN</td>\n",
       "      <td>1992-01-01</td>\n",
       "    </tr>\n",
       "    <tr>\n",
       "      <th>1</th>\n",
       "      <td>1993</td>\n",
       "      <td>172.950000</td>\n",
       "      <td>NaN</td>\n",
       "      <td>150.060526</td>\n",
       "      <td>NaN</td>\n",
       "      <td>23.381720</td>\n",
       "      <td>NaN</td>\n",
       "      <td>1993-01-01</td>\n",
       "    </tr>\n",
       "    <tr>\n",
       "      <th>2</th>\n",
       "      <td>1994</td>\n",
       "      <td>168.412698</td>\n",
       "      <td>NaN</td>\n",
       "      <td>129.473545</td>\n",
       "      <td>NaN</td>\n",
       "      <td>38.983784</td>\n",
       "      <td>NaN</td>\n",
       "      <td>1994-01-01</td>\n",
       "    </tr>\n",
       "    <tr>\n",
       "      <th>3</th>\n",
       "      <td>1995</td>\n",
       "      <td>185.452381</td>\n",
       "      <td>NaN</td>\n",
       "      <td>138.068783</td>\n",
       "      <td>NaN</td>\n",
       "      <td>42.272973</td>\n",
       "      <td>NaN</td>\n",
       "      <td>1995-01-01</td>\n",
       "    </tr>\n",
       "    <tr>\n",
       "      <th>4</th>\n",
       "      <td>1996</td>\n",
       "      <td>197.692308</td>\n",
       "      <td>NaN</td>\n",
       "      <td>151.058355</td>\n",
       "      <td>NaN</td>\n",
       "      <td>47.644986</td>\n",
       "      <td>NaN</td>\n",
       "      <td>1996-01-01</td>\n",
       "    </tr>\n",
       "    <tr>\n",
       "      <th>5</th>\n",
       "      <td>1997</td>\n",
       "      <td>154.070845</td>\n",
       "      <td>NaN</td>\n",
       "      <td>115.708447</td>\n",
       "      <td>NaN</td>\n",
       "      <td>39.217270</td>\n",
       "      <td>NaN</td>\n",
       "      <td>1997-01-01</td>\n",
       "    </tr>\n",
       "    <tr>\n",
       "      <th>6</th>\n",
       "      <td>1998</td>\n",
       "      <td>130.038356</td>\n",
       "      <td>NaN</td>\n",
       "      <td>98.027397</td>\n",
       "      <td>NaN</td>\n",
       "      <td>32.728291</td>\n",
       "      <td>NaN</td>\n",
       "      <td>1998-01-01</td>\n",
       "    </tr>\n",
       "    <tr>\n",
       "      <th>7</th>\n",
       "      <td>1999</td>\n",
       "      <td>116.629121</td>\n",
       "      <td>NaN</td>\n",
       "      <td>92.759669</td>\n",
       "      <td>NaN</td>\n",
       "      <td>25.067797</td>\n",
       "      <td>NaN</td>\n",
       "      <td>1999-01-01</td>\n",
       "    </tr>\n",
       "    <tr>\n",
       "      <th>8</th>\n",
       "      <td>2000</td>\n",
       "      <td>96.395604</td>\n",
       "      <td>NaN</td>\n",
       "      <td>79.538674</td>\n",
       "      <td>NaN</td>\n",
       "      <td>17.754237</td>\n",
       "      <td>NaN</td>\n",
       "      <td>2000-01-01</td>\n",
       "    </tr>\n",
       "    <tr>\n",
       "      <th>9</th>\n",
       "      <td>2001</td>\n",
       "      <td>91.074176</td>\n",
       "      <td>NaN</td>\n",
       "      <td>74.803867</td>\n",
       "      <td>NaN</td>\n",
       "      <td>17.152542</td>\n",
       "      <td>NaN</td>\n",
       "      <td>2001-01-01</td>\n",
       "    </tr>\n",
       "    <tr>\n",
       "      <th>10</th>\n",
       "      <td>2002</td>\n",
       "      <td>90.700549</td>\n",
       "      <td>414.419261</td>\n",
       "      <td>74.060773</td>\n",
       "      <td>NaN</td>\n",
       "      <td>17.528249</td>\n",
       "      <td>NaN</td>\n",
       "      <td>2002-01-01</td>\n",
       "    </tr>\n",
       "    <tr>\n",
       "      <th>11</th>\n",
       "      <td>2003</td>\n",
       "      <td>90.447802</td>\n",
       "      <td>451.624063</td>\n",
       "      <td>66.174033</td>\n",
       "      <td>NaN</td>\n",
       "      <td>25.333333</td>\n",
       "      <td>NaN</td>\n",
       "      <td>2003-01-01</td>\n",
       "    </tr>\n",
       "    <tr>\n",
       "      <th>12</th>\n",
       "      <td>2004</td>\n",
       "      <td>104.585165</td>\n",
       "      <td>482.963046</td>\n",
       "      <td>62.599448</td>\n",
       "      <td>NaN</td>\n",
       "      <td>42.723164</td>\n",
       "      <td>0.802260</td>\n",
       "      <td>2004-01-01</td>\n",
       "    </tr>\n",
       "    <tr>\n",
       "      <th>13</th>\n",
       "      <td>2005</td>\n",
       "      <td>102.939560</td>\n",
       "      <td>524.160266</td>\n",
       "      <td>59.872928</td>\n",
       "      <td>NaN</td>\n",
       "      <td>40.347458</td>\n",
       "      <td>4.274011</td>\n",
       "      <td>2005-01-01</td>\n",
       "    </tr>\n",
       "    <tr>\n",
       "      <th>14</th>\n",
       "      <td>2006</td>\n",
       "      <td>123.200549</td>\n",
       "      <td>572.465871</td>\n",
       "      <td>63.453039</td>\n",
       "      <td>NaN</td>\n",
       "      <td>57.062147</td>\n",
       "      <td>4.731638</td>\n",
       "      <td>2006-01-01</td>\n",
       "    </tr>\n",
       "    <tr>\n",
       "      <th>15</th>\n",
       "      <td>2007</td>\n",
       "      <td>118.947802</td>\n",
       "      <td>607.163611</td>\n",
       "      <td>67.019337</td>\n",
       "      <td>NaN</td>\n",
       "      <td>50.209040</td>\n",
       "      <td>3.392655</td>\n",
       "      <td>2007-01-01</td>\n",
       "    </tr>\n",
       "    <tr>\n",
       "      <th>16</th>\n",
       "      <td>2008</td>\n",
       "      <td>146.068681</td>\n",
       "      <td>631.451747</td>\n",
       "      <td>81.872928</td>\n",
       "      <td>NaN</td>\n",
       "      <td>62.991525</td>\n",
       "      <td>3.132768</td>\n",
       "      <td>2008-01-01</td>\n",
       "    </tr>\n",
       "    <tr>\n",
       "      <th>17</th>\n",
       "      <td>2009</td>\n",
       "      <td>152.854795</td>\n",
       "      <td>516.290219</td>\n",
       "      <td>85.972376</td>\n",
       "      <td>NaN</td>\n",
       "      <td>64.684507</td>\n",
       "      <td>4.822034</td>\n",
       "      <td>2009-01-01</td>\n",
       "    </tr>\n",
       "    <tr>\n",
       "      <th>18</th>\n",
       "      <td>2010</td>\n",
       "      <td>174.541916</td>\n",
       "      <td>444.386253</td>\n",
       "      <td>100.272455</td>\n",
       "      <td>NaN</td>\n",
       "      <td>68.233129</td>\n",
       "      <td>7.858896</td>\n",
       "      <td>2010-01-01</td>\n",
       "    </tr>\n",
       "    <tr>\n",
       "      <th>19</th>\n",
       "      <td>2011</td>\n",
       "      <td>182.901198</td>\n",
       "      <td>421.452759</td>\n",
       "      <td>118.449102</td>\n",
       "      <td>NaN</td>\n",
       "      <td>52.159509</td>\n",
       "      <td>13.874233</td>\n",
       "      <td>2011-01-01</td>\n",
       "    </tr>\n",
       "    <tr>\n",
       "      <th>20</th>\n",
       "      <td>2012</td>\n",
       "      <td>174.688623</td>\n",
       "      <td>413.791116</td>\n",
       "      <td>112.805389</td>\n",
       "      <td>3.515337</td>\n",
       "      <td>53.582822</td>\n",
       "      <td>6.303681</td>\n",
       "      <td>2012-01-01</td>\n",
       "    </tr>\n",
       "    <tr>\n",
       "      <th>21</th>\n",
       "      <td>2013</td>\n",
       "      <td>128.973054</td>\n",
       "      <td>382.582822</td>\n",
       "      <td>52.634731</td>\n",
       "      <td>22.027607</td>\n",
       "      <td>52.073620</td>\n",
       "      <td>4.110429</td>\n",
       "      <td>2013-01-01</td>\n",
       "    </tr>\n",
       "    <tr>\n",
       "      <th>22</th>\n",
       "      <td>2014</td>\n",
       "      <td>129.113772</td>\n",
       "      <td>419.033742</td>\n",
       "      <td>32.706587</td>\n",
       "      <td>61.242331</td>\n",
       "      <td>33.558282</td>\n",
       "      <td>3.969325</td>\n",
       "      <td>2014-01-01</td>\n",
       "    </tr>\n",
       "    <tr>\n",
       "      <th>23</th>\n",
       "      <td>2015</td>\n",
       "      <td>197.482036</td>\n",
       "      <td>523.598160</td>\n",
       "      <td>27.937126</td>\n",
       "      <td>125.334356</td>\n",
       "      <td>10.757669</td>\n",
       "      <td>3.389571</td>\n",
       "      <td>2015-01-01</td>\n",
       "    </tr>\n",
       "    <tr>\n",
       "      <th>24</th>\n",
       "      <td>2016</td>\n",
       "      <td>97.595808</td>\n",
       "      <td>581.733129</td>\n",
       "      <td>20.353293</td>\n",
       "      <td>50.726994</td>\n",
       "      <td>10.693252</td>\n",
       "      <td>5.205521</td>\n",
       "      <td>2016-01-01</td>\n",
       "    </tr>\n",
       "    <tr>\n",
       "      <th>25</th>\n",
       "      <td>2017</td>\n",
       "      <td>126.332335</td>\n",
       "      <td>666.702454</td>\n",
       "      <td>17.407186</td>\n",
       "      <td>75.012270</td>\n",
       "      <td>6.036810</td>\n",
       "      <td>2.877301</td>\n",
       "      <td>2017-01-01</td>\n",
       "    </tr>\n",
       "    <tr>\n",
       "      <th>26</th>\n",
       "      <td>2018</td>\n",
       "      <td>140.925150</td>\n",
       "      <td>681.843558</td>\n",
       "      <td>20.185629</td>\n",
       "      <td>82.582822</td>\n",
       "      <td>4.475460</td>\n",
       "      <td>2.426380</td>\n",
       "      <td>2018-01-01</td>\n",
       "    </tr>\n",
       "    <tr>\n",
       "      <th>27</th>\n",
       "      <td>2019</td>\n",
       "      <td>171.182635</td>\n",
       "      <td>741.953988</td>\n",
       "      <td>18.973054</td>\n",
       "      <td>88.766871</td>\n",
       "      <td>7.546012</td>\n",
       "      <td>4.242331</td>\n",
       "      <td>2019-01-01</td>\n",
       "    </tr>\n",
       "    <tr>\n",
       "      <th>28</th>\n",
       "      <td>2020</td>\n",
       "      <td>181.230769</td>\n",
       "      <td>765.621451</td>\n",
       "      <td>20.723077</td>\n",
       "      <td>89.069401</td>\n",
       "      <td>6.649842</td>\n",
       "      <td>5.558360</td>\n",
       "      <td>2020-01-01</td>\n",
       "    </tr>\n",
       "    <tr>\n",
       "      <th>29</th>\n",
       "      <td>2021</td>\n",
       "      <td>161.801242</td>\n",
       "      <td>689.455414</td>\n",
       "      <td>18.493789</td>\n",
       "      <td>75.525478</td>\n",
       "      <td>3.633758</td>\n",
       "      <td>6.566879</td>\n",
       "      <td>2021-01-01</td>\n",
       "    </tr>\n",
       "  </tbody>\n",
       "</table>\n",
       "</div>"
      ],
      "text/plain": [
       "    year         TAR        netD          SR          AR         AH  \\\n",
       "0   1992   77.884514         NaN   67.467192         NaN  10.640751   \n",
       "1   1993  172.950000         NaN  150.060526         NaN  23.381720   \n",
       "2   1994  168.412698         NaN  129.473545         NaN  38.983784   \n",
       "3   1995  185.452381         NaN  138.068783         NaN  42.272973   \n",
       "4   1996  197.692308         NaN  151.058355         NaN  47.644986   \n",
       "5   1997  154.070845         NaN  115.708447         NaN  39.217270   \n",
       "6   1998  130.038356         NaN   98.027397         NaN  32.728291   \n",
       "7   1999  116.629121         NaN   92.759669         NaN  25.067797   \n",
       "8   2000   96.395604         NaN   79.538674         NaN  17.754237   \n",
       "9   2001   91.074176         NaN   74.803867         NaN  17.152542   \n",
       "10  2002   90.700549  414.419261   74.060773         NaN  17.528249   \n",
       "11  2003   90.447802  451.624063   66.174033         NaN  25.333333   \n",
       "12  2004  104.585165  482.963046   62.599448         NaN  42.723164   \n",
       "13  2005  102.939560  524.160266   59.872928         NaN  40.347458   \n",
       "14  2006  123.200549  572.465871   63.453039         NaN  57.062147   \n",
       "15  2007  118.947802  607.163611   67.019337         NaN  50.209040   \n",
       "16  2008  146.068681  631.451747   81.872928         NaN  62.991525   \n",
       "17  2009  152.854795  516.290219   85.972376         NaN  64.684507   \n",
       "18  2010  174.541916  444.386253  100.272455         NaN  68.233129   \n",
       "19  2011  182.901198  421.452759  118.449102         NaN  52.159509   \n",
       "20  2012  174.688623  413.791116  112.805389    3.515337  53.582822   \n",
       "21  2013  128.973054  382.582822   52.634731   22.027607  52.073620   \n",
       "22  2014  129.113772  419.033742   32.706587   61.242331  33.558282   \n",
       "23  2015  197.482036  523.598160   27.937126  125.334356  10.757669   \n",
       "24  2016   97.595808  581.733129   20.353293   50.726994  10.693252   \n",
       "25  2017  126.332335  666.702454   17.407186   75.012270   6.036810   \n",
       "26  2018  140.925150  681.843558   20.185629   82.582822   4.475460   \n",
       "27  2019  171.182635  741.953988   18.973054   88.766871   7.546012   \n",
       "28  2020  181.230769  765.621451   20.723077   89.069401   6.649842   \n",
       "29  2021  161.801242  689.455414   18.493789   75.525478   3.633758   \n",
       "\n",
       "           IR       date  \n",
       "0         NaN 1992-01-01  \n",
       "1         NaN 1993-01-01  \n",
       "2         NaN 1994-01-01  \n",
       "3         NaN 1995-01-01  \n",
       "4         NaN 1996-01-01  \n",
       "5         NaN 1997-01-01  \n",
       "6         NaN 1998-01-01  \n",
       "7         NaN 1999-01-01  \n",
       "8         NaN 2000-01-01  \n",
       "9         NaN 2001-01-01  \n",
       "10        NaN 2002-01-01  \n",
       "11        NaN 2003-01-01  \n",
       "12   0.802260 2004-01-01  \n",
       "13   4.274011 2005-01-01  \n",
       "14   4.731638 2006-01-01  \n",
       "15   3.392655 2007-01-01  \n",
       "16   3.132768 2008-01-01  \n",
       "17   4.822034 2009-01-01  \n",
       "18   7.858896 2010-01-01  \n",
       "19  13.874233 2011-01-01  \n",
       "20   6.303681 2012-01-01  \n",
       "21   4.110429 2013-01-01  \n",
       "22   3.969325 2014-01-01  \n",
       "23   3.389571 2015-01-01  \n",
       "24   5.205521 2016-01-01  \n",
       "25   2.877301 2017-01-01  \n",
       "26   2.426380 2018-01-01  \n",
       "27   4.242331 2019-01-01  \n",
       "28   5.558360 2020-01-01  \n",
       "29   6.566879 2021-01-01  "
      ]
     },
     "execution_count": 75,
     "metadata": {},
     "output_type": "execute_result"
    }
   ],
   "source": [
    "df.reset_index(inplace=True)\n",
    "df['date'] = pd.to_datetime(df['year'].astype(str), format='%Y')\n",
    "df"
   ]
  },
  {
   "cell_type": "code",
   "execution_count": null,
   "metadata": {},
   "outputs": [],
   "source": []
  },
  {
   "cell_type": "code",
   "execution_count": null,
   "metadata": {},
   "outputs": [],
   "source": []
  },
  {
   "cell_type": "code",
   "execution_count": null,
   "metadata": {},
   "outputs": [],
   "source": []
  },
  {
   "cell_type": "markdown",
   "metadata": {},
   "source": [
    "### Analysis"
   ]
  },
  {
   "cell_type": "markdown",
   "metadata": {},
   "source": [
    "#### Summary Statistics"
   ]
  },
  {
   "cell_type": "markdown",
   "metadata": {},
   "source": [
    "First, for Coventry alone:"
   ]
  },
  {
   "cell_type": "code",
   "execution_count": 76,
   "metadata": {},
   "outputs": [],
   "source": [
    "dcov['TD'] = dcov['TD'].astype(float)"
   ]
  },
  {
   "cell_type": "code",
   "execution_count": 77,
   "metadata": {},
   "outputs": [
    {
     "data": {
      "text/html": [
       "<div>\n",
       "<style scoped>\n",
       "    .dataframe tbody tr th:only-of-type {\n",
       "        vertical-align: middle;\n",
       "    }\n",
       "\n",
       "    .dataframe tbody tr th {\n",
       "        vertical-align: top;\n",
       "    }\n",
       "\n",
       "    .dataframe thead th {\n",
       "        text-align: right;\n",
       "    }\n",
       "</style>\n",
       "<table border=\"1\" class=\"dataframe\">\n",
       "  <thead>\n",
       "    <tr style=\"text-align: right;\">\n",
       "      <th></th>\n",
       "      <th>TAR</th>\n",
       "      <th>netD</th>\n",
       "      <th>SR</th>\n",
       "      <th>AR</th>\n",
       "      <th>AH</th>\n",
       "      <th>IR</th>\n",
       "      <th>TD</th>\n",
       "      <th>band_a</th>\n",
       "      <th>band_b</th>\n",
       "      <th>band_c</th>\n",
       "      <th>band_d</th>\n",
       "      <th>band_e</th>\n",
       "      <th>band_f</th>\n",
       "      <th>band_g</th>\n",
       "      <th>band_h</th>\n",
       "      <th>band_i</th>\n",
       "      <th>all_properties</th>\n",
       "    </tr>\n",
       "  </thead>\n",
       "  <tbody>\n",
       "    <tr>\n",
       "      <th>count</th>\n",
       "      <td>30.000000</td>\n",
       "      <td>20.000000</td>\n",
       "      <td>30.000000</td>\n",
       "      <td>10.000000</td>\n",
       "      <td>30.000000</td>\n",
       "      <td>18.000000</td>\n",
       "      <td>27.000000</td>\n",
       "      <td>29.000000</td>\n",
       "      <td>29.000000</td>\n",
       "      <td>29.000000</td>\n",
       "      <td>29.000000</td>\n",
       "      <td>29.000000</td>\n",
       "      <td>29.000000</td>\n",
       "      <td>29.000000</td>\n",
       "      <td>29.000000</td>\n",
       "      <td>0.0</td>\n",
       "      <td>29.000000</td>\n",
       "    </tr>\n",
       "    <tr>\n",
       "      <th>mean</th>\n",
       "      <td>273.533333</td>\n",
       "      <td>924.150000</td>\n",
       "      <td>136.300000</td>\n",
       "      <td>134.600000</td>\n",
       "      <td>73.700000</td>\n",
       "      <td>12.444444</td>\n",
       "      <td>628.888889</td>\n",
       "      <td>55142.068966</td>\n",
       "      <td>39171.034483</td>\n",
       "      <td>21658.965517</td>\n",
       "      <td>8406.206897</td>\n",
       "      <td>4138.620690</td>\n",
       "      <td>2147.586207</td>\n",
       "      <td>1258.965517</td>\n",
       "      <td>163.103448</td>\n",
       "      <td>NaN</td>\n",
       "      <td>132082.758621</td>\n",
       "    </tr>\n",
       "    <tr>\n",
       "      <th>std</th>\n",
       "      <td>111.972821</td>\n",
       "      <td>471.909812</td>\n",
       "      <td>88.817577</td>\n",
       "      <td>84.322397</td>\n",
       "      <td>55.964367</td>\n",
       "      <td>17.657600</td>\n",
       "      <td>244.215122</td>\n",
       "      <td>2064.221367</td>\n",
       "      <td>2141.081744</td>\n",
       "      <td>1359.643716</td>\n",
       "      <td>861.578343</td>\n",
       "      <td>407.060228</td>\n",
       "      <td>168.960164</td>\n",
       "      <td>142.185614</td>\n",
       "      <td>8.905636</td>\n",
       "      <td>NaN</td>\n",
       "      <td>7001.863475</td>\n",
       "    </tr>\n",
       "    <tr>\n",
       "      <th>min</th>\n",
       "      <td>100.000000</td>\n",
       "      <td>-8.000000</td>\n",
       "      <td>0.000000</td>\n",
       "      <td>0.000000</td>\n",
       "      <td>0.000000</td>\n",
       "      <td>0.000000</td>\n",
       "      <td>230.000000</td>\n",
       "      <td>52710.000000</td>\n",
       "      <td>36050.000000</td>\n",
       "      <td>20180.000000</td>\n",
       "      <td>7100.000000</td>\n",
       "      <td>3520.000000</td>\n",
       "      <td>1910.000000</td>\n",
       "      <td>1040.000000</td>\n",
       "      <td>150.000000</td>\n",
       "      <td>NaN</td>\n",
       "      <td>123680.000000</td>\n",
       "    </tr>\n",
       "    <tr>\n",
       "      <th>25%</th>\n",
       "      <td>180.250000</td>\n",
       "      <td>629.250000</td>\n",
       "      <td>78.250000</td>\n",
       "      <td>87.000000</td>\n",
       "      <td>27.250000</td>\n",
       "      <td>0.000000</td>\n",
       "      <td>470.000000</td>\n",
       "      <td>53760.000000</td>\n",
       "      <td>37400.000000</td>\n",
       "      <td>20510.000000</td>\n",
       "      <td>7760.000000</td>\n",
       "      <td>3810.000000</td>\n",
       "      <td>2010.000000</td>\n",
       "      <td>1130.000000</td>\n",
       "      <td>160.000000</td>\n",
       "      <td>NaN</td>\n",
       "      <td>126630.000000</td>\n",
       "    </tr>\n",
       "    <tr>\n",
       "      <th>50%</th>\n",
       "      <td>255.000000</td>\n",
       "      <td>915.000000</td>\n",
       "      <td>112.000000</td>\n",
       "      <td>137.000000</td>\n",
       "      <td>76.000000</td>\n",
       "      <td>1.000000</td>\n",
       "      <td>570.000000</td>\n",
       "      <td>54160.000000</td>\n",
       "      <td>38710.000000</td>\n",
       "      <td>21200.000000</td>\n",
       "      <td>8310.000000</td>\n",
       "      <td>4150.000000</td>\n",
       "      <td>2130.000000</td>\n",
       "      <td>1320.000000</td>\n",
       "      <td>160.000000</td>\n",
       "      <td>NaN</td>\n",
       "      <td>129830.000000</td>\n",
       "    </tr>\n",
       "    <tr>\n",
       "      <th>75%</th>\n",
       "      <td>356.250000</td>\n",
       "      <td>1114.000000</td>\n",
       "      <td>199.000000</td>\n",
       "      <td>157.750000</td>\n",
       "      <td>103.000000</td>\n",
       "      <td>26.000000</td>\n",
       "      <td>800.000000</td>\n",
       "      <td>56140.000000</td>\n",
       "      <td>40760.000000</td>\n",
       "      <td>22520.000000</td>\n",
       "      <td>8900.000000</td>\n",
       "      <td>4400.000000</td>\n",
       "      <td>2270.000000</td>\n",
       "      <td>1380.000000</td>\n",
       "      <td>170.000000</td>\n",
       "      <td>NaN</td>\n",
       "      <td>136550.000000</td>\n",
       "    </tr>\n",
       "    <tr>\n",
       "      <th>max</th>\n",
       "      <td>524.000000</td>\n",
       "      <td>2241.000000</td>\n",
       "      <td>378.000000</td>\n",
       "      <td>278.000000</td>\n",
       "      <td>233.000000</td>\n",
       "      <td>50.000000</td>\n",
       "      <td>1220.000000</td>\n",
       "      <td>60840.000000</td>\n",
       "      <td>43270.000000</td>\n",
       "      <td>24530.000000</td>\n",
       "      <td>10280.000000</td>\n",
       "      <td>4890.000000</td>\n",
       "      <td>2490.000000</td>\n",
       "      <td>1450.000000</td>\n",
       "      <td>180.000000</td>\n",
       "      <td>NaN</td>\n",
       "      <td>147930.000000</td>\n",
       "    </tr>\n",
       "  </tbody>\n",
       "</table>\n",
       "</div>"
      ],
      "text/plain": [
       "              TAR         netD          SR          AR          AH         IR  \\\n",
       "count   30.000000    20.000000   30.000000   10.000000   30.000000  18.000000   \n",
       "mean   273.533333   924.150000  136.300000  134.600000   73.700000  12.444444   \n",
       "std    111.972821   471.909812   88.817577   84.322397   55.964367  17.657600   \n",
       "min    100.000000    -8.000000    0.000000    0.000000    0.000000   0.000000   \n",
       "25%    180.250000   629.250000   78.250000   87.000000   27.250000   0.000000   \n",
       "50%    255.000000   915.000000  112.000000  137.000000   76.000000   1.000000   \n",
       "75%    356.250000  1114.000000  199.000000  157.750000  103.000000  26.000000   \n",
       "max    524.000000  2241.000000  378.000000  278.000000  233.000000  50.000000   \n",
       "\n",
       "                TD        band_a        band_b        band_c        band_d  \\\n",
       "count    27.000000     29.000000     29.000000     29.000000     29.000000   \n",
       "mean    628.888889  55142.068966  39171.034483  21658.965517   8406.206897   \n",
       "std     244.215122   2064.221367   2141.081744   1359.643716    861.578343   \n",
       "min     230.000000  52710.000000  36050.000000  20180.000000   7100.000000   \n",
       "25%     470.000000  53760.000000  37400.000000  20510.000000   7760.000000   \n",
       "50%     570.000000  54160.000000  38710.000000  21200.000000   8310.000000   \n",
       "75%     800.000000  56140.000000  40760.000000  22520.000000   8900.000000   \n",
       "max    1220.000000  60840.000000  43270.000000  24530.000000  10280.000000   \n",
       "\n",
       "            band_e       band_f       band_g      band_h  band_i  \\\n",
       "count    29.000000    29.000000    29.000000   29.000000     0.0   \n",
       "mean   4138.620690  2147.586207  1258.965517  163.103448     NaN   \n",
       "std     407.060228   168.960164   142.185614    8.905636     NaN   \n",
       "min    3520.000000  1910.000000  1040.000000  150.000000     NaN   \n",
       "25%    3810.000000  2010.000000  1130.000000  160.000000     NaN   \n",
       "50%    4150.000000  2130.000000  1320.000000  160.000000     NaN   \n",
       "75%    4400.000000  2270.000000  1380.000000  170.000000     NaN   \n",
       "max    4890.000000  2490.000000  1450.000000  180.000000     NaN   \n",
       "\n",
       "       all_properties  \n",
       "count       29.000000  \n",
       "mean    132082.758621  \n",
       "std       7001.863475  \n",
       "min     123680.000000  \n",
       "25%     126630.000000  \n",
       "50%     129830.000000  \n",
       "75%     136550.000000  \n",
       "max     147930.000000  "
      ]
     },
     "execution_count": 77,
     "metadata": {},
     "output_type": "execute_result"
    }
   ],
   "source": [
    "dcov[[x for x in dcov.columns[3:]]].describe()"
   ]
  },
  {
   "cell_type": "markdown",
   "metadata": {},
   "source": [
    "Firstly, note that not all datasets cover the full range of years as seen in the `count` row. Let's examine the summary statistics for the years 2003-2021."
   ]
  },
  {
   "cell_type": "code",
   "execution_count": 78,
   "metadata": {},
   "outputs": [],
   "source": [
    "dcov_t = dcov[dcov.loc[:,'year']>2002].copy()"
   ]
  },
  {
   "cell_type": "code",
   "execution_count": 79,
   "metadata": {},
   "outputs": [
    {
     "data": {
      "text/html": [
       "<div>\n",
       "<style scoped>\n",
       "    .dataframe tbody tr th:only-of-type {\n",
       "        vertical-align: middle;\n",
       "    }\n",
       "\n",
       "    .dataframe tbody tr th {\n",
       "        vertical-align: top;\n",
       "    }\n",
       "\n",
       "    .dataframe thead th {\n",
       "        text-align: right;\n",
       "    }\n",
       "</style>\n",
       "<table border=\"1\" class=\"dataframe\">\n",
       "  <thead>\n",
       "    <tr style=\"text-align: right;\">\n",
       "      <th></th>\n",
       "      <th>TAR</th>\n",
       "      <th>netD</th>\n",
       "      <th>SR</th>\n",
       "      <th>AR</th>\n",
       "      <th>AH</th>\n",
       "      <th>IR</th>\n",
       "      <th>TD</th>\n",
       "      <th>band_a</th>\n",
       "      <th>band_b</th>\n",
       "      <th>band_c</th>\n",
       "      <th>band_d</th>\n",
       "      <th>band_e</th>\n",
       "      <th>band_f</th>\n",
       "      <th>band_g</th>\n",
       "      <th>band_h</th>\n",
       "      <th>band_i</th>\n",
       "      <th>all_properties</th>\n",
       "    </tr>\n",
       "  </thead>\n",
       "  <tbody>\n",
       "    <tr>\n",
       "      <th>count</th>\n",
       "      <td>19.000000</td>\n",
       "      <td>19.000000</td>\n",
       "      <td>19.000000</td>\n",
       "      <td>10.000000</td>\n",
       "      <td>19.000000</td>\n",
       "      <td>18.000000</td>\n",
       "      <td>17.000000</td>\n",
       "      <td>19.000000</td>\n",
       "      <td>19.000000</td>\n",
       "      <td>19.000000</td>\n",
       "      <td>19.000000</td>\n",
       "      <td>19.000000</td>\n",
       "      <td>19.000000</td>\n",
       "      <td>19.000000</td>\n",
       "      <td>19.000000</td>\n",
       "      <td>0.0</td>\n",
       "      <td>19.000000</td>\n",
       "    </tr>\n",
       "    <tr>\n",
       "      <th>mean</th>\n",
       "      <td>291.736842</td>\n",
       "      <td>943.000000</td>\n",
       "      <td>112.263158</td>\n",
       "      <td>134.600000</td>\n",
       "      <td>79.157895</td>\n",
       "      <td>12.444444</td>\n",
       "      <td>748.235294</td>\n",
       "      <td>55912.105263</td>\n",
       "      <td>40325.789474</td>\n",
       "      <td>22312.105263</td>\n",
       "      <td>8863.684211</td>\n",
       "      <td>4371.578947</td>\n",
       "      <td>2241.578947</td>\n",
       "      <td>1349.473684</td>\n",
       "      <td>167.894737</td>\n",
       "      <td>NaN</td>\n",
       "      <td>135537.894737</td>\n",
       "    </tr>\n",
       "    <tr>\n",
       "      <th>std</th>\n",
       "      <td>108.025122</td>\n",
       "      <td>477.042742</td>\n",
       "      <td>79.194446</td>\n",
       "      <td>84.322397</td>\n",
       "      <td>64.077439</td>\n",
       "      <td>17.657600</td>\n",
       "      <td>223.109707</td>\n",
       "      <td>2163.717426</td>\n",
       "      <td>1698.317193</td>\n",
       "      <td>1241.932092</td>\n",
       "      <td>688.865497</td>\n",
       "      <td>285.778919</td>\n",
       "      <td>126.809707</td>\n",
       "      <td>75.090589</td>\n",
       "      <td>6.306035</td>\n",
       "      <td>NaN</td>\n",
       "      <td>6233.165398</td>\n",
       "    </tr>\n",
       "    <tr>\n",
       "      <th>min</th>\n",
       "      <td>111.000000</td>\n",
       "      <td>-8.000000</td>\n",
       "      <td>0.000000</td>\n",
       "      <td>0.000000</td>\n",
       "      <td>0.000000</td>\n",
       "      <td>0.000000</td>\n",
       "      <td>360.000000</td>\n",
       "      <td>53470.000000</td>\n",
       "      <td>38000.000000</td>\n",
       "      <td>20640.000000</td>\n",
       "      <td>8010.000000</td>\n",
       "      <td>3980.000000</td>\n",
       "      <td>2060.000000</td>\n",
       "      <td>1160.000000</td>\n",
       "      <td>160.000000</td>\n",
       "      <td>NaN</td>\n",
       "      <td>127810.000000</td>\n",
       "    </tr>\n",
       "    <tr>\n",
       "      <th>25%</th>\n",
       "      <td>210.500000</td>\n",
       "      <td>670.500000</td>\n",
       "      <td>70.000000</td>\n",
       "      <td>87.000000</td>\n",
       "      <td>28.000000</td>\n",
       "      <td>0.000000</td>\n",
       "      <td>570.000000</td>\n",
       "      <td>54030.000000</td>\n",
       "      <td>38880.000000</td>\n",
       "      <td>21285.000000</td>\n",
       "      <td>8340.000000</td>\n",
       "      <td>4175.000000</td>\n",
       "      <td>2140.000000</td>\n",
       "      <td>1335.000000</td>\n",
       "      <td>160.000000</td>\n",
       "      <td>NaN</td>\n",
       "      <td>130335.000000</td>\n",
       "    </tr>\n",
       "    <tr>\n",
       "      <th>50%</th>\n",
       "      <td>298.000000</td>\n",
       "      <td>918.000000</td>\n",
       "      <td>94.000000</td>\n",
       "      <td>137.000000</td>\n",
       "      <td>75.000000</td>\n",
       "      <td>1.000000</td>\n",
       "      <td>710.000000</td>\n",
       "      <td>55570.000000</td>\n",
       "      <td>40130.000000</td>\n",
       "      <td>22220.000000</td>\n",
       "      <td>8690.000000</td>\n",
       "      <td>4260.000000</td>\n",
       "      <td>2220.000000</td>\n",
       "      <td>1370.000000</td>\n",
       "      <td>170.000000</td>\n",
       "      <td>NaN</td>\n",
       "      <td>134620.000000</td>\n",
       "    </tr>\n",
       "    <tr>\n",
       "      <th>75%</th>\n",
       "      <td>365.000000</td>\n",
       "      <td>1119.000000</td>\n",
       "      <td>142.000000</td>\n",
       "      <td>157.750000</td>\n",
       "      <td>116.000000</td>\n",
       "      <td>26.000000</td>\n",
       "      <td>870.000000</td>\n",
       "      <td>57085.000000</td>\n",
       "      <td>41585.000000</td>\n",
       "      <td>23215.000000</td>\n",
       "      <td>9275.000000</td>\n",
       "      <td>4625.000000</td>\n",
       "      <td>2335.000000</td>\n",
       "      <td>1395.000000</td>\n",
       "      <td>170.000000</td>\n",
       "      <td>NaN</td>\n",
       "      <td>139685.000000</td>\n",
       "    </tr>\n",
       "    <tr>\n",
       "      <th>max</th>\n",
       "      <td>524.000000</td>\n",
       "      <td>2241.000000</td>\n",
       "      <td>291.000000</td>\n",
       "      <td>278.000000</td>\n",
       "      <td>233.000000</td>\n",
       "      <td>50.000000</td>\n",
       "      <td>1220.000000</td>\n",
       "      <td>60840.000000</td>\n",
       "      <td>43270.000000</td>\n",
       "      <td>24530.000000</td>\n",
       "      <td>10280.000000</td>\n",
       "      <td>4890.000000</td>\n",
       "      <td>2490.000000</td>\n",
       "      <td>1450.000000</td>\n",
       "      <td>180.000000</td>\n",
       "      <td>NaN</td>\n",
       "      <td>147930.000000</td>\n",
       "    </tr>\n",
       "  </tbody>\n",
       "</table>\n",
       "</div>"
      ],
      "text/plain": [
       "              TAR         netD          SR          AR          AH         IR  \\\n",
       "count   19.000000    19.000000   19.000000   10.000000   19.000000  18.000000   \n",
       "mean   291.736842   943.000000  112.263158  134.600000   79.157895  12.444444   \n",
       "std    108.025122   477.042742   79.194446   84.322397   64.077439  17.657600   \n",
       "min    111.000000    -8.000000    0.000000    0.000000    0.000000   0.000000   \n",
       "25%    210.500000   670.500000   70.000000   87.000000   28.000000   0.000000   \n",
       "50%    298.000000   918.000000   94.000000  137.000000   75.000000   1.000000   \n",
       "75%    365.000000  1119.000000  142.000000  157.750000  116.000000  26.000000   \n",
       "max    524.000000  2241.000000  291.000000  278.000000  233.000000  50.000000   \n",
       "\n",
       "                TD        band_a        band_b        band_c        band_d  \\\n",
       "count    17.000000     19.000000     19.000000     19.000000     19.000000   \n",
       "mean    748.235294  55912.105263  40325.789474  22312.105263   8863.684211   \n",
       "std     223.109707   2163.717426   1698.317193   1241.932092    688.865497   \n",
       "min     360.000000  53470.000000  38000.000000  20640.000000   8010.000000   \n",
       "25%     570.000000  54030.000000  38880.000000  21285.000000   8340.000000   \n",
       "50%     710.000000  55570.000000  40130.000000  22220.000000   8690.000000   \n",
       "75%     870.000000  57085.000000  41585.000000  23215.000000   9275.000000   \n",
       "max    1220.000000  60840.000000  43270.000000  24530.000000  10280.000000   \n",
       "\n",
       "            band_e       band_f       band_g      band_h  band_i  \\\n",
       "count    19.000000    19.000000    19.000000   19.000000     0.0   \n",
       "mean   4371.578947  2241.578947  1349.473684  167.894737     NaN   \n",
       "std     285.778919   126.809707    75.090589    6.306035     NaN   \n",
       "min    3980.000000  2060.000000  1160.000000  160.000000     NaN   \n",
       "25%    4175.000000  2140.000000  1335.000000  160.000000     NaN   \n",
       "50%    4260.000000  2220.000000  1370.000000  170.000000     NaN   \n",
       "75%    4625.000000  2335.000000  1395.000000  170.000000     NaN   \n",
       "max    4890.000000  2490.000000  1450.000000  180.000000     NaN   \n",
       "\n",
       "       all_properties  \n",
       "count       19.000000  \n",
       "mean    135537.894737  \n",
       "std       6233.165398  \n",
       "min     127810.000000  \n",
       "25%     130335.000000  \n",
       "50%     134620.000000  \n",
       "75%     139685.000000  \n",
       "max     147930.000000  "
      ]
     },
     "execution_count": 79,
     "metadata": {},
     "output_type": "execute_result"
    }
   ],
   "source": [
    "dcov_ss = dcov_t[[x for x in dcov_t.columns[3:]]].describe()\n",
    "dcov_ss"
   ]
  },
  {
   "cell_type": "code",
   "execution_count": 80,
   "metadata": {},
   "outputs": [
    {
     "data": {
      "text/plain": [
       "0.3093709884467266"
      ]
     },
     "execution_count": 80,
     "metadata": {},
     "output_type": "execute_result"
    }
   ],
   "source": [
    "dcov_ss.loc['mean','TAR']/dcov_ss.loc['mean','netD']"
   ]
  },
  {
   "cell_type": "markdown",
   "metadata": {},
   "source": [
    "Now that counts are more similar, we can see that on average Coventry provided around 292 additional dwellings as affordable homes between 2003-2021. In the same period, the average net delivery of all homes in Coventry was 943 homes which implies that the average delivery of affordable rent homes was 30.9% of the net delivery. This is above the required 25% delivery, a quick scan of the recent development sites reveals that while many developments only meet the 25% minimum requirement or fall below, certain development sites contribute 100% of dwellings towards affordable housing<sup>[citation needed]</sup>"
   ]
  },
  {
   "cell_type": "markdown",
   "metadata": {},
   "source": [
    "In the same period, Coventry provided an average of 112 socially rented dwellings, about 40% of total affordable dwellings and 12.36% of net dwellings. Affordable rented homes alone makes up 46% of total affordable homes in Coventry, the remaining portioon is made up of affordable home ownership, intermediate rent homes, and shared home ownership."
   ]
  },
  {
   "cell_type": "markdown",
   "metadata": {},
   "source": [
    "Visualising density plots"
   ]
  },
  {
   "cell_type": "code",
   "execution_count": 81,
   "metadata": {},
   "outputs": [],
   "source": [
    "import itertools\n",
    "comb = itertools.product(range(3),repeat=2)\n",
    "comb = list(comb)\n",
    "comb.append((3,0))"
   ]
  },
  {
   "cell_type": "code",
   "execution_count": 82,
   "metadata": {},
   "outputs": [],
   "source": [
    "for x in [2,4,6]:\n",
    "    del comb[x]"
   ]
  },
  {
   "cell_type": "code",
   "execution_count": 83,
   "metadata": {},
   "outputs": [
    {
     "data": {
      "image/png": "[encoded data removed]",
      "text/plain": [
       "<Figure size 720x432 with 8 Axes>"
      ]
     },
     "metadata": {
      "needs_background": "light"
     },
     "output_type": "display_data"
    }
   ],
   "source": [
    "f, axs = plt.subplots(4,2,figsize=(10,6))\n",
    "for k,a in enumerate(comb):\n",
    "    sns.kdeplot(data=dcov_t,x=dcov_t.columns[3:][k],ax=axs[a])\n",
    "f.tight_layout()\n"
   ]
  },
  {
   "cell_type": "code",
   "execution_count": 84,
   "metadata": {},
   "outputs": [],
   "source": [
    "## analysis"
   ]
  },
  {
   "cell_type": "markdown",
   "metadata": {},
   "source": [
    "#### Exploring time trends"
   ]
  },
  {
   "cell_type": "markdown",
   "metadata": {},
   "source": [
    "First, creating a datetime variable from `year`"
   ]
  },
  {
   "cell_type": "code",
   "execution_count": 85,
   "metadata": {},
   "outputs": [
    {
     "data": {
      "text/html": [
       "<div>\n",
       "<style scoped>\n",
       "    .dataframe tbody tr th:only-of-type {\n",
       "        vertical-align: middle;\n",
       "    }\n",
       "\n",
       "    .dataframe tbody tr th {\n",
       "        vertical-align: top;\n",
       "    }\n",
       "\n",
       "    .dataframe thead th {\n",
       "        text-align: right;\n",
       "    }\n",
       "</style>\n",
       "<table border=\"1\" class=\"dataframe\">\n",
       "  <thead>\n",
       "    <tr style=\"text-align: right;\">\n",
       "      <th></th>\n",
       "      <th>LA_code</th>\n",
       "      <th>LA</th>\n",
       "      <th>year</th>\n",
       "      <th>TAR</th>\n",
       "      <th>netD</th>\n",
       "      <th>SR</th>\n",
       "      <th>AR</th>\n",
       "      <th>AH</th>\n",
       "      <th>IR</th>\n",
       "      <th>TD</th>\n",
       "      <th>...</th>\n",
       "      <th>band_b</th>\n",
       "      <th>band_c</th>\n",
       "      <th>band_d</th>\n",
       "      <th>band_e</th>\n",
       "      <th>band_f</th>\n",
       "      <th>band_g</th>\n",
       "      <th>band_h</th>\n",
       "      <th>band_i</th>\n",
       "      <th>all_properties</th>\n",
       "      <th>date</th>\n",
       "    </tr>\n",
       "  </thead>\n",
       "  <tbody>\n",
       "    <tr>\n",
       "      <th>0</th>\n",
       "      <td>E08000026</td>\n",
       "      <td>Coventry</td>\n",
       "      <td>1992</td>\n",
       "      <td>127.0</td>\n",
       "      <td>NaN</td>\n",
       "      <td>102.0</td>\n",
       "      <td>NaN</td>\n",
       "      <td>25.0</td>\n",
       "      <td>NaN</td>\n",
       "      <td>230.0</td>\n",
       "      <td>...</td>\n",
       "      <td>NaN</td>\n",
       "      <td>NaN</td>\n",
       "      <td>NaN</td>\n",
       "      <td>NaN</td>\n",
       "      <td>NaN</td>\n",
       "      <td>NaN</td>\n",
       "      <td>NaN</td>\n",
       "      <td>NaN</td>\n",
       "      <td>NaN</td>\n",
       "      <td>1992-01-01</td>\n",
       "    </tr>\n",
       "    <tr>\n",
       "      <th>1</th>\n",
       "      <td>E08000026</td>\n",
       "      <td>Coventry</td>\n",
       "      <td>1993</td>\n",
       "      <td>331.0</td>\n",
       "      <td>NaN</td>\n",
       "      <td>231.0</td>\n",
       "      <td>NaN</td>\n",
       "      <td>100.0</td>\n",
       "      <td>NaN</td>\n",
       "      <td>390.0</td>\n",
       "      <td>...</td>\n",
       "      <td>36050.0</td>\n",
       "      <td>20880.0</td>\n",
       "      <td>7100.0</td>\n",
       "      <td>3600.0</td>\n",
       "      <td>2050.0</td>\n",
       "      <td>1130.0</td>\n",
       "      <td>160.0</td>\n",
       "      <td>NaN</td>\n",
       "      <td>123680.0</td>\n",
       "      <td>1993-01-01</td>\n",
       "    </tr>\n",
       "    <tr>\n",
       "      <th>2</th>\n",
       "      <td>E08000026</td>\n",
       "      <td>Coventry</td>\n",
       "      <td>1994</td>\n",
       "      <td>474.0</td>\n",
       "      <td>NaN</td>\n",
       "      <td>378.0</td>\n",
       "      <td>NaN</td>\n",
       "      <td>96.0</td>\n",
       "      <td>NaN</td>\n",
       "      <td>330.0</td>\n",
       "      <td>...</td>\n",
       "      <td>36170.0</td>\n",
       "      <td>20710.0</td>\n",
       "      <td>7200.0</td>\n",
       "      <td>3520.0</td>\n",
       "      <td>1990.0</td>\n",
       "      <td>1080.0</td>\n",
       "      <td>150.0</td>\n",
       "      <td>NaN</td>\n",
       "      <td>123750.0</td>\n",
       "      <td>1994-01-01</td>\n",
       "    </tr>\n",
       "    <tr>\n",
       "      <th>3</th>\n",
       "      <td>E08000026</td>\n",
       "      <td>Coventry</td>\n",
       "      <td>1995</td>\n",
       "      <td>371.0</td>\n",
       "      <td>NaN</td>\n",
       "      <td>271.0</td>\n",
       "      <td>NaN</td>\n",
       "      <td>100.0</td>\n",
       "      <td>NaN</td>\n",
       "      <td>490.0</td>\n",
       "      <td>...</td>\n",
       "      <td>36480.0</td>\n",
       "      <td>20490.0</td>\n",
       "      <td>7280.0</td>\n",
       "      <td>3550.0</td>\n",
       "      <td>1920.0</td>\n",
       "      <td>1040.0</td>\n",
       "      <td>150.0</td>\n",
       "      <td>NaN</td>\n",
       "      <td>124340.0</td>\n",
       "      <td>1995-01-01</td>\n",
       "    </tr>\n",
       "    <tr>\n",
       "      <th>4</th>\n",
       "      <td>E08000026</td>\n",
       "      <td>Coventry</td>\n",
       "      <td>1996</td>\n",
       "      <td>315.0</td>\n",
       "      <td>NaN</td>\n",
       "      <td>203.0</td>\n",
       "      <td>NaN</td>\n",
       "      <td>112.0</td>\n",
       "      <td>NaN</td>\n",
       "      <td>530.0</td>\n",
       "      <td>...</td>\n",
       "      <td>36950.0</td>\n",
       "      <td>20270.0</td>\n",
       "      <td>7420.0</td>\n",
       "      <td>3580.0</td>\n",
       "      <td>1910.0</td>\n",
       "      <td>1040.0</td>\n",
       "      <td>150.0</td>\n",
       "      <td>NaN</td>\n",
       "      <td>124960.0</td>\n",
       "      <td>1996-01-01</td>\n",
       "    </tr>\n",
       "  </tbody>\n",
       "</table>\n",
       "<p>5 rows × 21 columns</p>\n",
       "</div>"
      ],
      "text/plain": [
       "     LA_code        LA  year    TAR  netD     SR  AR     AH  IR     TD  ...  \\\n",
       "0  E08000026  Coventry  1992  127.0   NaN  102.0 NaN   25.0 NaN  230.0  ...   \n",
       "1  E08000026  Coventry  1993  331.0   NaN  231.0 NaN  100.0 NaN  390.0  ...   \n",
       "2  E08000026  Coventry  1994  474.0   NaN  378.0 NaN   96.0 NaN  330.0  ...   \n",
       "3  E08000026  Coventry  1995  371.0   NaN  271.0 NaN  100.0 NaN  490.0  ...   \n",
       "4  E08000026  Coventry  1996  315.0   NaN  203.0 NaN  112.0 NaN  530.0  ...   \n",
       "\n",
       "    band_b   band_c  band_d  band_e  band_f  band_g  band_h  band_i  \\\n",
       "0      NaN      NaN     NaN     NaN     NaN     NaN     NaN     NaN   \n",
       "1  36050.0  20880.0  7100.0  3600.0  2050.0  1130.0   160.0     NaN   \n",
       "2  36170.0  20710.0  7200.0  3520.0  1990.0  1080.0   150.0     NaN   \n",
       "3  36480.0  20490.0  7280.0  3550.0  1920.0  1040.0   150.0     NaN   \n",
       "4  36950.0  20270.0  7420.0  3580.0  1910.0  1040.0   150.0     NaN   \n",
       "\n",
       "   all_properties       date  \n",
       "0             NaN 1992-01-01  \n",
       "1        123680.0 1993-01-01  \n",
       "2        123750.0 1994-01-01  \n",
       "3        124340.0 1995-01-01  \n",
       "4        124960.0 1996-01-01  \n",
       "\n",
       "[5 rows x 21 columns]"
      ]
     },
     "execution_count": 85,
     "metadata": {},
     "output_type": "execute_result"
    }
   ],
   "source": [
    "dcov['date'] = pd.to_datetime(dcov['year'].astype(str), format='%Y')\n",
    "dcov.head()"
   ]
  },
  {
   "cell_type": "code",
   "execution_count": 103,
   "metadata": {},
   "outputs": [],
   "source": [
    "dcov_t = dcov[dcov.loc[:,'year']>2001].copy()"
   ]
  },
  {
   "cell_type": "code",
   "execution_count": 104,
   "metadata": {},
   "outputs": [
    {
     "data": {
      "text/html": [
       "<div>\n",
       "<style scoped>\n",
       "    .dataframe tbody tr th:only-of-type {\n",
       "        vertical-align: middle;\n",
       "    }\n",
       "\n",
       "    .dataframe tbody tr th {\n",
       "        vertical-align: top;\n",
       "    }\n",
       "\n",
       "    .dataframe thead th {\n",
       "        text-align: right;\n",
       "    }\n",
       "</style>\n",
       "<table border=\"1\" class=\"dataframe\">\n",
       "  <thead>\n",
       "    <tr style=\"text-align: right;\">\n",
       "      <th></th>\n",
       "      <th>LA_code</th>\n",
       "      <th>LA</th>\n",
       "      <th>year</th>\n",
       "      <th>TAR</th>\n",
       "      <th>netD</th>\n",
       "      <th>SR</th>\n",
       "      <th>AR</th>\n",
       "      <th>AH</th>\n",
       "      <th>IR</th>\n",
       "      <th>TD</th>\n",
       "      <th>...</th>\n",
       "      <th>band_b</th>\n",
       "      <th>band_c</th>\n",
       "      <th>band_d</th>\n",
       "      <th>band_e</th>\n",
       "      <th>band_f</th>\n",
       "      <th>band_g</th>\n",
       "      <th>band_h</th>\n",
       "      <th>band_i</th>\n",
       "      <th>all_properties</th>\n",
       "      <th>date</th>\n",
       "    </tr>\n",
       "  </thead>\n",
       "  <tbody>\n",
       "    <tr>\n",
       "      <th>10</th>\n",
       "      <td>E08000026</td>\n",
       "      <td>Coventry</td>\n",
       "      <td>2002</td>\n",
       "      <td>140.0</td>\n",
       "      <td>566.0</td>\n",
       "      <td>76.0</td>\n",
       "      <td>NaN</td>\n",
       "      <td>64.0</td>\n",
       "      <td>NaN</td>\n",
       "      <td>NaN</td>\n",
       "      <td>...</td>\n",
       "      <td>37740.0</td>\n",
       "      <td>20510.0</td>\n",
       "      <td>7930.0</td>\n",
       "      <td>3930.0</td>\n",
       "      <td>2030.0</td>\n",
       "      <td>1140.0</td>\n",
       "      <td>160.0</td>\n",
       "      <td>NaN</td>\n",
       "      <td>127200.0</td>\n",
       "      <td>2002-01-01</td>\n",
       "    </tr>\n",
       "    <tr>\n",
       "      <th>11</th>\n",
       "      <td>E08000026</td>\n",
       "      <td>Coventry</td>\n",
       "      <td>2003</td>\n",
       "      <td>320.0</td>\n",
       "      <td>624.0</td>\n",
       "      <td>218.0</td>\n",
       "      <td>NaN</td>\n",
       "      <td>102.0</td>\n",
       "      <td>NaN</td>\n",
       "      <td>810.0</td>\n",
       "      <td>...</td>\n",
       "      <td>38000.0</td>\n",
       "      <td>20640.0</td>\n",
       "      <td>8010.0</td>\n",
       "      <td>3980.0</td>\n",
       "      <td>2060.0</td>\n",
       "      <td>1160.0</td>\n",
       "      <td>170.0</td>\n",
       "      <td>NaN</td>\n",
       "      <td>127810.0</td>\n",
       "      <td>2003-01-01</td>\n",
       "    </tr>\n",
       "    <tr>\n",
       "      <th>12</th>\n",
       "      <td>E08000026</td>\n",
       "      <td>Coventry</td>\n",
       "      <td>2004</td>\n",
       "      <td>111.0</td>\n",
       "      <td>-8.0</td>\n",
       "      <td>98.0</td>\n",
       "      <td>NaN</td>\n",
       "      <td>13.0</td>\n",
       "      <td>0.0</td>\n",
       "      <td>NaN</td>\n",
       "      <td>...</td>\n",
       "      <td>38130.0</td>\n",
       "      <td>20700.0</td>\n",
       "      <td>8090.0</td>\n",
       "      <td>4020.0</td>\n",
       "      <td>2080.0</td>\n",
       "      <td>1210.0</td>\n",
       "      <td>160.0</td>\n",
       "      <td>NaN</td>\n",
       "      <td>128140.0</td>\n",
       "      <td>2004-01-01</td>\n",
       "    </tr>\n",
       "    <tr>\n",
       "      <th>13</th>\n",
       "      <td>E08000026</td>\n",
       "      <td>Coventry</td>\n",
       "      <td>2005</td>\n",
       "      <td>174.0</td>\n",
       "      <td>308.0</td>\n",
       "      <td>131.0</td>\n",
       "      <td>NaN</td>\n",
       "      <td>43.0</td>\n",
       "      <td>0.0</td>\n",
       "      <td>NaN</td>\n",
       "      <td>...</td>\n",
       "      <td>38280.0</td>\n",
       "      <td>20860.0</td>\n",
       "      <td>8150.0</td>\n",
       "      <td>4060.0</td>\n",
       "      <td>2100.0</td>\n",
       "      <td>1250.0</td>\n",
       "      <td>160.0</td>\n",
       "      <td>NaN</td>\n",
       "      <td>128330.0</td>\n",
       "      <td>2005-01-01</td>\n",
       "    </tr>\n",
       "    <tr>\n",
       "      <th>14</th>\n",
       "      <td>E08000026</td>\n",
       "      <td>Coventry</td>\n",
       "      <td>2006</td>\n",
       "      <td>172.0</td>\n",
       "      <td>631.0</td>\n",
       "      <td>122.0</td>\n",
       "      <td>NaN</td>\n",
       "      <td>50.0</td>\n",
       "      <td>0.0</td>\n",
       "      <td>520.0</td>\n",
       "      <td>...</td>\n",
       "      <td>38520.0</td>\n",
       "      <td>21050.0</td>\n",
       "      <td>8240.0</td>\n",
       "      <td>4100.0</td>\n",
       "      <td>2120.0</td>\n",
       "      <td>1270.0</td>\n",
       "      <td>160.0</td>\n",
       "      <td>NaN</td>\n",
       "      <td>128970.0</td>\n",
       "      <td>2006-01-01</td>\n",
       "    </tr>\n",
       "  </tbody>\n",
       "</table>\n",
       "<p>5 rows × 21 columns</p>\n",
       "</div>"
      ],
      "text/plain": [
       "      LA_code        LA  year    TAR   netD     SR  AR     AH   IR     TD  \\\n",
       "10  E08000026  Coventry  2002  140.0  566.0   76.0 NaN   64.0  NaN    NaN   \n",
       "11  E08000026  Coventry  2003  320.0  624.0  218.0 NaN  102.0  NaN  810.0   \n",
       "12  E08000026  Coventry  2004  111.0   -8.0   98.0 NaN   13.0  0.0    NaN   \n",
       "13  E08000026  Coventry  2005  174.0  308.0  131.0 NaN   43.0  0.0    NaN   \n",
       "14  E08000026  Coventry  2006  172.0  631.0  122.0 NaN   50.0  0.0  520.0   \n",
       "\n",
       "    ...   band_b   band_c  band_d  band_e  band_f  band_g  band_h  band_i  \\\n",
       "10  ...  37740.0  20510.0  7930.0  3930.0  2030.0  1140.0   160.0     NaN   \n",
       "11  ...  38000.0  20640.0  8010.0  3980.0  2060.0  1160.0   170.0     NaN   \n",
       "12  ...  38130.0  20700.0  8090.0  4020.0  2080.0  1210.0   160.0     NaN   \n",
       "13  ...  38280.0  20860.0  8150.0  4060.0  2100.0  1250.0   160.0     NaN   \n",
       "14  ...  38520.0  21050.0  8240.0  4100.0  2120.0  1270.0   160.0     NaN   \n",
       "\n",
       "    all_properties       date  \n",
       "10        127200.0 2002-01-01  \n",
       "11        127810.0 2003-01-01  \n",
       "12        128140.0 2004-01-01  \n",
       "13        128330.0 2005-01-01  \n",
       "14        128970.0 2006-01-01  \n",
       "\n",
       "[5 rows x 21 columns]"
      ]
     },
     "execution_count": 104,
     "metadata": {},
     "output_type": "execute_result"
    }
   ],
   "source": [
    "dcov_t.head()"
   ]
  },
  {
   "cell_type": "markdown",
   "metadata": {},
   "source": [
    "Creating columns for affordable rent homes as a percentage of net dwellings"
   ]
  },
  {
   "cell_type": "code",
   "execution_count": 105,
   "metadata": {},
   "outputs": [],
   "source": [
    "dcov_t['TAR_p'] = dcov_t['TAR']/dcov_t['netD']*100\n",
    "dcov_t['SR_p'] = dcov_t['SR']/dcov_t['netD']*100\n",
    "dcov_t['AR_p'] = dcov_t['AR']/dcov_t['netD']*100\n",
    "for x in ['TAR_p','SR_p','AR_p']:\n",
    "    dcov_t.loc[12,x] = pd.NA"
   ]
  },
  {
   "cell_type": "code",
   "execution_count": null,
   "metadata": {},
   "outputs": [],
   "source": [
    "dcov_t['SR/TAR'] = dcov_t['SR']/dcov_t['TAR']*100\n",
    "dcov_t['AR/TAR'] = dcov_t['AR']/dcov_t['TAR']*100"
   ]
  },
  {
   "cell_type": "markdown",
   "metadata": {},
   "source": [
    "Visualising delivery of housing in Coventry "
   ]
  },
  {
   "cell_type": "code",
   "execution_count": 106,
   "metadata": {},
   "outputs": [],
   "source": [
    "dcov_t['AR_req'] = 0.25*dcov_t.loc[dcov_t.year>2010,'TD']"
   ]
  },
  {
   "cell_type": "markdown",
   "metadata": {},
   "source": [
    "Assuming that affordable housing should be 25% of net dwellings (in reality would only be 25% of _large_ developments). This is represented by the red line in the graph below.  "
   ]
  },
  {
   "cell_type": "code",
   "execution_count": 107,
   "metadata": {},
   "outputs": [
    {
     "data": {
      "text/plain": [
       "Text(0, 0.5, 'dwellings')"
      ]
     },
     "execution_count": 107,
     "metadata": {},
     "output_type": "execute_result"
    },
    {
     "data": {
      "image/png": "[encoded data removed]",
      "text/plain": [
       "<Figure size 432x288 with 1 Axes>"
      ]
     },
     "metadata": {
      "needs_background": "light"
     },
     "output_type": "display_data"
    }
   ],
   "source": [
    "fig,ax = plt.subplots()\n",
    "ax0 = sns.lineplot(x='date',y='netD',data=dcov_t)\n",
    "ax1 = sns.lineplot(x='date',y='TAR',data=dcov_t)\n",
    "ax2 = sns.lineplot(x='date',y='SR',data=dcov_t)\n",
    "ax3 = sns.lineplot(x='date',y='AR_req',data=dcov_t)\n",
    "plt.legend(['Net Dwellings','Total Affordable Housing','Social Rent','Affordable Housing Requirement'])\n",
    "plt.ylabel('dwellings')"
   ]
  },
  {
   "cell_type": "markdown",
   "metadata": {},
   "source": [
    "Affordable housing delivery started off being greater than the actual delivery required but has shown a falling trend in recent years. Let's visualise the percentage of total housing made up by affordable housing, social rent, and affordable rent."
   ]
  },
  {
   "cell_type": "code",
   "execution_count": 163,
   "metadata": {},
   "outputs": [
    {
     "data": {
      "image/png": "[encoded data removed]",
      "text/plain": [
       "<Figure size 1440x432 with 2 Axes>"
      ]
     },
     "metadata": {},
     "output_type": "display_data"
    }
   ],
   "source": [
    "fig1, axs = plt.subplots(1,2,figsize=(20,6))\n",
    "ax1 = sns.lineplot(x='date',y='TAR_p',data=dcov_t,ax=axs[0],color='green')\n",
    "ax2 = sns.lineplot(x='date',y='AR_p',data=dcov_t,ax=axs[0])\n",
    "ax3 = sns.lineplot(x='date',y='SR_p',data=dcov_t,ax=axs[0])\n",
    "ax4 = sns.lineplot(x='date',y='AR/TAR',data=dcov_t,ax=axs[1])\n",
    "ax5 = sns.lineplot(x='date',y='SR/TAR',data=dcov_t,ax=axs[1])\n",
    "axs[0].legend(['Total Affordable Housing','Affordable Rent','Social Rent'])\n",
    "axs[0].set_ylabel('% of dwellings')\n",
    "axs[1].legend(['Affordable Rent','Social Rent'])\n",
    "axs[1].set_ylabel('% of dwellings')\n",
    "ax1.invert_yaxis()\n",
    "fig1.suptitle('Composition of Affordable Housing, Coventry')\n",
    "fig1.set_facecolor('white')"
   ]
  },
  {
   "cell_type": "markdown",
   "metadata": {},
   "source": [
    "Until 2012, socially rented housing made up the majority of the supply of affordable housing in Coventry. Since, 2012 while affordable rent supply has been rising, the delivery of socially rented has been falling making up only about 25% of the affordable housing delivery, and has nearly fallen to 0 in recent years. This implies that recent growth in affordable housing delivery is almost completely made up of affordable rent development. Therefore, while affordable housing requirements are being met as per Policy H6, social rent developments seem to be falling, this might explain the severe undersupply of socially rented properties in Coventry available through Homefinder."
   ]
  },
  {
   "cell_type": "markdown",
   "metadata": {},
   "source": [
    "This confirms that affordable rent makes up nearly the entirety of affordable housing provision currently"
   ]
  },
  {
   "cell_type": "markdown",
   "metadata": {},
   "source": [
    "What about the delivery of affordable housing compared to the 25% requirement?"
   ]
  },
  {
   "cell_type": "code",
   "execution_count": 111,
   "metadata": {},
   "outputs": [
    {
     "data": {
      "image/png": "[encoded data removed]",
      "text/plain": [
       "<Figure size 432x288 with 1 Axes>"
      ]
     },
     "metadata": {
      "needs_background": "light"
     },
     "output_type": "display_data"
    }
   ],
   "source": [
    "dcov_t['AR_req/netD'] = 25\n",
    "fig,ax = plt.subplots()\n",
    "ax1 = sns.lineplot(x='date',y='TAR_p',data=dcov_t)\n",
    "ax2 = sns.lineplot(x='date',y='SR_p',data=dcov_t)\n",
    "ax3 = sns.lineplot(x='date',y='AR_req/netD',data=dcov_t[dcov_t.loc[:,'year']>=2011],color='red')\n",
    "plt.legend(['Total Affordable Housing','Social Rent','Affordable Rent Requirement'])\n",
    "plt.ylabel('% of dwellings')\n",
    "ax1.invert_yaxis()"
   ]
  },
  {
   "cell_type": "markdown",
   "metadata": {},
   "source": [
    "It seems like the 25% affordable housing requirement is being met for most years since 2011, except for the significant dip in 2020, which is attributed to delays in development from the COVID-19 pandemic and subsequent lockdowns according to the Authority Monitoring Report 2020/21. Again, we point out the significant drop in social rented properties since 2011. "
   ]
  },
  {
   "cell_type": "markdown",
   "metadata": {},
   "source": [
    "The Local Plan recommends an annual growth of 348 additional affordable homes per year to meet their affordable housing need. Similarly, it assesses that between 2011-2016, annual growth of total dwellings should be 1,020 homes per annum, and from 2017-2031, annual growth should increase to 1,300 homes per annum. "
   ]
  },
  {
   "cell_type": "code",
   "execution_count": 112,
   "metadata": {},
   "outputs": [],
   "source": [
    "for x in dcov_t.index:\n",
    "    if dcov_t.loc[x,'year'] in range(2011,2017):\n",
    "        dcov_t.loc[x,'AR_set'] = 348\n",
    "        dcov_t.loc[x,'netD_set'] = 1020\n",
    "    elif dcov_t.loc[x,'year'] >= 2017:\n",
    "        dcov_t.loc[x,'netD_set'] = 1300\n",
    "        dcov_t.loc[x,'AR_set'] = 348"
   ]
  },
  {
   "cell_type": "code",
   "execution_count": 113,
   "metadata": {},
   "outputs": [
    {
     "data": {
      "text/plain": [
       "Text(0, 0.5, 'dwellings')"
      ]
     },
     "execution_count": 113,
     "metadata": {},
     "output_type": "execute_result"
    },
    {
     "data": {
      "image/png": "[encoded data removed]",
      "text/plain": [
       "<Figure size 432x288 with 1 Axes>"
      ]
     },
     "metadata": {
      "needs_background": "light"
     },
     "output_type": "display_data"
    }
   ],
   "source": [
    "fig,ax = plt.subplots()\n",
    "ax0 = sns.lineplot(x='date',y='netD',data=dcov_t)\n",
    "ax1 = sns.lineplot(x='date',y='TAR',data=dcov_t)\n",
    "ax2 = sns.lineplot(x='date',y='SR',data=dcov_t)\n",
    "ax3 = sns.lineplot(x='date',y='AR_set',data=dcov_t)\n",
    "ax4 = sns.lineplot(x='date',y='netD_set',data=dcov_t)\n",
    "#ax4 = sns.lineplot(x='date',y='AR_req',data=dcov_t)\n",
    "plt.legend(['Net Dwellings','Total Affordable Housing','Social Rent','Affordable Housing Requirement','Total Housing Requirement'])\n",
    "plt.ylabel('dwellings')"
   ]
  },
  {
   "cell_type": "markdown",
   "metadata": {},
   "source": [
    "While delivery is above the 25% requirement, affordable housing delivery is still under the assessed 348 homes/year needed to meet Coventry's affordable housing needs. Let's evaluate by how much."
   ]
  },
  {
   "cell_type": "code",
   "execution_count": 114,
   "metadata": {},
   "outputs": [],
   "source": [
    "dcov_t['TAR_deficit'] = dcov_t['TAR'] - dcov_t['AR_set']\n",
    "dcov_t['netD_deficit'] = dcov_t['netD'] - dcov_t['netD_set']"
   ]
  },
  {
   "cell_type": "code",
   "execution_count": 115,
   "metadata": {},
   "outputs": [
    {
     "name": "stdout",
     "output_type": "stream",
     "text": [
      "Average number of affordable houses v. assessed need:  -40.0\n",
      "Average number of total dwellings v. assessed need:  17.0\n"
     ]
    }
   ],
   "source": [
    "print('Average number of affordable houses v. assessed need: ',dcov_t['TAR_deficit'].mean())\n",
    "print('Average number of total dwellings v. assessed need: ',dcov_t['netD_deficit'].mean())"
   ]
  },
  {
   "cell_type": "markdown",
   "metadata": {},
   "source": [
    "On average, affordable housing is 40 homes below the needed 348 homes per year assessed by the Local Plan. On the other hand, total dwellings are above the assessed need at an average of 17 homes per year. While in some years, there was a deficit in total housing supply, prior years' surplus helped to make up up for any deficits. "
   ]
  },
  {
   "cell_type": "code",
   "execution_count": 116,
   "metadata": {},
   "outputs": [],
   "source": [
    "dcov_t['TAR_deficit_a'] = dcov_t['TAR'] - dcov_t['AR_req']"
   ]
  },
  {
   "cell_type": "code",
   "execution_count": 117,
   "metadata": {},
   "outputs": [
    {
     "name": "stdout",
     "output_type": "stream",
     "text": [
      "Average number of affordable houses v. 25% requirement:  115.5\n"
     ]
    }
   ],
   "source": [
    "print('Average number of affordable houses v. 25% requirement: ',dcov_t['TAR_deficit_a'].mean())"
   ]
  },
  {
   "cell_type": "markdown",
   "metadata": {},
   "source": [
    "If instead looking at actual 25% requirement, affordable housing overdelivers by 115 homes per year on average but yet there is an undersupply of social housing."
   ]
  },
  {
   "cell_type": "markdown",
   "metadata": {},
   "source": [
    "#### National Statistics"
   ]
  },
  {
   "cell_type": "markdown",
   "metadata": {},
   "source": [
    "Trimming the dataset to only years from 2002 onwards"
   ]
  },
  {
   "cell_type": "code",
   "execution_count": 127,
   "metadata": {},
   "outputs": [],
   "source": [
    "df_t = df[df.loc[:,'year']>2001].copy()"
   ]
  },
  {
   "cell_type": "code",
   "execution_count": 128,
   "metadata": {},
   "outputs": [
    {
     "data": {
      "text/plain": [
       "Text(0, 0.5, 'dwellings')"
      ]
     },
     "execution_count": 128,
     "metadata": {},
     "output_type": "execute_result"
    },
    {
     "data": {
      "image/png": "[encoded data removed]",
      "text/plain": [
       "<Figure size 432x288 with 1 Axes>"
      ]
     },
     "metadata": {
      "needs_background": "light"
     },
     "output_type": "display_data"
    }
   ],
   "source": [
    "fig, ax = plt.subplots()\n",
    "ax0 = sns.lineplot(x='date',y='netD',data=df_t)\n",
    "ax1 = sns.lineplot(x='date',y='TAR',data=df_t)\n",
    "ax2 = sns.lineplot(x='date',y='AR',data=df_t)\n",
    "ax3 = sns.lineplot(x='date',y='SR',data=df_t)\n",
    "plt.legend(['Net Dwellings', 'Total Affordable Housing','Affordable Rent','Social Rent'])\n",
    "plt.ylabel('dwellings')"
   ]
  },
  {
   "cell_type": "markdown",
   "metadata": {},
   "source": [
    "A similar trend of falling social rent while affordable rent rises, lets examine this in detail."
   ]
  },
  {
   "cell_type": "markdown",
   "metadata": {},
   "source": [
    "Creating columns for affordable housing as a percentage of net dwellings and as a percentage of total affordable housing"
   ]
  },
  {
   "cell_type": "code",
   "execution_count": 130,
   "metadata": {},
   "outputs": [],
   "source": [
    "df_t['TAR_p'] = df_t['TAR']/df_t['netD']*100\n",
    "df_t['SR_p'] = df_t['SR']/df_t['netD']*100\n",
    "df_t['AR_p'] = df_t['AR']/df_t['netD']*100\n",
    "\n",
    "df_t['SR/TAR'] = df_t['SR']/df_t['TAR']*100\n",
    "df_t['AR/TAR'] = df_t['AR']/df_t['TAR']*100"
   ]
  },
  {
   "cell_type": "code",
   "execution_count": 164,
   "metadata": {},
   "outputs": [
    {
     "data": {
      "text/plain": [
       "Text(0.5, 0.98, 'Composition of Affordable Housing, National Aggregated')"
      ]
     },
     "execution_count": 164,
     "metadata": {},
     "output_type": "execute_result"
    },
    {
     "data": {
      "image/png": "[encoded data removed]",
      "text/plain": [
       "<Figure size 1440x432 with 2 Axes>"
      ]
     },
     "metadata": {
      "needs_background": "light"
     },
     "output_type": "display_data"
    }
   ],
   "source": [
    "fig2, axs = plt.subplots(1,2,figsize=(20,6))\n",
    "ax1 = sns.lineplot(x='date',y='TAR_p',data=df_t,ax=axs[0],color='green')\n",
    "ax2 = sns.lineplot(x='date',y='AR_p',data=df_t,ax=axs[0])\n",
    "ax3 = sns.lineplot(x='date',y='SR_p',data=df_t,ax=axs[0])\n",
    "ax4 = sns.lineplot(x='date',y='AR/TAR',data=df_t,ax=axs[1])\n",
    "ax5 = sns.lineplot(x='date',y='SR/TAR',data=df_t,ax=axs[1])\n",
    "axs[0].legend(['Total Affordable Housing','Affordable Rent','Social Rent'])\n",
    "axs[0].set_ylabel('% of dwellings')\n",
    "axs[1].legend(['Affordable Rent','Social Rent'])\n",
    "axs[1].set_ylabel('% of dwellings')\n",
    "fig2.suptitle('Composition of Affordable Housing, National Aggregated')"
   ]
  },
  {
   "cell_type": "code",
   "execution_count": 165,
   "metadata": {},
   "outputs": [
    {
     "data": {
      "image/png": "[encoded data removed]",
      "text/plain": [
       "<Figure size 1440x432 with 2 Axes>"
      ]
     },
     "execution_count": 165,
     "metadata": {},
     "output_type": "execute_result"
    }
   ],
   "source": [
    "fig1"
   ]
  },
  {
   "cell_type": "markdown",
   "metadata": {},
   "source": [
    "As we can see, there are similar trends in both the national average as well as the Coventry housing market, as affordable rent housing was introduced and rising, the proportion of social rent properties have fallen considerably. However, this may very well be spurious correlation and we must establish a causal relationship."
   ]
  },
  {
   "cell_type": "markdown",
   "metadata": {},
   "source": [
    "#### Correlation Estimates"
   ]
  },
  {
   "cell_type": "markdown",
   "metadata": {},
   "source": []
  }
 ],
 "metadata": {
  "interpreter": {
   "hash": "264cccd5883412ab4e02ed8c66b4bdd34e6b25f2ac5afddfbd93d0dda37aab11"
  },
  "kernelspec": {
   "display_name": "Python 3.10.4 64-bit",
   "language": "python",
   "name": "python3"
  },
  "language_info": {
   "codemirror_mode": {
    "name": "ipython",
    "version": 3
   },
   "file_extension": ".py",
   "mimetype": "text/x-python",
   "name": "python",
   "nbconvert_exporter": "python",
   "pygments_lexer": "ipython3",
   "version": "3.10.4"
  },
  "orig_nbformat": 4
 },
 "nbformat": 4,
 "nbformat_minor": 2
}
