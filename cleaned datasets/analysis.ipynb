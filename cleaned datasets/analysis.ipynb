{
 "cells": [
  {
   "cell_type": "code",
   "execution_count": 2,
   "metadata": {},
   "outputs": [],
   "source": [
    "import pandas as pd\n",
    "import numpy as np\n",
    "import matplotlib.pyplot as plt\n",
    "import matplotlib as mpl\n",
    "\n",
    "%matplotlib inline"
   ]
  },
  {
   "cell_type": "code",
   "execution_count": 20,
   "metadata": {},
   "outputs": [
    {
     "name": "stdout",
     "output_type": "stream",
     "text": [
      "(12000, 4)\n"
     ]
    },
    {
     "data": {
      "text/html": [
       "<div>\n",
       "<style scoped>\n",
       "    .dataframe tbody tr th:only-of-type {\n",
       "        vertical-align: middle;\n",
       "    }\n",
       "\n",
       "    .dataframe tbody tr th {\n",
       "        vertical-align: top;\n",
       "    }\n",
       "\n",
       "    .dataframe thead th {\n",
       "        text-align: right;\n",
       "    }\n",
       "</style>\n",
       "<table border=\"1\" class=\"dataframe\">\n",
       "  <thead>\n",
       "    <tr style=\"text-align: right;\">\n",
       "      <th></th>\n",
       "      <th>LA_code</th>\n",
       "      <th>LA</th>\n",
       "      <th>year</th>\n",
       "      <th>SR</th>\n",
       "    </tr>\n",
       "  </thead>\n",
       "  <tbody>\n",
       "    <tr>\n",
       "      <th>0</th>\n",
       "      <td>E07000157</td>\n",
       "      <td>Alnwick</td>\n",
       "      <td>1992</td>\n",
       "      <td>44.0</td>\n",
       "    </tr>\n",
       "    <tr>\n",
       "      <th>1</th>\n",
       "      <td>E07000158</td>\n",
       "      <td>Berwick-upon-Tweed</td>\n",
       "      <td>1992</td>\n",
       "      <td>5.0</td>\n",
       "    </tr>\n",
       "    <tr>\n",
       "      <th>2</th>\n",
       "      <td>E07000159</td>\n",
       "      <td>Blyth Valley</td>\n",
       "      <td>1992</td>\n",
       "      <td>16.0</td>\n",
       "    </tr>\n",
       "    <tr>\n",
       "      <th>3</th>\n",
       "      <td>E07000160</td>\n",
       "      <td>Castle Morpeth</td>\n",
       "      <td>1992</td>\n",
       "      <td>8.0</td>\n",
       "    </tr>\n",
       "    <tr>\n",
       "      <th>4</th>\n",
       "      <td>E07000054</td>\n",
       "      <td>Chester-le-Street</td>\n",
       "      <td>1992</td>\n",
       "      <td>0.0</td>\n",
       "    </tr>\n",
       "  </tbody>\n",
       "</table>\n",
       "</div>"
      ],
      "text/plain": [
       "     LA_code                  LA  year    SR\n",
       "0  E07000157             Alnwick  1992  44.0\n",
       "1  E07000158  Berwick-upon-Tweed  1992   5.0\n",
       "2  E07000159        Blyth Valley  1992  16.0\n",
       "3  E07000160      Castle Morpeth  1992   8.0\n",
       "4  E07000054   Chester-le-Street  1992   0.0"
      ]
     },
     "execution_count": 20,
     "metadata": {},
     "output_type": "execute_result"
    }
   ],
   "source": [
    "df1 = pd.read_excel('Socially Rented Dwellings by LA, 1992-2021.xlsx')\n",
    "df1.rename(columns={'new_dwellings':'SR'}, inplace=True)\n",
    "df1.drop(columns='Unnamed: 0',inplace=True)\n",
    "print(df1.shape)\n",
    "df1.head()"
   ]
  },
  {
   "cell_type": "code",
   "execution_count": 21,
   "metadata": {},
   "outputs": [
    {
     "name": "stdout",
     "output_type": "stream",
     "text": [
      "(12000, 4)\n"
     ]
    },
    {
     "data": {
      "text/html": [
       "<div>\n",
       "<style scoped>\n",
       "    .dataframe tbody tr th:only-of-type {\n",
       "        vertical-align: middle;\n",
       "    }\n",
       "\n",
       "    .dataframe tbody tr th {\n",
       "        vertical-align: top;\n",
       "    }\n",
       "\n",
       "    .dataframe thead th {\n",
       "        text-align: right;\n",
       "    }\n",
       "</style>\n",
       "<table border=\"1\" class=\"dataframe\">\n",
       "  <thead>\n",
       "    <tr style=\"text-align: right;\">\n",
       "      <th></th>\n",
       "      <th>LA_code</th>\n",
       "      <th>LA</th>\n",
       "      <th>year</th>\n",
       "      <th>AR</th>\n",
       "    </tr>\n",
       "  </thead>\n",
       "  <tbody>\n",
       "    <tr>\n",
       "      <th>0</th>\n",
       "      <td>E07000157</td>\n",
       "      <td>Alnwick</td>\n",
       "      <td>1992</td>\n",
       "      <td>45.0</td>\n",
       "    </tr>\n",
       "    <tr>\n",
       "      <th>1</th>\n",
       "      <td>E07000158</td>\n",
       "      <td>Berwick-upon-Tweed</td>\n",
       "      <td>1992</td>\n",
       "      <td>5.0</td>\n",
       "    </tr>\n",
       "    <tr>\n",
       "      <th>2</th>\n",
       "      <td>E07000159</td>\n",
       "      <td>Blyth Valley</td>\n",
       "      <td>1992</td>\n",
       "      <td>21.0</td>\n",
       "    </tr>\n",
       "    <tr>\n",
       "      <th>3</th>\n",
       "      <td>E07000160</td>\n",
       "      <td>Castle Morpeth</td>\n",
       "      <td>1992</td>\n",
       "      <td>8.0</td>\n",
       "    </tr>\n",
       "    <tr>\n",
       "      <th>4</th>\n",
       "      <td>E07000054</td>\n",
       "      <td>Chester-le-Street</td>\n",
       "      <td>1992</td>\n",
       "      <td>16.0</td>\n",
       "    </tr>\n",
       "  </tbody>\n",
       "</table>\n",
       "</div>"
      ],
      "text/plain": [
       "     LA_code                  LA  year    AR\n",
       "0  E07000157             Alnwick  1992  45.0\n",
       "1  E07000158  Berwick-upon-Tweed  1992   5.0\n",
       "2  E07000159        Blyth Valley  1992  21.0\n",
       "3  E07000160      Castle Morpeth  1992   8.0\n",
       "4  E07000054   Chester-le-Street  1992  16.0"
      ]
     },
     "execution_count": 21,
     "metadata": {},
     "output_type": "execute_result"
    }
   ],
   "source": [
    "df2 = pd.read_excel('Affordable Rent Dwellings by LA, 1992-2021.xlsx')\n",
    "df2.drop(columns='Unnamed: 0', inplace=True)\n",
    "df2.rename(columns={'new_dwellings':'AR'}, inplace=True)\n",
    "print(df2.shape)\n",
    "df2.head()"
   ]
  },
  {
   "cell_type": "code",
   "execution_count": 63,
   "metadata": {},
   "outputs": [],
   "source": [
    "df3 = pd.read_excel('Dwellings by LA 1980-2021.xlsx')\n",
    "df3.drop(columns=['Unnamed: 0','DLUHC Code','Former ONS Code'], inplace=True)\n",
    "df3 = df3[['ONS Code','Local Authority','DC_Total','year']][df3.loc[:,'year']>=1992]\n",
    "df3.reset_index(drop=True,inplace=True)\n",
    "df3.rename(columns={'ONS Code':'LA_code','Local Authority':'LA'},inplace=True)"
   ]
  },
  {
   "cell_type": "code",
   "execution_count": 71,
   "metadata": {},
   "outputs": [],
   "source": [
    "df = pd.merge(df1,df2,on=['LA_code','LA','year'])\n",
    "df = pd.merge(df,df3,on=['LA_code','LA','year'])\n",
    "df.loc[:,'date'] = pd.to_datetime(df.loc[:,'year'].astype(str),format='%Y')\n",
    "df.loc[df.DC_Total=='..','DC_Total'] = np.nan\n",
    "df.loc[:,'DC_Total'] = df.loc[:,'DC_Total'].astype(float)"
   ]
  },
  {
   "cell_type": "code",
   "execution_count": 72,
   "metadata": {},
   "outputs": [
    {
     "data": {
      "text/html": [
       "<div>\n",
       "<style scoped>\n",
       "    .dataframe tbody tr th:only-of-type {\n",
       "        vertical-align: middle;\n",
       "    }\n",
       "\n",
       "    .dataframe tbody tr th {\n",
       "        vertical-align: top;\n",
       "    }\n",
       "\n",
       "    .dataframe thead th {\n",
       "        text-align: right;\n",
       "    }\n",
       "</style>\n",
       "<table border=\"1\" class=\"dataframe\">\n",
       "  <thead>\n",
       "    <tr style=\"text-align: right;\">\n",
       "      <th></th>\n",
       "      <th>LA_code</th>\n",
       "      <th>LA</th>\n",
       "      <th>year</th>\n",
       "      <th>SR</th>\n",
       "      <th>AR</th>\n",
       "      <th>DC_Total</th>\n",
       "      <th>date</th>\n",
       "    </tr>\n",
       "  </thead>\n",
       "  <tbody>\n",
       "    <tr>\n",
       "      <th>0</th>\n",
       "      <td>E07000157</td>\n",
       "      <td>Alnwick</td>\n",
       "      <td>1992</td>\n",
       "      <td>44.0</td>\n",
       "      <td>45.0</td>\n",
       "      <td>140.0</td>\n",
       "      <td>1992-01-01</td>\n",
       "    </tr>\n",
       "    <tr>\n",
       "      <th>1</th>\n",
       "      <td>E07000158</td>\n",
       "      <td>Berwick-upon-Tweed</td>\n",
       "      <td>1992</td>\n",
       "      <td>5.0</td>\n",
       "      <td>5.0</td>\n",
       "      <td>70.0</td>\n",
       "      <td>1992-01-01</td>\n",
       "    </tr>\n",
       "    <tr>\n",
       "      <th>2</th>\n",
       "      <td>E07000159</td>\n",
       "      <td>Blyth Valley</td>\n",
       "      <td>1992</td>\n",
       "      <td>16.0</td>\n",
       "      <td>21.0</td>\n",
       "      <td>410.0</td>\n",
       "      <td>1992-01-01</td>\n",
       "    </tr>\n",
       "    <tr>\n",
       "      <th>3</th>\n",
       "      <td>E07000160</td>\n",
       "      <td>Castle Morpeth</td>\n",
       "      <td>1992</td>\n",
       "      <td>8.0</td>\n",
       "      <td>8.0</td>\n",
       "      <td>140.0</td>\n",
       "      <td>1992-01-01</td>\n",
       "    </tr>\n",
       "    <tr>\n",
       "      <th>4</th>\n",
       "      <td>E07000054</td>\n",
       "      <td>Chester-le-Street</td>\n",
       "      <td>1992</td>\n",
       "      <td>0.0</td>\n",
       "      <td>16.0</td>\n",
       "      <td>340.0</td>\n",
       "      <td>1992-01-01</td>\n",
       "    </tr>\n",
       "  </tbody>\n",
       "</table>\n",
       "</div>"
      ],
      "text/plain": [
       "     LA_code                  LA  year    SR    AR  DC_Total       date\n",
       "0  E07000157             Alnwick  1992  44.0  45.0     140.0 1992-01-01\n",
       "1  E07000158  Berwick-upon-Tweed  1992   5.0   5.0      70.0 1992-01-01\n",
       "2  E07000159        Blyth Valley  1992  16.0  21.0     410.0 1992-01-01\n",
       "3  E07000160      Castle Morpeth  1992   8.0   8.0     140.0 1992-01-01\n",
       "4  E07000054   Chester-le-Street  1992   0.0  16.0     340.0 1992-01-01"
      ]
     },
     "execution_count": 72,
     "metadata": {},
     "output_type": "execute_result"
    }
   ],
   "source": [
    "df.head()"
   ]
  },
  {
   "cell_type": "code",
   "execution_count": 73,
   "metadata": {},
   "outputs": [
    {
     "data": {
      "text/html": [
       "<div>\n",
       "<style scoped>\n",
       "    .dataframe tbody tr th:only-of-type {\n",
       "        vertical-align: middle;\n",
       "    }\n",
       "\n",
       "    .dataframe tbody tr th {\n",
       "        vertical-align: top;\n",
       "    }\n",
       "\n",
       "    .dataframe thead th {\n",
       "        text-align: right;\n",
       "    }\n",
       "</style>\n",
       "<table border=\"1\" class=\"dataframe\">\n",
       "  <thead>\n",
       "    <tr style=\"text-align: right;\">\n",
       "      <th></th>\n",
       "      <th>LA_code</th>\n",
       "      <th>LA</th>\n",
       "      <th>year</th>\n",
       "      <th>SR</th>\n",
       "      <th>AR</th>\n",
       "      <th>DC_Total</th>\n",
       "      <th>date</th>\n",
       "    </tr>\n",
       "  </thead>\n",
       "  <tbody>\n",
       "    <tr>\n",
       "      <th>109</th>\n",
       "      <td>E08000026</td>\n",
       "      <td>Coventry</td>\n",
       "      <td>1992</td>\n",
       "      <td>102.0</td>\n",
       "      <td>127.0</td>\n",
       "      <td>230.0</td>\n",
       "      <td>1992-01-01</td>\n",
       "    </tr>\n",
       "    <tr>\n",
       "      <th>408</th>\n",
       "      <td>E08000026</td>\n",
       "      <td>Coventry</td>\n",
       "      <td>1993</td>\n",
       "      <td>231.0</td>\n",
       "      <td>331.0</td>\n",
       "      <td>390.0</td>\n",
       "      <td>1993-01-01</td>\n",
       "    </tr>\n",
       "    <tr>\n",
       "      <th>707</th>\n",
       "      <td>E08000026</td>\n",
       "      <td>Coventry</td>\n",
       "      <td>1994</td>\n",
       "      <td>378.0</td>\n",
       "      <td>474.0</td>\n",
       "      <td>330.0</td>\n",
       "      <td>1994-01-01</td>\n",
       "    </tr>\n",
       "    <tr>\n",
       "      <th>1006</th>\n",
       "      <td>E08000026</td>\n",
       "      <td>Coventry</td>\n",
       "      <td>1995</td>\n",
       "      <td>271.0</td>\n",
       "      <td>371.0</td>\n",
       "      <td>490.0</td>\n",
       "      <td>1995-01-01</td>\n",
       "    </tr>\n",
       "    <tr>\n",
       "      <th>1305</th>\n",
       "      <td>E08000026</td>\n",
       "      <td>Coventry</td>\n",
       "      <td>1996</td>\n",
       "      <td>203.0</td>\n",
       "      <td>315.0</td>\n",
       "      <td>530.0</td>\n",
       "      <td>1996-01-01</td>\n",
       "    </tr>\n",
       "  </tbody>\n",
       "</table>\n",
       "</div>"
      ],
      "text/plain": [
       "        LA_code        LA  year     SR     AR  DC_Total       date\n",
       "109   E08000026  Coventry  1992  102.0  127.0     230.0 1992-01-01\n",
       "408   E08000026  Coventry  1993  231.0  331.0     390.0 1993-01-01\n",
       "707   E08000026  Coventry  1994  378.0  474.0     330.0 1994-01-01\n",
       "1006  E08000026  Coventry  1995  271.0  371.0     490.0 1995-01-01\n",
       "1305  E08000026  Coventry  1996  203.0  315.0     530.0 1996-01-01"
      ]
     },
     "execution_count": 73,
     "metadata": {},
     "output_type": "execute_result"
    }
   ],
   "source": [
    "dcov = df[df.loc[:,'LA']=='Coventry'].copy()\n",
    "dcov.head()"
   ]
  },
  {
   "cell_type": "code",
   "execution_count": 84,
   "metadata": {},
   "outputs": [],
   "source": [
    "dcov.reset_index(drop=True,inplace=True)"
   ]
  },
  {
   "cell_type": "code",
   "execution_count": 79,
   "metadata": {},
   "outputs": [
    {
     "name": "stderr",
     "output_type": "stream",
     "text": [
      "C:\\Users\\adnaa\\AppData\\Local\\Programs\\Python\\Python310\\lib\\site-packages\\pandas\\core\\arraylike.py:397: RuntimeWarning: divide by zero encountered in log\n",
      "  result = getattr(ufunc, method)(*inputs, **kwargs)\n"
     ]
    },
    {
     "data": {
      "text/plain": [
       "<matplotlib.legend.Legend at 0x216c7713400>"
      ]
     },
     "execution_count": 79,
     "metadata": {},
     "output_type": "execute_result"
    },
    {
     "data": {
      "image/png": "[encoded data removed]",
      "text/plain": [
       "<Figure size 432x288 with 1 Axes>"
      ]
     },
     "metadata": {
      "needs_background": "light"
     },
     "output_type": "display_data"
    }
   ],
   "source": [
    "x = dcov['date']\n",
    "y1 = np.log(dcov['SR'])\n",
    "y2 = np.log(dcov['AR'])\n",
    "y3 = np.log(dcov['DC_Total'])\n",
    "plt.plot(x,y1)\n",
    "plt.plot(x,y2)\n",
    "plt.plot(x,y3)\n",
    "plt.axhline(y=np.log(348),color='r')\n",
    "plt.xlabel('year')\n",
    "plt.ylabel('log(houses delivered)')\n",
    "plt.legend(['SR','AR','All'])"
   ]
  },
  {
   "cell_type": "code",
   "execution_count": 98,
   "metadata": {},
   "outputs": [],
   "source": [
    "dt = df[['LA_code','LA','SR','AR','DC_Total','date']].groupby(['date']).sum()"
   ]
  },
  {
   "cell_type": "code",
   "execution_count": 54,
   "metadata": {},
   "outputs": [],
   "source": [
    "x = dt.index\n",
    "y1 = dt['SR']\n",
    "y2 = dt['AR']\n",
    "y3 = dcov['SR']\n",
    "y4 = dcov['AR']"
   ]
  },
  {
   "cell_type": "code",
   "execution_count": 57,
   "metadata": {},
   "outputs": [
    {
     "data": {
      "text/plain": [
       "[<matplotlib.lines.Line2D at 0x216c15ea020>]"
      ]
     },
     "execution_count": 57,
     "metadata": {},
     "output_type": "execute_result"
    },
    {
     "data": {
      "image/png": "[encoded data removed]",
      "text/plain": [
       "<Figure size 432x288 with 1 Axes>"
      ]
     },
     "metadata": {
      "needs_background": "light"
     },
     "output_type": "display_data"
    }
   ],
   "source": [
    "plt.plot(x,y1)\n",
    "plt.plot(x,y2)\n",
    "#plt.plot(x,y3)\n",
    "plt.plot(x,y4)"
   ]
  },
  {
   "cell_type": "markdown",
   "metadata": {},
   "source": [
    "Coventry is above the mean for affordable house delivery, but does not follow the recent trend of increasing affordable homes delivery."
   ]
  },
  {
   "cell_type": "code",
   "execution_count": 96,
   "metadata": {},
   "outputs": [
    {
     "data": {
      "text/html": [
       "<div>\n",
       "<style scoped>\n",
       "    .dataframe tbody tr th:only-of-type {\n",
       "        vertical-align: middle;\n",
       "    }\n",
       "\n",
       "    .dataframe tbody tr th {\n",
       "        vertical-align: top;\n",
       "    }\n",
       "\n",
       "    .dataframe thead th {\n",
       "        text-align: right;\n",
       "    }\n",
       "</style>\n",
       "<table border=\"1\" class=\"dataframe\">\n",
       "  <thead>\n",
       "    <tr style=\"text-align: right;\">\n",
       "      <th></th>\n",
       "      <th>SR</th>\n",
       "      <th>AR</th>\n",
       "      <th>DC_Total</th>\n",
       "    </tr>\n",
       "    <tr>\n",
       "      <th>date</th>\n",
       "      <th></th>\n",
       "      <th></th>\n",
       "      <th></th>\n",
       "    </tr>\n",
       "  </thead>\n",
       "  <tbody>\n",
       "    <tr>\n",
       "      <th>1992-01-01</th>\n",
       "      <td>66.755853</td>\n",
       "      <td>77.066890</td>\n",
       "      <td>411.839465</td>\n",
       "    </tr>\n",
       "    <tr>\n",
       "      <th>1993-01-01</th>\n",
       "      <td>156.170569</td>\n",
       "      <td>180.394649</td>\n",
       "      <td>389.698997</td>\n",
       "    </tr>\n",
       "    <tr>\n",
       "      <th>1994-01-01</th>\n",
       "      <td>133.856187</td>\n",
       "      <td>173.585284</td>\n",
       "      <td>401.137124</td>\n",
       "    </tr>\n",
       "    <tr>\n",
       "      <th>1995-01-01</th>\n",
       "      <td>139.016722</td>\n",
       "      <td>182.217391</td>\n",
       "      <td>427.357860</td>\n",
       "    </tr>\n",
       "    <tr>\n",
       "      <th>1996-01-01</th>\n",
       "      <td>153.489933</td>\n",
       "      <td>201.201342</td>\n",
       "      <td>417.852349</td>\n",
       "    </tr>\n",
       "    <tr>\n",
       "      <th>1997-01-01</th>\n",
       "      <td>117.225166</td>\n",
       "      <td>156.539735</td>\n",
       "      <td>390.529801</td>\n",
       "    </tr>\n",
       "    <tr>\n",
       "      <th>1998-01-01</th>\n",
       "      <td>96.708609</td>\n",
       "      <td>128.675497</td>\n",
       "      <td>389.867550</td>\n",
       "    </tr>\n",
       "    <tr>\n",
       "      <th>1999-01-01</th>\n",
       "      <td>92.316832</td>\n",
       "      <td>117.184818</td>\n",
       "      <td>364.229391</td>\n",
       "    </tr>\n",
       "    <tr>\n",
       "      <th>2000-01-01</th>\n",
       "      <td>77.864686</td>\n",
       "      <td>95.488449</td>\n",
       "      <td>371.715976</td>\n",
       "    </tr>\n",
       "    <tr>\n",
       "      <th>2001-01-01</th>\n",
       "      <td>73.848185</td>\n",
       "      <td>91.092409</td>\n",
       "      <td>342.797927</td>\n",
       "    </tr>\n",
       "    <tr>\n",
       "      <th>2002-01-01</th>\n",
       "      <td>74.349835</td>\n",
       "      <td>91.742574</td>\n",
       "      <td>343.288288</td>\n",
       "    </tr>\n",
       "    <tr>\n",
       "      <th>2003-01-01</th>\n",
       "      <td>65.891089</td>\n",
       "      <td>90.818482</td>\n",
       "      <td>393.209302</td>\n",
       "    </tr>\n",
       "    <tr>\n",
       "      <th>2004-01-01</th>\n",
       "      <td>61.828383</td>\n",
       "      <td>103.759076</td>\n",
       "      <td>386.626506</td>\n",
       "    </tr>\n",
       "    <tr>\n",
       "      <th>2005-01-01</th>\n",
       "      <td>58.666667</td>\n",
       "      <td>100.768977</td>\n",
       "      <td>404.263566</td>\n",
       "    </tr>\n",
       "    <tr>\n",
       "      <th>2006-01-01</th>\n",
       "      <td>63.409241</td>\n",
       "      <td>120.504950</td>\n",
       "      <td>429.812734</td>\n",
       "    </tr>\n",
       "    <tr>\n",
       "      <th>2007-01-01</th>\n",
       "      <td>66.333333</td>\n",
       "      <td>117.287129</td>\n",
       "      <td>435.992366</td>\n",
       "    </tr>\n",
       "    <tr>\n",
       "      <th>2008-01-01</th>\n",
       "      <td>81.772277</td>\n",
       "      <td>144.333333</td>\n",
       "      <td>456.516854</td>\n",
       "    </tr>\n",
       "    <tr>\n",
       "      <th>2009-01-01</th>\n",
       "      <td>83.511551</td>\n",
       "      <td>149.214521</td>\n",
       "      <td>385.845588</td>\n",
       "    </tr>\n",
       "    <tr>\n",
       "      <th>2010-01-01</th>\n",
       "      <td>96.222642</td>\n",
       "      <td>167.384906</td>\n",
       "      <td>334.827586</td>\n",
       "    </tr>\n",
       "    <tr>\n",
       "      <th>2011-01-01</th>\n",
       "      <td>109.247899</td>\n",
       "      <td>168.978992</td>\n",
       "      <td>305.798319</td>\n",
       "    </tr>\n",
       "    <tr>\n",
       "      <th>2012-01-01</th>\n",
       "      <td>113.261364</td>\n",
       "      <td>174.507576</td>\n",
       "      <td>335.454545</td>\n",
       "    </tr>\n",
       "    <tr>\n",
       "      <th>2013-01-01</th>\n",
       "      <td>52.749064</td>\n",
       "      <td>123.404494</td>\n",
       "      <td>306.853933</td>\n",
       "    </tr>\n",
       "    <tr>\n",
       "      <th>2014-01-01</th>\n",
       "      <td>30.207407</td>\n",
       "      <td>124.111111</td>\n",
       "      <td>318.518519</td>\n",
       "    </tr>\n",
       "    <tr>\n",
       "      <th>2015-01-01</th>\n",
       "      <td>27.322222</td>\n",
       "      <td>192.100000</td>\n",
       "      <td>348.740741</td>\n",
       "    </tr>\n",
       "    <tr>\n",
       "      <th>2016-01-01</th>\n",
       "      <td>20.055556</td>\n",
       "      <td>93.007407</td>\n",
       "      <td>402.370370</td>\n",
       "    </tr>\n",
       "    <tr>\n",
       "      <th>2017-01-01</th>\n",
       "      <td>15.392593</td>\n",
       "      <td>120.381481</td>\n",
       "      <td>416.962963</td>\n",
       "    </tr>\n",
       "    <tr>\n",
       "      <th>2018-01-01</th>\n",
       "      <td>17.800000</td>\n",
       "      <td>133.366667</td>\n",
       "      <td>454.333333</td>\n",
       "    </tr>\n",
       "    <tr>\n",
       "      <th>2019-01-01</th>\n",
       "      <td>16.754647</td>\n",
       "      <td>160.509294</td>\n",
       "      <td>469.070632</td>\n",
       "    </tr>\n",
       "    <tr>\n",
       "      <th>2020-01-01</th>\n",
       "      <td>17.903846</td>\n",
       "      <td>170.207692</td>\n",
       "      <td>509.269231</td>\n",
       "    </tr>\n",
       "    <tr>\n",
       "      <th>2021-01-01</th>\n",
       "      <td>17.792969</td>\n",
       "      <td>157.394531</td>\n",
       "      <td>453.398438</td>\n",
       "    </tr>\n",
       "  </tbody>\n",
       "</table>\n",
       "</div>"
      ],
      "text/plain": [
       "                    SR          AR    DC_Total\n",
       "date                                          \n",
       "1992-01-01   66.755853   77.066890  411.839465\n",
       "1993-01-01  156.170569  180.394649  389.698997\n",
       "1994-01-01  133.856187  173.585284  401.137124\n",
       "1995-01-01  139.016722  182.217391  427.357860\n",
       "1996-01-01  153.489933  201.201342  417.852349\n",
       "1997-01-01  117.225166  156.539735  390.529801\n",
       "1998-01-01   96.708609  128.675497  389.867550\n",
       "1999-01-01   92.316832  117.184818  364.229391\n",
       "2000-01-01   77.864686   95.488449  371.715976\n",
       "2001-01-01   73.848185   91.092409  342.797927\n",
       "2002-01-01   74.349835   91.742574  343.288288\n",
       "2003-01-01   65.891089   90.818482  393.209302\n",
       "2004-01-01   61.828383  103.759076  386.626506\n",
       "2005-01-01   58.666667  100.768977  404.263566\n",
       "2006-01-01   63.409241  120.504950  429.812734\n",
       "2007-01-01   66.333333  117.287129  435.992366\n",
       "2008-01-01   81.772277  144.333333  456.516854\n",
       "2009-01-01   83.511551  149.214521  385.845588\n",
       "2010-01-01   96.222642  167.384906  334.827586\n",
       "2011-01-01  109.247899  168.978992  305.798319\n",
       "2012-01-01  113.261364  174.507576  335.454545\n",
       "2013-01-01   52.749064  123.404494  306.853933\n",
       "2014-01-01   30.207407  124.111111  318.518519\n",
       "2015-01-01   27.322222  192.100000  348.740741\n",
       "2016-01-01   20.055556   93.007407  402.370370\n",
       "2017-01-01   15.392593  120.381481  416.962963\n",
       "2018-01-01   17.800000  133.366667  454.333333\n",
       "2019-01-01   16.754647  160.509294  469.070632\n",
       "2020-01-01   17.903846  170.207692  509.269231\n",
       "2021-01-01   17.792969  157.394531  453.398438"
      ]
     },
     "execution_count": 96,
     "metadata": {},
     "output_type": "execute_result"
    }
   ],
   "source": [
    "dt"
   ]
  },
  {
   "cell_type": "code",
   "execution_count": 99,
   "metadata": {},
   "outputs": [
    {
     "data": {
      "text/plain": [
       "[<matplotlib.lines.Line2D at 0x216ca1bd300>]"
      ]
     },
     "execution_count": 99,
     "metadata": {},
     "output_type": "execute_result"
    },
    {
     "data": {
      "image/png": "[encoded data removed]",
      "text/plain": [
       "<Figure size 432x288 with 1 Axes>"
      ]
     },
     "metadata": {
      "needs_background": "light"
     },
     "output_type": "display_data"
    }
   ],
   "source": [
    "x = dt.index\n",
    "y1 = np.log(dcov['DC_Total'])\n",
    "y2 = np.log(dt['DC_Total'])\n",
    "\n",
    "plt.plot(x,y1)\n",
    "plt.plot(x,y2)"
   ]
  },
  {
   "cell_type": "code",
   "execution_count": 124,
   "metadata": {},
   "outputs": [],
   "source": [
    "df4 = pd.read_excel('Median House Prices by LA 1995-2021, Quarterly, Long.xlsx')\n"
   ]
  },
  {
   "cell_type": "code",
   "execution_count": 125,
   "metadata": {},
   "outputs": [],
   "source": [
    "df4['quarter'] = df4['quarter'].map(lambda x: ''.join(x.split()))"
   ]
  },
  {
   "cell_type": "code",
   "execution_count": 126,
   "metadata": {},
   "outputs": [],
   "source": [
    "df4 = df4.loc[df4.quarter!='...109',:]"
   ]
  },
  {
   "cell_type": "code",
   "execution_count": 129,
   "metadata": {},
   "outputs": [],
   "source": [
    "df4['date'] = pd.to_datetime(df4['quarter'],format='%b%Y')"
   ]
  },
  {
   "cell_type": "code",
   "execution_count": 135,
   "metadata": {},
   "outputs": [],
   "source": [
    "dcov4 = df4[df4.loc[:,'LA']=='Coventry'].copy()\n",
    "dcov4.reset_index(drop=True,inplace=True)\n",
    "dcov4['year'] = dcov4['date'].dt.year"
   ]
  },
  {
   "cell_type": "code",
   "execution_count": 138,
   "metadata": {},
   "outputs": [],
   "source": [
    "for x in dcov4.index[1:]:\n",
    "    dcov4.loc[x,'price_change'] = dcov4.loc[x,'median'] - dcov4.loc[x-1,'median']"
   ]
  },
  {
   "cell_type": "code",
   "execution_count": 139,
   "metadata": {},
   "outputs": [
    {
     "data": {
      "text/html": [
       "<div>\n",
       "<style scoped>\n",
       "    .dataframe tbody tr th:only-of-type {\n",
       "        vertical-align: middle;\n",
       "    }\n",
       "\n",
       "    .dataframe tbody tr th {\n",
       "        vertical-align: top;\n",
       "    }\n",
       "\n",
       "    .dataframe thead th {\n",
       "        text-align: right;\n",
       "    }\n",
       "</style>\n",
       "<table border=\"1\" class=\"dataframe\">\n",
       "  <thead>\n",
       "    <tr style=\"text-align: right;\">\n",
       "      <th></th>\n",
       "      <th>LA_code</th>\n",
       "      <th>LA</th>\n",
       "      <th>quarter</th>\n",
       "      <th>median</th>\n",
       "      <th>date</th>\n",
       "      <th>year</th>\n",
       "      <th>price_change</th>\n",
       "    </tr>\n",
       "  </thead>\n",
       "  <tbody>\n",
       "    <tr>\n",
       "      <th>0</th>\n",
       "      <td>E08000026</td>\n",
       "      <td>Coventry</td>\n",
       "      <td>Dec1995</td>\n",
       "      <td>42000.0</td>\n",
       "      <td>1995-12-01</td>\n",
       "      <td>1995</td>\n",
       "      <td>NaN</td>\n",
       "    </tr>\n",
       "    <tr>\n",
       "      <th>1</th>\n",
       "      <td>E08000026</td>\n",
       "      <td>Coventry</td>\n",
       "      <td>Mar1996</td>\n",
       "      <td>41500.0</td>\n",
       "      <td>1996-03-01</td>\n",
       "      <td>1996</td>\n",
       "      <td>-500.0</td>\n",
       "    </tr>\n",
       "    <tr>\n",
       "      <th>2</th>\n",
       "      <td>E08000026</td>\n",
       "      <td>Coventry</td>\n",
       "      <td>Jun1996</td>\n",
       "      <td>41500.0</td>\n",
       "      <td>1996-06-01</td>\n",
       "      <td>1996</td>\n",
       "      <td>0.0</td>\n",
       "    </tr>\n",
       "    <tr>\n",
       "      <th>3</th>\n",
       "      <td>E08000026</td>\n",
       "      <td>Coventry</td>\n",
       "      <td>Sep1996</td>\n",
       "      <td>42000.0</td>\n",
       "      <td>1996-09-01</td>\n",
       "      <td>1996</td>\n",
       "      <td>500.0</td>\n",
       "    </tr>\n",
       "    <tr>\n",
       "      <th>4</th>\n",
       "      <td>E08000026</td>\n",
       "      <td>Coventry</td>\n",
       "      <td>Dec1996</td>\n",
       "      <td>42000.0</td>\n",
       "      <td>1996-12-01</td>\n",
       "      <td>1996</td>\n",
       "      <td>0.0</td>\n",
       "    </tr>\n",
       "  </tbody>\n",
       "</table>\n",
       "</div>"
      ],
      "text/plain": [
       "     LA_code        LA  quarter   median       date  year  price_change\n",
       "0  E08000026  Coventry  Dec1995  42000.0 1995-12-01  1995           NaN\n",
       "1  E08000026  Coventry  Mar1996  41500.0 1996-03-01  1996        -500.0\n",
       "2  E08000026  Coventry  Jun1996  41500.0 1996-06-01  1996           0.0\n",
       "3  E08000026  Coventry  Sep1996  42000.0 1996-09-01  1996         500.0\n",
       "4  E08000026  Coventry  Dec1996  42000.0 1996-12-01  1996           0.0"
      ]
     },
     "execution_count": 139,
     "metadata": {},
     "output_type": "execute_result"
    }
   ],
   "source": [
    "dcov4.head()"
   ]
  },
  {
   "cell_type": "code",
   "execution_count": 144,
   "metadata": {},
   "outputs": [
    {
     "name": "stderr",
     "output_type": "stream",
     "text": [
      "C:\\Users\\adnaa\\AppData\\Local\\Programs\\Python\\Python310\\lib\\site-packages\\pandas\\core\\arraylike.py:397: RuntimeWarning: divide by zero encountered in log\n",
      "  result = getattr(ufunc, method)(*inputs, **kwargs)\n"
     ]
    },
    {
     "data": {
      "text/plain": [
       "<matplotlib.legend.Legend at 0x216ca7c0880>"
      ]
     },
     "execution_count": 144,
     "metadata": {},
     "output_type": "execute_result"
    },
    {
     "data": {
      "image/png": "[encoded data removed]",
      "text/plain": [
       "<Figure size 432x288 with 1 Axes>"
      ]
     },
     "metadata": {
      "needs_background": "light"
     },
     "output_type": "display_data"
    }
   ],
   "source": [
    "x = dcov['date']\n",
    "y1 = np.log(dcov['SR'])\n",
    "y2 = np.log(dcov['AR'])\n",
    "y3 = np.log(dcov['DC_Total'])\n",
    "plt.plot(x,y1)\n",
    "plt.plot(x,y2)\n",
    "plt.plot(x,y3)\n",
    "plt.axhline(y=np.log(348),color='r')\n",
    "plt.xlabel('year')\n",
    "plt.ylabel('log(houses delivered)')\n",
    "plt.legend(['SR','AR','All'])"
   ]
  },
  {
   "cell_type": "code",
   "execution_count": 145,
   "metadata": {},
   "outputs": [
    {
     "data": {
      "text/plain": [
       "[<matplotlib.lines.Line2D at 0x216ca2e8f10>]"
      ]
     },
     "execution_count": 145,
     "metadata": {},
     "output_type": "execute_result"
    },
    {
     "data": {
      "image/png": "[encoded data removed]",
      "text/plain": [
       "<Figure size 432x288 with 1 Axes>"
      ]
     },
     "metadata": {
      "needs_background": "light"
     },
     "output_type": "display_data"
    }
   ],
   "source": [
    "a = dcov4.groupby('year').mean().index\n",
    "b = dcov4.groupby('year').mean().price_change\n",
    "plt.plot(a,b)"
   ]
  },
  {
   "cell_type": "code",
   "execution_count": null,
   "metadata": {},
   "outputs": [],
   "source": []
  }
 ],
 "metadata": {
  "interpreter": {
   "hash": "afcbf81318a229b4525fb6e135028dc6563b1b027cefba10fdf5bdd956634443"
  },
  "kernelspec": {
   "display_name": "Python 3.10.4 64-bit",
   "language": "python",
   "name": "python3"
  },
  "language_info": {
   "codemirror_mode": {
    "name": "ipython",
    "version": 3
   },
   "file_extension": ".py",
   "mimetype": "text/x-python",
   "name": "python",
   "nbconvert_exporter": "python",
   "pygments_lexer": "ipython3",
   "version": "3.10.4"
  },
  "orig_nbformat": 4
 },
 "nbformat": 4,
 "nbformat_minor": 2
}
