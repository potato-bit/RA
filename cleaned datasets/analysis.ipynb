{
 "cells": [
  {
   "cell_type": "markdown",
   "metadata": {},
   "source": [
    "# Preliminary Data Analysis"
   ]
  },
  {
   "cell_type": "code",
   "execution_count": 32,
   "metadata": {},
   "outputs": [],
   "source": [
    "import pandas as pd\n",
    "import numpy as np\n",
    "import matplotlib.pyplot as plt\n",
    "import matplotlib as mpl\n",
    "\n",
    "%matplotlib inline"
   ]
  },
  {
   "cell_type": "code",
   "execution_count": 33,
   "metadata": {},
   "outputs": [],
   "source": [
    "pd.set_option('display.max_rows',100)"
   ]
  },
  {
   "cell_type": "markdown",
   "metadata": {},
   "source": [
    "# Importing Data"
   ]
  },
  {
   "cell_type": "markdown",
   "metadata": {},
   "source": [
    "Dataset for socially rented dwelling by Local Authority, 1992-2021"
   ]
  },
  {
   "cell_type": "code",
   "execution_count": 48,
   "metadata": {},
   "outputs": [
    {
     "name": "stdout",
     "output_type": "stream",
     "text": [
      "(12000, 4)\n"
     ]
    },
    {
     "data": {
      "text/html": [
       "<div>\n",
       "<style scoped>\n",
       "    .dataframe tbody tr th:only-of-type {\n",
       "        vertical-align: middle;\n",
       "    }\n",
       "\n",
       "    .dataframe tbody tr th {\n",
       "        vertical-align: top;\n",
       "    }\n",
       "\n",
       "    .dataframe thead th {\n",
       "        text-align: right;\n",
       "    }\n",
       "</style>\n",
       "<table border=\"1\" class=\"dataframe\">\n",
       "  <thead>\n",
       "    <tr style=\"text-align: right;\">\n",
       "      <th></th>\n",
       "      <th>LA_code</th>\n",
       "      <th>LA</th>\n",
       "      <th>year</th>\n",
       "      <th>SR</th>\n",
       "    </tr>\n",
       "  </thead>\n",
       "  <tbody>\n",
       "    <tr>\n",
       "      <th>0</th>\n",
       "      <td>E07000157</td>\n",
       "      <td>Alnwick</td>\n",
       "      <td>1992</td>\n",
       "      <td>44.0</td>\n",
       "    </tr>\n",
       "    <tr>\n",
       "      <th>1</th>\n",
       "      <td>E07000158</td>\n",
       "      <td>Berwick-upon-Tweed</td>\n",
       "      <td>1992</td>\n",
       "      <td>5.0</td>\n",
       "    </tr>\n",
       "    <tr>\n",
       "      <th>2</th>\n",
       "      <td>E07000159</td>\n",
       "      <td>Blyth Valley</td>\n",
       "      <td>1992</td>\n",
       "      <td>16.0</td>\n",
       "    </tr>\n",
       "    <tr>\n",
       "      <th>3</th>\n",
       "      <td>E07000160</td>\n",
       "      <td>Castle Morpeth</td>\n",
       "      <td>1992</td>\n",
       "      <td>8.0</td>\n",
       "    </tr>\n",
       "    <tr>\n",
       "      <th>4</th>\n",
       "      <td>E07000054</td>\n",
       "      <td>Chester-le-Street</td>\n",
       "      <td>1992</td>\n",
       "      <td>0.0</td>\n",
       "    </tr>\n",
       "  </tbody>\n",
       "</table>\n",
       "</div>"
      ],
      "text/plain": [
       "     LA_code                  LA  year    SR\n",
       "0  E07000157             Alnwick  1992  44.0\n",
       "1  E07000158  Berwick-upon-Tweed  1992   5.0\n",
       "2  E07000159        Blyth Valley  1992  16.0\n",
       "3  E07000160      Castle Morpeth  1992   8.0\n",
       "4  E07000054   Chester-le-Street  1992   0.0"
      ]
     },
     "execution_count": 48,
     "metadata": {},
     "output_type": "execute_result"
    }
   ],
   "source": [
    "df1 = pd.read_excel('Socially Rented Dwellings by LA, 1992-2021.xlsx')\n",
    "df1.rename(columns={'new_dwellings':'SR'}, inplace=True)\n",
    "df1.drop(columns='Unnamed: 0',inplace=True)\n",
    "print(df1.shape)\n",
    "df1.head()"
   ]
  },
  {
   "cell_type": "markdown",
   "metadata": {},
   "source": [
    "Dataset for total number of affordable dwellings by LA, 1992-2021"
   ]
  },
  {
   "cell_type": "code",
   "execution_count": 49,
   "metadata": {},
   "outputs": [
    {
     "name": "stdout",
     "output_type": "stream",
     "text": [
      "(12000, 4)\n"
     ]
    },
    {
     "data": {
      "text/html": [
       "<div>\n",
       "<style scoped>\n",
       "    .dataframe tbody tr th:only-of-type {\n",
       "        vertical-align: middle;\n",
       "    }\n",
       "\n",
       "    .dataframe tbody tr th {\n",
       "        vertical-align: top;\n",
       "    }\n",
       "\n",
       "    .dataframe thead th {\n",
       "        text-align: right;\n",
       "    }\n",
       "</style>\n",
       "<table border=\"1\" class=\"dataframe\">\n",
       "  <thead>\n",
       "    <tr style=\"text-align: right;\">\n",
       "      <th></th>\n",
       "      <th>LA_code</th>\n",
       "      <th>LA</th>\n",
       "      <th>year</th>\n",
       "      <th>AR</th>\n",
       "    </tr>\n",
       "  </thead>\n",
       "  <tbody>\n",
       "    <tr>\n",
       "      <th>0</th>\n",
       "      <td>E07000157</td>\n",
       "      <td>Alnwick</td>\n",
       "      <td>1992</td>\n",
       "      <td>45.0</td>\n",
       "    </tr>\n",
       "    <tr>\n",
       "      <th>1</th>\n",
       "      <td>E07000158</td>\n",
       "      <td>Berwick-upon-Tweed</td>\n",
       "      <td>1992</td>\n",
       "      <td>5.0</td>\n",
       "    </tr>\n",
       "    <tr>\n",
       "      <th>2</th>\n",
       "      <td>E07000159</td>\n",
       "      <td>Blyth Valley</td>\n",
       "      <td>1992</td>\n",
       "      <td>21.0</td>\n",
       "    </tr>\n",
       "    <tr>\n",
       "      <th>3</th>\n",
       "      <td>E07000160</td>\n",
       "      <td>Castle Morpeth</td>\n",
       "      <td>1992</td>\n",
       "      <td>8.0</td>\n",
       "    </tr>\n",
       "    <tr>\n",
       "      <th>4</th>\n",
       "      <td>E07000054</td>\n",
       "      <td>Chester-le-Street</td>\n",
       "      <td>1992</td>\n",
       "      <td>16.0</td>\n",
       "    </tr>\n",
       "  </tbody>\n",
       "</table>\n",
       "</div>"
      ],
      "text/plain": [
       "     LA_code                  LA  year    AR\n",
       "0  E07000157             Alnwick  1992  45.0\n",
       "1  E07000158  Berwick-upon-Tweed  1992   5.0\n",
       "2  E07000159        Blyth Valley  1992  21.0\n",
       "3  E07000160      Castle Morpeth  1992   8.0\n",
       "4  E07000054   Chester-le-Street  1992  16.0"
      ]
     },
     "execution_count": 49,
     "metadata": {},
     "output_type": "execute_result"
    }
   ],
   "source": [
    "df2 = pd.read_excel('Total Affordable Rent Dwellings by LA, 1992-2021.xlsx')\n",
    "df2.drop(columns='Unnamed: 0', inplace=True)\n",
    "df2.rename(columns={'new_dwellings':'AR'}, inplace=True)\n",
    "print(df2.shape)\n",
    "df2.head()"
   ]
  },
  {
   "cell_type": "markdown",
   "metadata": {},
   "source": [
    "Total number of dwellings completed by Local Authority, 1980-2021"
   ]
  },
  {
   "cell_type": "code",
   "execution_count": 51,
   "metadata": {},
   "outputs": [],
   "source": [
    "df3 = pd.read_excel('Net Dwellings by LA, 2001-2021.xlsx')\n",
    "df3.drop(columns='Unnamed: 0',inplace=True)\n",
    "df3.rename(columns={'net dwellings':'DC_Total'},inplace=True)"
   ]
  },
  {
   "cell_type": "code",
   "execution_count": 52,
   "metadata": {},
   "outputs": [
    {
     "data": {
      "text/html": [
       "<div>\n",
       "<style scoped>\n",
       "    .dataframe tbody tr th:only-of-type {\n",
       "        vertical-align: middle;\n",
       "    }\n",
       "\n",
       "    .dataframe tbody tr th {\n",
       "        vertical-align: top;\n",
       "    }\n",
       "\n",
       "    .dataframe thead th {\n",
       "        text-align: right;\n",
       "    }\n",
       "</style>\n",
       "<table border=\"1\" class=\"dataframe\">\n",
       "  <thead>\n",
       "    <tr style=\"text-align: right;\">\n",
       "      <th></th>\n",
       "      <th>LA_code</th>\n",
       "      <th>LA</th>\n",
       "      <th>year</th>\n",
       "      <th>DC_Total</th>\n",
       "      <th>date</th>\n",
       "    </tr>\n",
       "  </thead>\n",
       "  <tbody>\n",
       "    <tr>\n",
       "      <th>117</th>\n",
       "      <td>E08000026</td>\n",
       "      <td>Coventry</td>\n",
       "      <td>2002</td>\n",
       "      <td>566</td>\n",
       "      <td>2002-01-01</td>\n",
       "    </tr>\n",
       "    <tr>\n",
       "      <th>487</th>\n",
       "      <td>E08000026</td>\n",
       "      <td>Coventry</td>\n",
       "      <td>2003</td>\n",
       "      <td>624</td>\n",
       "      <td>2003-01-01</td>\n",
       "    </tr>\n",
       "    <tr>\n",
       "      <th>857</th>\n",
       "      <td>E08000026</td>\n",
       "      <td>Coventry</td>\n",
       "      <td>2004</td>\n",
       "      <td>-8</td>\n",
       "      <td>2004-01-01</td>\n",
       "    </tr>\n",
       "    <tr>\n",
       "      <th>1227</th>\n",
       "      <td>E08000026</td>\n",
       "      <td>Coventry</td>\n",
       "      <td>2005</td>\n",
       "      <td>308</td>\n",
       "      <td>2005-01-01</td>\n",
       "    </tr>\n",
       "    <tr>\n",
       "      <th>1597</th>\n",
       "      <td>E08000026</td>\n",
       "      <td>Coventry</td>\n",
       "      <td>2006</td>\n",
       "      <td>631</td>\n",
       "      <td>2006-01-01</td>\n",
       "    </tr>\n",
       "    <tr>\n",
       "      <th>1967</th>\n",
       "      <td>E08000026</td>\n",
       "      <td>Coventry</td>\n",
       "      <td>2007</td>\n",
       "      <td>918</td>\n",
       "      <td>2007-01-01</td>\n",
       "    </tr>\n",
       "    <tr>\n",
       "      <th>2337</th>\n",
       "      <td>E08000026</td>\n",
       "      <td>Coventry</td>\n",
       "      <td>2008</td>\n",
       "      <td>1133</td>\n",
       "      <td>2008-01-01</td>\n",
       "    </tr>\n",
       "    <tr>\n",
       "      <th>2707</th>\n",
       "      <td>E08000026</td>\n",
       "      <td>Coventry</td>\n",
       "      <td>2009</td>\n",
       "      <td>710</td>\n",
       "      <td>2009-01-01</td>\n",
       "    </tr>\n",
       "    <tr>\n",
       "      <th>3077</th>\n",
       "      <td>E08000026</td>\n",
       "      <td>Coventry</td>\n",
       "      <td>2010</td>\n",
       "      <td>794</td>\n",
       "      <td>2010-01-01</td>\n",
       "    </tr>\n",
       "    <tr>\n",
       "      <th>3447</th>\n",
       "      <td>E08000026</td>\n",
       "      <td>Coventry</td>\n",
       "      <td>2011</td>\n",
       "      <td>759</td>\n",
       "      <td>2011-01-01</td>\n",
       "    </tr>\n",
       "    <tr>\n",
       "      <th>3817</th>\n",
       "      <td>E08000026</td>\n",
       "      <td>Coventry</td>\n",
       "      <td>2012</td>\n",
       "      <td>912</td>\n",
       "      <td>2012-01-01</td>\n",
       "    </tr>\n",
       "    <tr>\n",
       "      <th>4187</th>\n",
       "      <td>E08000026</td>\n",
       "      <td>Coventry</td>\n",
       "      <td>2013</td>\n",
       "      <td>979</td>\n",
       "      <td>2013-01-01</td>\n",
       "    </tr>\n",
       "    <tr>\n",
       "      <th>4557</th>\n",
       "      <td>E08000026</td>\n",
       "      <td>Coventry</td>\n",
       "      <td>2014</td>\n",
       "      <td>1089</td>\n",
       "      <td>2014-01-01</td>\n",
       "    </tr>\n",
       "    <tr>\n",
       "      <th>4927</th>\n",
       "      <td>E08000026</td>\n",
       "      <td>Coventry</td>\n",
       "      <td>2015</td>\n",
       "      <td>1109</td>\n",
       "      <td>2015-01-01</td>\n",
       "    </tr>\n",
       "    <tr>\n",
       "      <th>5297</th>\n",
       "      <td>E08000026</td>\n",
       "      <td>Coventry</td>\n",
       "      <td>2016</td>\n",
       "      <td>1406</td>\n",
       "      <td>2016-01-01</td>\n",
       "    </tr>\n",
       "    <tr>\n",
       "      <th>5667</th>\n",
       "      <td>E08000026</td>\n",
       "      <td>Coventry</td>\n",
       "      <td>2017</td>\n",
       "      <td>1129</td>\n",
       "      <td>2017-01-01</td>\n",
       "    </tr>\n",
       "    <tr>\n",
       "      <th>6037</th>\n",
       "      <td>E08000026</td>\n",
       "      <td>Coventry</td>\n",
       "      <td>2018</td>\n",
       "      <td>1095</td>\n",
       "      <td>2018-01-01</td>\n",
       "    </tr>\n",
       "    <tr>\n",
       "      <th>6407</th>\n",
       "      <td>E08000026</td>\n",
       "      <td>Coventry</td>\n",
       "      <td>2019</td>\n",
       "      <td>1499</td>\n",
       "      <td>2019-01-01</td>\n",
       "    </tr>\n",
       "    <tr>\n",
       "      <th>6777</th>\n",
       "      <td>E08000026</td>\n",
       "      <td>Coventry</td>\n",
       "      <td>2020</td>\n",
       "      <td>2241</td>\n",
       "      <td>2020-01-01</td>\n",
       "    </tr>\n",
       "    <tr>\n",
       "      <th>7147</th>\n",
       "      <td>E08000026</td>\n",
       "      <td>Coventry</td>\n",
       "      <td>2021</td>\n",
       "      <td>589</td>\n",
       "      <td>2021-01-01</td>\n",
       "    </tr>\n",
       "  </tbody>\n",
       "</table>\n",
       "</div>"
      ],
      "text/plain": [
       "        LA_code        LA  year DC_Total       date\n",
       "117   E08000026  Coventry  2002      566 2002-01-01\n",
       "487   E08000026  Coventry  2003      624 2003-01-01\n",
       "857   E08000026  Coventry  2004       -8 2004-01-01\n",
       "1227  E08000026  Coventry  2005      308 2005-01-01\n",
       "1597  E08000026  Coventry  2006      631 2006-01-01\n",
       "1967  E08000026  Coventry  2007      918 2007-01-01\n",
       "2337  E08000026  Coventry  2008     1133 2008-01-01\n",
       "2707  E08000026  Coventry  2009      710 2009-01-01\n",
       "3077  E08000026  Coventry  2010      794 2010-01-01\n",
       "3447  E08000026  Coventry  2011      759 2011-01-01\n",
       "3817  E08000026  Coventry  2012      912 2012-01-01\n",
       "4187  E08000026  Coventry  2013      979 2013-01-01\n",
       "4557  E08000026  Coventry  2014     1089 2014-01-01\n",
       "4927  E08000026  Coventry  2015     1109 2015-01-01\n",
       "5297  E08000026  Coventry  2016     1406 2016-01-01\n",
       "5667  E08000026  Coventry  2017     1129 2017-01-01\n",
       "6037  E08000026  Coventry  2018     1095 2018-01-01\n",
       "6407  E08000026  Coventry  2019     1499 2019-01-01\n",
       "6777  E08000026  Coventry  2020     2241 2020-01-01\n",
       "7147  E08000026  Coventry  2021      589 2021-01-01"
      ]
     },
     "execution_count": 52,
     "metadata": {},
     "output_type": "execute_result"
    }
   ],
   "source": [
    "df3[df3.loc[:,'LA']=='Coventry']"
   ]
  },
  {
   "cell_type": "markdown",
   "metadata": {},
   "source": [
    "Importing data for median house price in UK by Local Authority, 1995-2021"
   ]
  },
  {
   "cell_type": "code",
   "execution_count": 53,
   "metadata": {},
   "outputs": [],
   "source": [
    "df4 = pd.read_excel('Median House Prices by LA 1995-2021, Quarterly, Long.xlsx')\n"
   ]
  },
  {
   "cell_type": "code",
   "execution_count": 54,
   "metadata": {},
   "outputs": [],
   "source": [
    "df4['quarter'] = df4['quarter'].map(lambda x: ''.join(x.split()))"
   ]
  },
  {
   "cell_type": "code",
   "execution_count": 55,
   "metadata": {},
   "outputs": [],
   "source": [
    "df4 = df4.loc[df4.quarter!='...109',:]"
   ]
  },
  {
   "cell_type": "code",
   "execution_count": 56,
   "metadata": {},
   "outputs": [],
   "source": [
    "df4['date'] = pd.to_datetime(df4['quarter'],format='%b%Y')"
   ]
  },
  {
   "cell_type": "markdown",
   "metadata": {},
   "source": [
    "Merging all datasets into one"
   ]
  },
  {
   "cell_type": "code",
   "execution_count": 57,
   "metadata": {},
   "outputs": [],
   "source": [
    "df = pd.merge(df1,df2,on=['LA_code','LA','year'])\n",
    "df = pd.merge(df,df3,on=['LA_code','LA','year'])\n",
    "df.loc[:,'date'] = pd.to_datetime(df.loc[:,'year'].astype(str),format='%Y')\n",
    "df.loc[df.DC_Total=='..','DC_Total'] = np.nan\n",
    "df.loc[:,'DC_Total'] = df.loc[:,'DC_Total'].astype(float)"
   ]
  },
  {
   "cell_type": "code",
   "execution_count": 58,
   "metadata": {},
   "outputs": [
    {
     "data": {
      "text/html": [
       "<div>\n",
       "<style scoped>\n",
       "    .dataframe tbody tr th:only-of-type {\n",
       "        vertical-align: middle;\n",
       "    }\n",
       "\n",
       "    .dataframe tbody tr th {\n",
       "        vertical-align: top;\n",
       "    }\n",
       "\n",
       "    .dataframe thead th {\n",
       "        text-align: right;\n",
       "    }\n",
       "</style>\n",
       "<table border=\"1\" class=\"dataframe\">\n",
       "  <thead>\n",
       "    <tr style=\"text-align: right;\">\n",
       "      <th></th>\n",
       "      <th>LA_code</th>\n",
       "      <th>LA</th>\n",
       "      <th>year</th>\n",
       "      <th>SR</th>\n",
       "      <th>AR</th>\n",
       "      <th>DC_Total</th>\n",
       "      <th>date</th>\n",
       "    </tr>\n",
       "  </thead>\n",
       "  <tbody>\n",
       "    <tr>\n",
       "      <th>0</th>\n",
       "      <td>E07000157</td>\n",
       "      <td>Alnwick</td>\n",
       "      <td>2002</td>\n",
       "      <td>22.0</td>\n",
       "      <td>22.0</td>\n",
       "      <td>117.494232</td>\n",
       "      <td>2002-01-01</td>\n",
       "    </tr>\n",
       "    <tr>\n",
       "      <th>1</th>\n",
       "      <td>E07000158</td>\n",
       "      <td>Berwick-upon-Tweed</td>\n",
       "      <td>2002</td>\n",
       "      <td>5.0</td>\n",
       "      <td>5.0</td>\n",
       "      <td>61.992821</td>\n",
       "      <td>2002-01-01</td>\n",
       "    </tr>\n",
       "    <tr>\n",
       "      <th>2</th>\n",
       "      <td>E07000159</td>\n",
       "      <td>Blyth Valley</td>\n",
       "      <td>2002</td>\n",
       "      <td>0.0</td>\n",
       "      <td>0.0</td>\n",
       "      <td>242.695102</td>\n",
       "      <td>2002-01-01</td>\n",
       "    </tr>\n",
       "    <tr>\n",
       "      <th>3</th>\n",
       "      <td>E07000160</td>\n",
       "      <td>Castle Morpeth</td>\n",
       "      <td>2002</td>\n",
       "      <td>6.0</td>\n",
       "      <td>6.0</td>\n",
       "      <td>163.044925</td>\n",
       "      <td>2002-01-01</td>\n",
       "    </tr>\n",
       "    <tr>\n",
       "      <th>4</th>\n",
       "      <td>E07000054</td>\n",
       "      <td>Chester-le-Street</td>\n",
       "      <td>2002</td>\n",
       "      <td>0.0</td>\n",
       "      <td>12.0</td>\n",
       "      <td>163.789940</td>\n",
       "      <td>2002-01-01</td>\n",
       "    </tr>\n",
       "  </tbody>\n",
       "</table>\n",
       "</div>"
      ],
      "text/plain": [
       "     LA_code                  LA  year    SR    AR    DC_Total       date\n",
       "0  E07000157             Alnwick  2002  22.0  22.0  117.494232 2002-01-01\n",
       "1  E07000158  Berwick-upon-Tweed  2002   5.0   5.0   61.992821 2002-01-01\n",
       "2  E07000159        Blyth Valley  2002   0.0   0.0  242.695102 2002-01-01\n",
       "3  E07000160      Castle Morpeth  2002   6.0   6.0  163.044925 2002-01-01\n",
       "4  E07000054   Chester-le-Street  2002   0.0  12.0  163.789940 2002-01-01"
      ]
     },
     "execution_count": 58,
     "metadata": {},
     "output_type": "execute_result"
    }
   ],
   "source": [
    "df.head()"
   ]
  },
  {
   "cell_type": "code",
   "execution_count": 59,
   "metadata": {},
   "outputs": [
    {
     "data": {
      "text/plain": [
       "(6180, 7)"
      ]
     },
     "execution_count": 59,
     "metadata": {},
     "output_type": "execute_result"
    }
   ],
   "source": [
    "df.shape"
   ]
  },
  {
   "cell_type": "markdown",
   "metadata": {},
   "source": [
    "Extracting data for Coventry alone"
   ]
  },
  {
   "cell_type": "code",
   "execution_count": 60,
   "metadata": {},
   "outputs": [
    {
     "data": {
      "text/html": [
       "<div>\n",
       "<style scoped>\n",
       "    .dataframe tbody tr th:only-of-type {\n",
       "        vertical-align: middle;\n",
       "    }\n",
       "\n",
       "    .dataframe tbody tr th {\n",
       "        vertical-align: top;\n",
       "    }\n",
       "\n",
       "    .dataframe thead th {\n",
       "        text-align: right;\n",
       "    }\n",
       "</style>\n",
       "<table border=\"1\" class=\"dataframe\">\n",
       "  <thead>\n",
       "    <tr style=\"text-align: right;\">\n",
       "      <th></th>\n",
       "      <th>LA_code</th>\n",
       "      <th>LA</th>\n",
       "      <th>year</th>\n",
       "      <th>SR</th>\n",
       "      <th>AR</th>\n",
       "      <th>DC_Total</th>\n",
       "      <th>date</th>\n",
       "    </tr>\n",
       "  </thead>\n",
       "  <tbody>\n",
       "    <tr>\n",
       "      <th>113</th>\n",
       "      <td>E08000026</td>\n",
       "      <td>Coventry</td>\n",
       "      <td>2002</td>\n",
       "      <td>76.0</td>\n",
       "      <td>140.0</td>\n",
       "      <td>566.0</td>\n",
       "      <td>2002-01-01</td>\n",
       "    </tr>\n",
       "    <tr>\n",
       "      <th>422</th>\n",
       "      <td>E08000026</td>\n",
       "      <td>Coventry</td>\n",
       "      <td>2003</td>\n",
       "      <td>218.0</td>\n",
       "      <td>320.0</td>\n",
       "      <td>624.0</td>\n",
       "      <td>2003-01-01</td>\n",
       "    </tr>\n",
       "    <tr>\n",
       "      <th>731</th>\n",
       "      <td>E08000026</td>\n",
       "      <td>Coventry</td>\n",
       "      <td>2004</td>\n",
       "      <td>98.0</td>\n",
       "      <td>111.0</td>\n",
       "      <td>-8.0</td>\n",
       "      <td>2004-01-01</td>\n",
       "    </tr>\n",
       "    <tr>\n",
       "      <th>1040</th>\n",
       "      <td>E08000026</td>\n",
       "      <td>Coventry</td>\n",
       "      <td>2005</td>\n",
       "      <td>131.0</td>\n",
       "      <td>174.0</td>\n",
       "      <td>308.0</td>\n",
       "      <td>2005-01-01</td>\n",
       "    </tr>\n",
       "    <tr>\n",
       "      <th>1349</th>\n",
       "      <td>E08000026</td>\n",
       "      <td>Coventry</td>\n",
       "      <td>2006</td>\n",
       "      <td>122.0</td>\n",
       "      <td>172.0</td>\n",
       "      <td>631.0</td>\n",
       "      <td>2006-01-01</td>\n",
       "    </tr>\n",
       "  </tbody>\n",
       "</table>\n",
       "</div>"
      ],
      "text/plain": [
       "        LA_code        LA  year     SR     AR  DC_Total       date\n",
       "113   E08000026  Coventry  2002   76.0  140.0     566.0 2002-01-01\n",
       "422   E08000026  Coventry  2003  218.0  320.0     624.0 2003-01-01\n",
       "731   E08000026  Coventry  2004   98.0  111.0      -8.0 2004-01-01\n",
       "1040  E08000026  Coventry  2005  131.0  174.0     308.0 2005-01-01\n",
       "1349  E08000026  Coventry  2006  122.0  172.0     631.0 2006-01-01"
      ]
     },
     "execution_count": 60,
     "metadata": {},
     "output_type": "execute_result"
    }
   ],
   "source": [
    "dcov = df[df.loc[:,'LA']=='Coventry'].copy()\n",
    "dcov.head()"
   ]
  },
  {
   "cell_type": "code",
   "execution_count": 61,
   "metadata": {},
   "outputs": [],
   "source": [
    "dcov.reset_index(drop=True,inplace=True)"
   ]
  },
  {
   "cell_type": "markdown",
   "metadata": {},
   "source": [
    "Adding columns for socially rented homes as a percentage of total affordable homes and afforable homes as a percentage of total dwellings"
   ]
  },
  {
   "cell_type": "code",
   "execution_count": 75,
   "metadata": {},
   "outputs": [],
   "source": [
    "dcov['SR_p'] = (dcov['SR']/dcov['AR'])*100\n",
    "dcov['AR_p'] = (dcov['AR']/dcov['DC_Total'])*100\n",
    "dcov.loc[2,'AR_p'] = 0\n",
    "dcov.loc[2,'SR_p'] = 0"
   ]
  },
  {
   "cell_type": "markdown",
   "metadata": {},
   "source": [
    "Importing data for population estimates"
   ]
  },
  {
   "cell_type": "code",
   "execution_count": 64,
   "metadata": {},
   "outputs": [
    {
     "data": {
      "text/html": [
       "<div>\n",
       "<style scoped>\n",
       "    .dataframe tbody tr th:only-of-type {\n",
       "        vertical-align: middle;\n",
       "    }\n",
       "\n",
       "    .dataframe tbody tr th {\n",
       "        vertical-align: top;\n",
       "    }\n",
       "\n",
       "    .dataframe thead th {\n",
       "        text-align: right;\n",
       "    }\n",
       "</style>\n",
       "<table border=\"1\" class=\"dataframe\">\n",
       "  <thead>\n",
       "    <tr style=\"text-align: right;\">\n",
       "      <th></th>\n",
       "      <th>LA_code</th>\n",
       "      <th>LA</th>\n",
       "      <th>year</th>\n",
       "      <th>population</th>\n",
       "      <th>date</th>\n",
       "    </tr>\n",
       "  </thead>\n",
       "  <tbody>\n",
       "    <tr>\n",
       "      <th>0</th>\n",
       "      <td>E06000001</td>\n",
       "      <td>Hartlepool</td>\n",
       "      <td>2001</td>\n",
       "      <td>90152</td>\n",
       "      <td>2001-01-01</td>\n",
       "    </tr>\n",
       "    <tr>\n",
       "      <th>1</th>\n",
       "      <td>E06000002</td>\n",
       "      <td>Middlesbrough</td>\n",
       "      <td>2001</td>\n",
       "      <td>141233</td>\n",
       "      <td>2001-01-01</td>\n",
       "    </tr>\n",
       "    <tr>\n",
       "      <th>2</th>\n",
       "      <td>E06000003</td>\n",
       "      <td>Redcar and Cleveland</td>\n",
       "      <td>2001</td>\n",
       "      <td>139159</td>\n",
       "      <td>2001-01-01</td>\n",
       "    </tr>\n",
       "    <tr>\n",
       "      <th>3</th>\n",
       "      <td>E06000004</td>\n",
       "      <td>Stockton-on-Tees</td>\n",
       "      <td>2001</td>\n",
       "      <td>183795</td>\n",
       "      <td>2001-01-01</td>\n",
       "    </tr>\n",
       "    <tr>\n",
       "      <th>4</th>\n",
       "      <td>E06000005</td>\n",
       "      <td>Darlington</td>\n",
       "      <td>2001</td>\n",
       "      <td>97894</td>\n",
       "      <td>2001-01-01</td>\n",
       "    </tr>\n",
       "  </tbody>\n",
       "</table>\n",
       "</div>"
      ],
      "text/plain": [
       "     LA_code                    LA  year  population       date\n",
       "0  E06000001            Hartlepool  2001       90152 2001-01-01\n",
       "1  E06000002         Middlesbrough  2001      141233 2001-01-01\n",
       "2  E06000003  Redcar and Cleveland  2001      139159 2001-01-01\n",
       "3  E06000004      Stockton-on-Tees  2001      183795 2001-01-01\n",
       "4  E06000005            Darlington  2001       97894 2001-01-01"
      ]
     },
     "execution_count": 64,
     "metadata": {},
     "output_type": "execute_result"
    }
   ],
   "source": [
    "dpop = pd.read_excel('Population by LA, 2001-2020.xlsx')\n",
    "dpop.drop(columns=['Unnamed: 0'],inplace=True)\n",
    "dpop.head()"
   ]
  },
  {
   "cell_type": "markdown",
   "metadata": {},
   "source": [
    "Extracting population data for coventry alone"
   ]
  },
  {
   "cell_type": "code",
   "execution_count": 65,
   "metadata": {},
   "outputs": [
    {
     "data": {
      "text/html": [
       "<div>\n",
       "<style scoped>\n",
       "    .dataframe tbody tr th:only-of-type {\n",
       "        vertical-align: middle;\n",
       "    }\n",
       "\n",
       "    .dataframe tbody tr th {\n",
       "        vertical-align: top;\n",
       "    }\n",
       "\n",
       "    .dataframe thead th {\n",
       "        text-align: right;\n",
       "    }\n",
       "</style>\n",
       "<table border=\"1\" class=\"dataframe\">\n",
       "  <thead>\n",
       "    <tr style=\"text-align: right;\">\n",
       "      <th></th>\n",
       "      <th>LA_code</th>\n",
       "      <th>LA</th>\n",
       "      <th>year</th>\n",
       "      <th>population</th>\n",
       "      <th>date</th>\n",
       "    </tr>\n",
       "  </thead>\n",
       "  <tbody>\n",
       "    <tr>\n",
       "      <th>0</th>\n",
       "      <td>E08000026</td>\n",
       "      <td>Coventry</td>\n",
       "      <td>2001</td>\n",
       "      <td>302804</td>\n",
       "      <td>2001-01-01</td>\n",
       "    </tr>\n",
       "    <tr>\n",
       "      <th>1</th>\n",
       "      <td>E08000026</td>\n",
       "      <td>Coventry</td>\n",
       "      <td>2002</td>\n",
       "      <td>301295</td>\n",
       "      <td>2002-01-01</td>\n",
       "    </tr>\n",
       "    <tr>\n",
       "      <th>2</th>\n",
       "      <td>E08000026</td>\n",
       "      <td>Coventry</td>\n",
       "      <td>2003</td>\n",
       "      <td>300665</td>\n",
       "      <td>2003-01-01</td>\n",
       "    </tr>\n",
       "    <tr>\n",
       "      <th>3</th>\n",
       "      <td>E08000026</td>\n",
       "      <td>Coventry</td>\n",
       "      <td>2004</td>\n",
       "      <td>298174</td>\n",
       "      <td>2004-01-01</td>\n",
       "    </tr>\n",
       "    <tr>\n",
       "      <th>4</th>\n",
       "      <td>E08000026</td>\n",
       "      <td>Coventry</td>\n",
       "      <td>2005</td>\n",
       "      <td>298386</td>\n",
       "      <td>2005-01-01</td>\n",
       "    </tr>\n",
       "  </tbody>\n",
       "</table>\n",
       "</div>"
      ],
      "text/plain": [
       "     LA_code        LA  year  population       date\n",
       "0  E08000026  Coventry  2001      302804 2001-01-01\n",
       "1  E08000026  Coventry  2002      301295 2002-01-01\n",
       "2  E08000026  Coventry  2003      300665 2003-01-01\n",
       "3  E08000026  Coventry  2004      298174 2004-01-01\n",
       "4  E08000026  Coventry  2005      298386 2005-01-01"
      ]
     },
     "execution_count": 65,
     "metadata": {},
     "output_type": "execute_result"
    }
   ],
   "source": [
    "dcov_pop = dpop[dpop.loc[:,'LA']=='Coventry'].copy()\n",
    "dcov_pop.reset_index(drop=True,inplace=True)\n",
    "dcov_pop.head()"
   ]
  },
  {
   "cell_type": "markdown",
   "metadata": {},
   "source": [
    "Calculating population change per year\n"
   ]
  },
  {
   "cell_type": "code",
   "execution_count": 66,
   "metadata": {},
   "outputs": [
    {
     "data": {
      "text/html": [
       "<div>\n",
       "<style scoped>\n",
       "    .dataframe tbody tr th:only-of-type {\n",
       "        vertical-align: middle;\n",
       "    }\n",
       "\n",
       "    .dataframe tbody tr th {\n",
       "        vertical-align: top;\n",
       "    }\n",
       "\n",
       "    .dataframe thead th {\n",
       "        text-align: right;\n",
       "    }\n",
       "</style>\n",
       "<table border=\"1\" class=\"dataframe\">\n",
       "  <thead>\n",
       "    <tr style=\"text-align: right;\">\n",
       "      <th></th>\n",
       "      <th>LA_code</th>\n",
       "      <th>LA</th>\n",
       "      <th>year</th>\n",
       "      <th>population</th>\n",
       "      <th>date</th>\n",
       "      <th>pchange</th>\n",
       "    </tr>\n",
       "  </thead>\n",
       "  <tbody>\n",
       "    <tr>\n",
       "      <th>0</th>\n",
       "      <td>E08000026</td>\n",
       "      <td>Coventry</td>\n",
       "      <td>2001</td>\n",
       "      <td>302804</td>\n",
       "      <td>2001-01-01</td>\n",
       "      <td>NaN</td>\n",
       "    </tr>\n",
       "    <tr>\n",
       "      <th>1</th>\n",
       "      <td>E08000026</td>\n",
       "      <td>Coventry</td>\n",
       "      <td>2002</td>\n",
       "      <td>301295</td>\n",
       "      <td>2002-01-01</td>\n",
       "      <td>-1509.0</td>\n",
       "    </tr>\n",
       "    <tr>\n",
       "      <th>2</th>\n",
       "      <td>E08000026</td>\n",
       "      <td>Coventry</td>\n",
       "      <td>2003</td>\n",
       "      <td>300665</td>\n",
       "      <td>2003-01-01</td>\n",
       "      <td>-630.0</td>\n",
       "    </tr>\n",
       "    <tr>\n",
       "      <th>3</th>\n",
       "      <td>E08000026</td>\n",
       "      <td>Coventry</td>\n",
       "      <td>2004</td>\n",
       "      <td>298174</td>\n",
       "      <td>2004-01-01</td>\n",
       "      <td>-2491.0</td>\n",
       "    </tr>\n",
       "    <tr>\n",
       "      <th>4</th>\n",
       "      <td>E08000026</td>\n",
       "      <td>Coventry</td>\n",
       "      <td>2005</td>\n",
       "      <td>298386</td>\n",
       "      <td>2005-01-01</td>\n",
       "      <td>212.0</td>\n",
       "    </tr>\n",
       "  </tbody>\n",
       "</table>\n",
       "</div>"
      ],
      "text/plain": [
       "     LA_code        LA  year  population       date  pchange\n",
       "0  E08000026  Coventry  2001      302804 2001-01-01      NaN\n",
       "1  E08000026  Coventry  2002      301295 2002-01-01  -1509.0\n",
       "2  E08000026  Coventry  2003      300665 2003-01-01   -630.0\n",
       "3  E08000026  Coventry  2004      298174 2004-01-01  -2491.0\n",
       "4  E08000026  Coventry  2005      298386 2005-01-01    212.0"
      ]
     },
     "execution_count": 66,
     "metadata": {},
     "output_type": "execute_result"
    }
   ],
   "source": [
    "for x in dcov_pop.index[1:]:\n",
    "    dcov_pop.loc[x,'pchange'] = dcov_pop.loc[x,'population'] - dcov_pop.loc[x-1,'population']\n",
    "\n",
    "dcov_pop.head()"
   ]
  },
  {
   "cell_type": "markdown",
   "metadata": {},
   "source": [
    "# Visualisation"
   ]
  },
  {
   "cell_type": "markdown",
   "metadata": {},
   "source": [
    "Plotting socially rented and affordable dwellings against total housing in Coventry, red line denotes housing need as assessed in Local Plan 2017 Housing SPD."
   ]
  },
  {
   "cell_type": "code",
   "execution_count": 67,
   "metadata": {},
   "outputs": [],
   "source": [
    "dt = df[['LA_code','LA','SR','AR','DC_Total','date']].groupby(['date']).mean()\n",
    "# what about missing values?"
   ]
  },
  {
   "cell_type": "markdown",
   "metadata": {},
   "source": [
    "Getting total affordable homes as a percentage of all dwellings for all LAs"
   ]
  },
  {
   "cell_type": "code",
   "execution_count": 72,
   "metadata": {},
   "outputs": [],
   "source": [
    "dt['AR_p'] = dt['AR']/dt['DC_Total']*100"
   ]
  },
  {
   "cell_type": "markdown",
   "metadata": {},
   "source": [
    "Comparing Coventry's provision of affordable housing to rest of UK"
   ]
  },
  {
   "cell_type": "code",
   "execution_count": 76,
   "metadata": {},
   "outputs": [],
   "source": [
    "x = dt.index\n",
    "y1 = dt['SR']\n",
    "y2 = dt['AR_p']\n",
    "y3 = dcov['SR']\n",
    "y4 = dcov['AR_p']"
   ]
  },
  {
   "cell_type": "code",
   "execution_count": 77,
   "metadata": {},
   "outputs": [
    {
     "data": {
      "text/plain": [
       "Text(0.5, 1.0, 'Coventry Affordable Home Delivery v. National Average')"
      ]
     },
     "execution_count": 77,
     "metadata": {},
     "output_type": "execute_result"
    },
    {
     "data": {
      "image/png": "[encoded data removed]",
      "text/plain": [
       "<Figure size 432x288 with 1 Axes>"
      ]
     },
     "metadata": {
      "needs_background": "light"
     },
     "output_type": "display_data"
    }
   ],
   "source": [
    "#plt.plot(x,y1)\n",
    "plt.plot(x,y2)\n",
    "#plt.plot(x,y3)\n",
    "plt.plot(x,y4)\n",
    "plt.legend(['Average Affordable Homes UK','Coventry Affordable Homes'])\n",
    "plt.xlabel('year')\n",
    "plt.ylabel('Dwellings Completed')\n",
    "plt.title('Coventry Affordable Home Delivery v. National Average')\n"
   ]
  },
  {
   "cell_type": "markdown",
   "metadata": {},
   "source": [
    "Coventry is above the mean for affordable house delivery, but does not follow the recent trend of increasing affordable homes delivery."
   ]
  },
  {
   "cell_type": "markdown",
   "metadata": {},
   "source": [
    "Looking at relationship between house prices and housing supply. We compare changes in the median house price in Coventry with annual delivery of homes"
   ]
  },
  {
   "cell_type": "code",
   "execution_count": 78,
   "metadata": {},
   "outputs": [],
   "source": [
    "dcov4 = df4[df4.loc[:,'LA']=='Coventry'].copy()\n",
    "dcov4.reset_index(drop=True,inplace=True)\n",
    "dcov4['year'] = dcov4['date'].dt.year"
   ]
  },
  {
   "cell_type": "code",
   "execution_count": 79,
   "metadata": {},
   "outputs": [],
   "source": [
    "for x in dcov4.index[1:]:\n",
    "    dcov4.loc[x,'price_change'] = dcov4.loc[x,'median'] - dcov4.loc[x-1,'median']"
   ]
  },
  {
   "cell_type": "markdown",
   "metadata": {},
   "source": [
    "Lagged price change by 4 quarters"
   ]
  },
  {
   "cell_type": "code",
   "execution_count": 80,
   "metadata": {},
   "outputs": [],
   "source": [
    "for x in dcov4.index[4:]:\n",
    "    dcov4.loc[x,'price_change_4'] = dcov4.loc[x-4,'price_change']"
   ]
  },
  {
   "cell_type": "code",
   "execution_count": 81,
   "metadata": {},
   "outputs": [
    {
     "data": {
      "text/html": [
       "<div>\n",
       "<style scoped>\n",
       "    .dataframe tbody tr th:only-of-type {\n",
       "        vertical-align: middle;\n",
       "    }\n",
       "\n",
       "    .dataframe tbody tr th {\n",
       "        vertical-align: top;\n",
       "    }\n",
       "\n",
       "    .dataframe thead th {\n",
       "        text-align: right;\n",
       "    }\n",
       "</style>\n",
       "<table border=\"1\" class=\"dataframe\">\n",
       "  <thead>\n",
       "    <tr style=\"text-align: right;\">\n",
       "      <th></th>\n",
       "      <th>LA_code</th>\n",
       "      <th>LA</th>\n",
       "      <th>quarter</th>\n",
       "      <th>median</th>\n",
       "      <th>date</th>\n",
       "      <th>year</th>\n",
       "      <th>price_change</th>\n",
       "      <th>price_change_4</th>\n",
       "    </tr>\n",
       "  </thead>\n",
       "  <tbody>\n",
       "    <tr>\n",
       "      <th>0</th>\n",
       "      <td>E08000026</td>\n",
       "      <td>Coventry</td>\n",
       "      <td>Dec1995</td>\n",
       "      <td>42000.0</td>\n",
       "      <td>1995-12-01</td>\n",
       "      <td>1995</td>\n",
       "      <td>NaN</td>\n",
       "      <td>NaN</td>\n",
       "    </tr>\n",
       "    <tr>\n",
       "      <th>1</th>\n",
       "      <td>E08000026</td>\n",
       "      <td>Coventry</td>\n",
       "      <td>Mar1996</td>\n",
       "      <td>41500.0</td>\n",
       "      <td>1996-03-01</td>\n",
       "      <td>1996</td>\n",
       "      <td>-500.0</td>\n",
       "      <td>NaN</td>\n",
       "    </tr>\n",
       "    <tr>\n",
       "      <th>2</th>\n",
       "      <td>E08000026</td>\n",
       "      <td>Coventry</td>\n",
       "      <td>Jun1996</td>\n",
       "      <td>41500.0</td>\n",
       "      <td>1996-06-01</td>\n",
       "      <td>1996</td>\n",
       "      <td>0.0</td>\n",
       "      <td>NaN</td>\n",
       "    </tr>\n",
       "    <tr>\n",
       "      <th>3</th>\n",
       "      <td>E08000026</td>\n",
       "      <td>Coventry</td>\n",
       "      <td>Sep1996</td>\n",
       "      <td>42000.0</td>\n",
       "      <td>1996-09-01</td>\n",
       "      <td>1996</td>\n",
       "      <td>500.0</td>\n",
       "      <td>NaN</td>\n",
       "    </tr>\n",
       "    <tr>\n",
       "      <th>4</th>\n",
       "      <td>E08000026</td>\n",
       "      <td>Coventry</td>\n",
       "      <td>Dec1996</td>\n",
       "      <td>42000.0</td>\n",
       "      <td>1996-12-01</td>\n",
       "      <td>1996</td>\n",
       "      <td>0.0</td>\n",
       "      <td>NaN</td>\n",
       "    </tr>\n",
       "  </tbody>\n",
       "</table>\n",
       "</div>"
      ],
      "text/plain": [
       "     LA_code        LA  quarter   median       date  year  price_change  \\\n",
       "0  E08000026  Coventry  Dec1995  42000.0 1995-12-01  1995           NaN   \n",
       "1  E08000026  Coventry  Mar1996  41500.0 1996-03-01  1996        -500.0   \n",
       "2  E08000026  Coventry  Jun1996  41500.0 1996-06-01  1996           0.0   \n",
       "3  E08000026  Coventry  Sep1996  42000.0 1996-09-01  1996         500.0   \n",
       "4  E08000026  Coventry  Dec1996  42000.0 1996-12-01  1996           0.0   \n",
       "\n",
       "   price_change_4  \n",
       "0             NaN  \n",
       "1             NaN  \n",
       "2             NaN  \n",
       "3             NaN  \n",
       "4             NaN  "
      ]
     },
     "execution_count": 81,
     "metadata": {},
     "output_type": "execute_result"
    }
   ],
   "source": [
    "dcov4.head()"
   ]
  },
  {
   "cell_type": "code",
   "execution_count": 82,
   "metadata": {},
   "outputs": [
    {
     "data": {
      "text/html": [
       "<div>\n",
       "<style scoped>\n",
       "    .dataframe tbody tr th:only-of-type {\n",
       "        vertical-align: middle;\n",
       "    }\n",
       "\n",
       "    .dataframe tbody tr th {\n",
       "        vertical-align: top;\n",
       "    }\n",
       "\n",
       "    .dataframe thead th {\n",
       "        text-align: right;\n",
       "    }\n",
       "</style>\n",
       "<table border=\"1\" class=\"dataframe\">\n",
       "  <thead>\n",
       "    <tr style=\"text-align: right;\">\n",
       "      <th></th>\n",
       "      <th>LA_code</th>\n",
       "      <th>LA</th>\n",
       "      <th>year</th>\n",
       "      <th>SR</th>\n",
       "      <th>AR</th>\n",
       "      <th>DC_Total</th>\n",
       "      <th>date</th>\n",
       "      <th>SR_p</th>\n",
       "      <th>AR_p</th>\n",
       "    </tr>\n",
       "  </thead>\n",
       "  <tbody>\n",
       "    <tr>\n",
       "      <th>0</th>\n",
       "      <td>E08000026</td>\n",
       "      <td>Coventry</td>\n",
       "      <td>2002</td>\n",
       "      <td>76.0</td>\n",
       "      <td>140.0</td>\n",
       "      <td>566.0</td>\n",
       "      <td>2002-01-01</td>\n",
       "      <td>54.285714</td>\n",
       "      <td>24.734982</td>\n",
       "    </tr>\n",
       "    <tr>\n",
       "      <th>1</th>\n",
       "      <td>E08000026</td>\n",
       "      <td>Coventry</td>\n",
       "      <td>2003</td>\n",
       "      <td>218.0</td>\n",
       "      <td>320.0</td>\n",
       "      <td>624.0</td>\n",
       "      <td>2003-01-01</td>\n",
       "      <td>68.125000</td>\n",
       "      <td>51.282051</td>\n",
       "    </tr>\n",
       "    <tr>\n",
       "      <th>2</th>\n",
       "      <td>E08000026</td>\n",
       "      <td>Coventry</td>\n",
       "      <td>2004</td>\n",
       "      <td>98.0</td>\n",
       "      <td>111.0</td>\n",
       "      <td>-8.0</td>\n",
       "      <td>2004-01-01</td>\n",
       "      <td>0.000000</td>\n",
       "      <td>0.000000</td>\n",
       "    </tr>\n",
       "    <tr>\n",
       "      <th>3</th>\n",
       "      <td>E08000026</td>\n",
       "      <td>Coventry</td>\n",
       "      <td>2005</td>\n",
       "      <td>131.0</td>\n",
       "      <td>174.0</td>\n",
       "      <td>308.0</td>\n",
       "      <td>2005-01-01</td>\n",
       "      <td>75.287356</td>\n",
       "      <td>56.493506</td>\n",
       "    </tr>\n",
       "    <tr>\n",
       "      <th>4</th>\n",
       "      <td>E08000026</td>\n",
       "      <td>Coventry</td>\n",
       "      <td>2006</td>\n",
       "      <td>122.0</td>\n",
       "      <td>172.0</td>\n",
       "      <td>631.0</td>\n",
       "      <td>2006-01-01</td>\n",
       "      <td>70.930233</td>\n",
       "      <td>27.258320</td>\n",
       "    </tr>\n",
       "    <tr>\n",
       "      <th>5</th>\n",
       "      <td>E08000026</td>\n",
       "      <td>Coventry</td>\n",
       "      <td>2007</td>\n",
       "      <td>85.0</td>\n",
       "      <td>222.0</td>\n",
       "      <td>918.0</td>\n",
       "      <td>2007-01-01</td>\n",
       "      <td>38.288288</td>\n",
       "      <td>24.183007</td>\n",
       "    </tr>\n",
       "    <tr>\n",
       "      <th>6</th>\n",
       "      <td>E08000026</td>\n",
       "      <td>Coventry</td>\n",
       "      <td>2008</td>\n",
       "      <td>291.0</td>\n",
       "      <td>524.0</td>\n",
       "      <td>1133.0</td>\n",
       "      <td>2008-01-01</td>\n",
       "      <td>55.534351</td>\n",
       "      <td>46.248897</td>\n",
       "    </tr>\n",
       "    <tr>\n",
       "      <th>7</th>\n",
       "      <td>E08000026</td>\n",
       "      <td>Coventry</td>\n",
       "      <td>2009</td>\n",
       "      <td>134.0</td>\n",
       "      <td>269.0</td>\n",
       "      <td>710.0</td>\n",
       "      <td>2009-01-01</td>\n",
       "      <td>49.814126</td>\n",
       "      <td>37.887324</td>\n",
       "    </tr>\n",
       "    <tr>\n",
       "      <th>8</th>\n",
       "      <td>E08000026</td>\n",
       "      <td>Coventry</td>\n",
       "      <td>2010</td>\n",
       "      <td>238.0</td>\n",
       "      <td>363.0</td>\n",
       "      <td>794.0</td>\n",
       "      <td>2010-01-01</td>\n",
       "      <td>65.564738</td>\n",
       "      <td>45.717884</td>\n",
       "    </tr>\n",
       "    <tr>\n",
       "      <th>9</th>\n",
       "      <td>E08000026</td>\n",
       "      <td>Coventry</td>\n",
       "      <td>2011</td>\n",
       "      <td>150.0</td>\n",
       "      <td>298.0</td>\n",
       "      <td>759.0</td>\n",
       "      <td>2011-01-01</td>\n",
       "      <td>50.335570</td>\n",
       "      <td>39.262187</td>\n",
       "    </tr>\n",
       "    <tr>\n",
       "      <th>10</th>\n",
       "      <td>E08000026</td>\n",
       "      <td>Coventry</td>\n",
       "      <td>2012</td>\n",
       "      <td>201.0</td>\n",
       "      <td>367.0</td>\n",
       "      <td>912.0</td>\n",
       "      <td>2012-01-01</td>\n",
       "      <td>54.768392</td>\n",
       "      <td>40.241228</td>\n",
       "    </tr>\n",
       "    <tr>\n",
       "      <th>11</th>\n",
       "      <td>E08000026</td>\n",
       "      <td>Coventry</td>\n",
       "      <td>2013</td>\n",
       "      <td>94.0</td>\n",
       "      <td>414.0</td>\n",
       "      <td>979.0</td>\n",
       "      <td>2013-01-01</td>\n",
       "      <td>22.705314</td>\n",
       "      <td>42.288049</td>\n",
       "    </tr>\n",
       "    <tr>\n",
       "      <th>12</th>\n",
       "      <td>E08000026</td>\n",
       "      <td>Coventry</td>\n",
       "      <td>2014</td>\n",
       "      <td>75.0</td>\n",
       "      <td>329.0</td>\n",
       "      <td>1089.0</td>\n",
       "      <td>2014-01-01</td>\n",
       "      <td>22.796353</td>\n",
       "      <td>30.211203</td>\n",
       "    </tr>\n",
       "    <tr>\n",
       "      <th>13</th>\n",
       "      <td>E08000026</td>\n",
       "      <td>Coventry</td>\n",
       "      <td>2015</td>\n",
       "      <td>25.0</td>\n",
       "      <td>407.0</td>\n",
       "      <td>1109.0</td>\n",
       "      <td>2015-01-01</td>\n",
       "      <td>6.142506</td>\n",
       "      <td>36.699729</td>\n",
       "    </tr>\n",
       "    <tr>\n",
       "      <th>14</th>\n",
       "      <td>E08000026</td>\n",
       "      <td>Coventry</td>\n",
       "      <td>2016</td>\n",
       "      <td>68.0</td>\n",
       "      <td>241.0</td>\n",
       "      <td>1406.0</td>\n",
       "      <td>2016-01-01</td>\n",
       "      <td>28.215768</td>\n",
       "      <td>17.140825</td>\n",
       "    </tr>\n",
       "    <tr>\n",
       "      <th>15</th>\n",
       "      <td>E08000026</td>\n",
       "      <td>Coventry</td>\n",
       "      <td>2017</td>\n",
       "      <td>72.0</td>\n",
       "      <td>411.0</td>\n",
       "      <td>1129.0</td>\n",
       "      <td>2017-01-01</td>\n",
       "      <td>17.518248</td>\n",
       "      <td>36.403897</td>\n",
       "    </tr>\n",
       "    <tr>\n",
       "      <th>16</th>\n",
       "      <td>E08000026</td>\n",
       "      <td>Coventry</td>\n",
       "      <td>2018</td>\n",
       "      <td>89.0</td>\n",
       "      <td>223.0</td>\n",
       "      <td>1095.0</td>\n",
       "      <td>2018-01-01</td>\n",
       "      <td>39.910314</td>\n",
       "      <td>20.365297</td>\n",
       "    </tr>\n",
       "    <tr>\n",
       "      <th>17</th>\n",
       "      <td>E08000026</td>\n",
       "      <td>Coventry</td>\n",
       "      <td>2019</td>\n",
       "      <td>27.0</td>\n",
       "      <td>336.0</td>\n",
       "      <td>1499.0</td>\n",
       "      <td>2019-01-01</td>\n",
       "      <td>8.035714</td>\n",
       "      <td>22.414943</td>\n",
       "    </tr>\n",
       "    <tr>\n",
       "      <th>18</th>\n",
       "      <td>E08000026</td>\n",
       "      <td>Coventry</td>\n",
       "      <td>2020</td>\n",
       "      <td>15.0</td>\n",
       "      <td>199.0</td>\n",
       "      <td>2241.0</td>\n",
       "      <td>2020-01-01</td>\n",
       "      <td>7.537688</td>\n",
       "      <td>8.879964</td>\n",
       "    </tr>\n",
       "    <tr>\n",
       "      <th>19</th>\n",
       "      <td>E08000026</td>\n",
       "      <td>Coventry</td>\n",
       "      <td>2021</td>\n",
       "      <td>0.0</td>\n",
       "      <td>163.0</td>\n",
       "      <td>589.0</td>\n",
       "      <td>2021-01-01</td>\n",
       "      <td>0.000000</td>\n",
       "      <td>27.674024</td>\n",
       "    </tr>\n",
       "  </tbody>\n",
       "</table>\n",
       "</div>"
      ],
      "text/plain": [
       "      LA_code        LA  year     SR     AR  DC_Total       date       SR_p  \\\n",
       "0   E08000026  Coventry  2002   76.0  140.0     566.0 2002-01-01  54.285714   \n",
       "1   E08000026  Coventry  2003  218.0  320.0     624.0 2003-01-01  68.125000   \n",
       "2   E08000026  Coventry  2004   98.0  111.0      -8.0 2004-01-01   0.000000   \n",
       "3   E08000026  Coventry  2005  131.0  174.0     308.0 2005-01-01  75.287356   \n",
       "4   E08000026  Coventry  2006  122.0  172.0     631.0 2006-01-01  70.930233   \n",
       "5   E08000026  Coventry  2007   85.0  222.0     918.0 2007-01-01  38.288288   \n",
       "6   E08000026  Coventry  2008  291.0  524.0    1133.0 2008-01-01  55.534351   \n",
       "7   E08000026  Coventry  2009  134.0  269.0     710.0 2009-01-01  49.814126   \n",
       "8   E08000026  Coventry  2010  238.0  363.0     794.0 2010-01-01  65.564738   \n",
       "9   E08000026  Coventry  2011  150.0  298.0     759.0 2011-01-01  50.335570   \n",
       "10  E08000026  Coventry  2012  201.0  367.0     912.0 2012-01-01  54.768392   \n",
       "11  E08000026  Coventry  2013   94.0  414.0     979.0 2013-01-01  22.705314   \n",
       "12  E08000026  Coventry  2014   75.0  329.0    1089.0 2014-01-01  22.796353   \n",
       "13  E08000026  Coventry  2015   25.0  407.0    1109.0 2015-01-01   6.142506   \n",
       "14  E08000026  Coventry  2016   68.0  241.0    1406.0 2016-01-01  28.215768   \n",
       "15  E08000026  Coventry  2017   72.0  411.0    1129.0 2017-01-01  17.518248   \n",
       "16  E08000026  Coventry  2018   89.0  223.0    1095.0 2018-01-01  39.910314   \n",
       "17  E08000026  Coventry  2019   27.0  336.0    1499.0 2019-01-01   8.035714   \n",
       "18  E08000026  Coventry  2020   15.0  199.0    2241.0 2020-01-01   7.537688   \n",
       "19  E08000026  Coventry  2021    0.0  163.0     589.0 2021-01-01   0.000000   \n",
       "\n",
       "         AR_p  \n",
       "0   24.734982  \n",
       "1   51.282051  \n",
       "2    0.000000  \n",
       "3   56.493506  \n",
       "4   27.258320  \n",
       "5   24.183007  \n",
       "6   46.248897  \n",
       "7   37.887324  \n",
       "8   45.717884  \n",
       "9   39.262187  \n",
       "10  40.241228  \n",
       "11  42.288049  \n",
       "12  30.211203  \n",
       "13  36.699729  \n",
       "14  17.140825  \n",
       "15  36.403897  \n",
       "16  20.365297  \n",
       "17  22.414943  \n",
       "18   8.879964  \n",
       "19  27.674024  "
      ]
     },
     "execution_count": 82,
     "metadata": {},
     "output_type": "execute_result"
    }
   ],
   "source": [
    "dcov"
   ]
  },
  {
   "cell_type": "markdown",
   "metadata": {},
   "source": [
    "Provision of affordable homes and all homes in Coventry. Red line marks the need for affordable housing assessed in the Local Plan"
   ]
  },
  {
   "cell_type": "code",
   "execution_count": 83,
   "metadata": {},
   "outputs": [
    {
     "data": {
      "text/plain": [
       "<matplotlib.legend.Legend at 0x20b992bc5e0>"
      ]
     },
     "execution_count": 83,
     "metadata": {},
     "output_type": "execute_result"
    },
    {
     "data": {
      "image/png": "[encoded data removed]",
      "text/plain": [
       "<Figure size 432x288 with 1 Axes>"
      ]
     },
     "metadata": {
      "needs_background": "light"
     },
     "output_type": "display_data"
    }
   ],
   "source": [
    "x = dcov['date']\n",
    "y1 = dcov['SR']\n",
    "y2 = dcov['AR']\n",
    "y3 = dcov['DC_Total']\n",
    "plt.plot(x,y1)\n",
    "plt.plot(x,y2)\n",
    "plt.plot(x,y3)\n",
    "plt.axhline(xmin=0.67,y=348,color='r')\n",
    "plt.xlabel('year')\n",
    "plt.ylabel('houses delivered')\n",
    "plt.legend(['Social Rent','Total Affordable Homes','Total Homes'])"
   ]
  },
  {
   "cell_type": "code",
   "execution_count": 84,
   "metadata": {},
   "outputs": [
    {
     "data": {
      "text/plain": [
       "[<matplotlib.lines.Line2D at 0x20b99357f10>]"
      ]
     },
     "execution_count": 84,
     "metadata": {},
     "output_type": "execute_result"
    },
    {
     "data": {
      "image/png": "[encoded data removed]",
      "text/plain": [
       "<Figure size 432x288 with 1 Axes>"
      ]
     },
     "metadata": {
      "needs_background": "light"
     },
     "output_type": "display_data"
    }
   ],
   "source": [
    "a = dcov4.groupby('year').mean().index\n",
    "b = dcov4.groupby('year').mean().price_change\n",
    "plt.plot(a,b)"
   ]
  },
  {
   "cell_type": "markdown",
   "metadata": {},
   "source": [
    "It looks like as housing prices have risen, housing delivery has fallen. However, there is a lagged effect to housing supply's reaction to housing price changes. We can compare this by lagging house prices by a few periods"
   ]
  },
  {
   "cell_type": "code",
   "execution_count": 85,
   "metadata": {},
   "outputs": [],
   "source": [
    "a = dcov4.groupby('year').mean().index\n",
    "b = dcov4.groupby('year').mean().price_change_4"
   ]
  },
  {
   "cell_type": "code",
   "execution_count": 86,
   "metadata": {},
   "outputs": [
    {
     "data": {
      "image/png": "[encoded data removed]",
      "text/plain": [
       "<Figure size 720x432 with 2 Axes>"
      ]
     },
     "metadata": {
      "needs_background": "light"
     },
     "output_type": "display_data"
    }
   ],
   "source": [
    "fig, ax = plt.subplots(nrows=2,ncols=1,figsize=(10,6))\n",
    "ax[0].plot(x,y1)\n",
    "ax[0].plot(x,y2)\n",
    "ax[0].plot(x,y3)\n",
    "ax[0].set(ylabel='Dwellings Completed',title='Housing Delivery')\n",
    "ax[0].legend(['Socially Rented','Total Affordable Rent','Total Housing'])\n",
    "ax[1].plot(a,b)\n",
    "ax[1].set(ylabel='median house price',xlabel='year',title='Housing Prices')\n",
    "fig.suptitle('Housing Delivery and Housing Prices')\n",
    "fig.tight_layout()\n",
    "plt.show()"
   ]
  },
  {
   "cell_type": "code",
   "execution_count": 62,
   "metadata": {},
   "outputs": [],
   "source": [
    "from scipy.stats import pearsonr"
   ]
  },
  {
   "cell_type": "code",
   "execution_count": 168,
   "metadata": {},
   "outputs": [
    {
     "name": "stdout",
     "output_type": "stream",
     "text": [
      "0.37342090613825524 0.04209325619877667\n"
     ]
    },
    {
     "data": {
      "image/png": "[encoded data removed]",
      "text/plain": [
       "<Figure size 432x288 with 1 Axes>"
      ]
     },
     "metadata": {
      "needs_background": "light"
     },
     "output_type": "display_data"
    }
   ],
   "source": [
    "plt.scatter(dcov['AR'],dcov['DC_Total'])\n",
    "corr, _ = pearsonr(dcov['AR'],dcov['DC_Total'])\n",
    "print(corr,_)"
   ]
  },
  {
   "cell_type": "markdown",
   "metadata": {},
   "source": [
    "Calculating correlation matrix between social rent percentage and affordable dwellings"
   ]
  },
  {
   "cell_type": "code",
   "execution_count": 140,
   "metadata": {},
   "outputs": [
    {
     "data": {
      "text/plain": [
       "array([[  784.16395987,  -817.32083549],\n",
       "       [ -817.32083549, 12537.91264368]])"
      ]
     },
     "execution_count": 140,
     "metadata": {},
     "output_type": "execute_result"
    }
   ],
   "source": [
    "np.cov(dcov['SR_p'],dcov['AR'])"
   ]
  },
  {
   "cell_type": "markdown",
   "metadata": {},
   "source": [
    "A negative relationship between number of total affordable dwellings completed and percentage socially rented homes delivered"
   ]
  },
  {
   "cell_type": "markdown",
   "metadata": {},
   "source": [
    "Calculating covariance matrix between affordable homes and total dwellings completed"
   ]
  },
  {
   "cell_type": "code",
   "execution_count": 166,
   "metadata": {},
   "outputs": [
    {
     "data": {
      "text/plain": [
       "array([[12537.91264368, 10417.3908046 ],\n",
       "       [10417.3908046 , 62071.95402299]])"
      ]
     },
     "execution_count": 166,
     "metadata": {},
     "output_type": "execute_result"
    }
   ],
   "source": [
    "np.cov(dcov['AR'],dcov['DC_Total'])"
   ]
  },
  {
   "cell_type": "code",
   "execution_count": 30,
   "metadata": {},
   "outputs": [
    {
     "data": {
      "text/plain": [
       "Text(0.5, 1.0, 'Affordable Delivered as Percentage of Total Dwellings Completed')"
      ]
     },
     "execution_count": 30,
     "metadata": {},
     "output_type": "execute_result"
    },
    {
     "data": {
      "image/png": "[encoded data removed]",
      "text/plain": [
       "<Figure size 432x288 with 1 Axes>"
      ]
     },
     "metadata": {
      "needs_background": "light"
     },
     "output_type": "display_data"
    }
   ],
   "source": [
    "plt.plot(x,dcov['AR_p'])\n",
    "plt.xlabel('year')\n",
    "plt.ylabel('% Affordable Homes')\n",
    "plt.title('Affordable Delivered as Percentage of Total Dwellings Completed')"
   ]
  },
  {
   "cell_type": "code",
   "execution_count": 89,
   "metadata": {},
   "outputs": [
    {
     "data": {
      "text/plain": [
       "26.897547990424986"
      ]
     },
     "execution_count": 89,
     "metadata": {},
     "output_type": "execute_result"
    }
   ],
   "source": [
    "np.average(dcov.loc[dcov['year']>2012,'AR_p'])"
   ]
  },
  {
   "cell_type": "code",
   "execution_count": 152,
   "metadata": {},
   "outputs": [
    {
     "data": {
      "image/png": "[encoded data removed]",
      "text/plain": [
       "<Figure size 720x432 with 2 Axes>"
      ]
     },
     "metadata": {
      "needs_background": "light"
     },
     "output_type": "display_data"
    }
   ],
   "source": [
    "fig, ax = plt.subplots(nrows=2,ncols=1,figsize=(10,6))\n",
    "ax[0].plot(x[5:],dcov['SR_p'][5:])\n",
    "ax[0].set(ylabel='% of Social Homes',title='Housing Delivery')\n",
    "ax[0].legend(['Socially Rented','Total Affordable Rent','Total Housing'])\n",
    "ax[1].plot(a[2:],b[2:],color='green')\n",
    "ax[1].set(ylabel='house price change',xlabel='year',title='Change in House Prices Lagged by 1 Year')\n",
    "fig.suptitle('Housing Delivery and Housing Prices')\n",
    "fig.tight_layout()\n",
    "plt.show()"
   ]
  },
  {
   "cell_type": "markdown",
   "metadata": {},
   "source": [
    "Checking covariance matrix for % of Socially Rented homes delivered against lagged median house price change"
   ]
  },
  {
   "cell_type": "code",
   "execution_count": 144,
   "metadata": {},
   "outputs": [
    {
     "data": {
      "text/plain": [
       "array([[ 8.32327340e+02, -4.86078135e+03],\n",
       "       [-4.86078135e+03,  1.78559970e+06]])"
      ]
     },
     "execution_count": 144,
     "metadata": {},
     "output_type": "execute_result"
    }
   ],
   "source": [
    "np.cov(dcov['SR_p'][5:],b[2:])"
   ]
  },
  {
   "cell_type": "code",
   "execution_count": 145,
   "metadata": {},
   "outputs": [
    {
     "data": {
      "text/plain": [
       "year\n",
       "1995            NaN\n",
       "1996            NaN\n",
       "1997       0.000000\n",
       "1998     500.000000\n",
       "1999     375.000000\n",
       "2000    1112.500000\n",
       "2001    1262.500000\n",
       "2002    1750.000000\n",
       "2003    3250.000000\n",
       "2004    3500.000000\n",
       "2005       0.000000\n",
       "2006    2000.000000\n",
       "2007    1750.000000\n",
       "2008    1250.000000\n",
       "2009   -1375.000000\n",
       "2010   -1286.250000\n",
       "2011     786.250000\n",
       "2012    -125.000000\n",
       "2013     125.000000\n",
       "2014    1000.000000\n",
       "2015    2125.000000\n",
       "2016    2500.000000\n",
       "2017    2500.000000\n",
       "2018    3000.000000\n",
       "2019    3237.500000\n",
       "2020     511.875000\n",
       "2021    1000.833333\n",
       "Name: price_change_4, dtype: float64"
      ]
     },
     "execution_count": 145,
     "metadata": {},
     "output_type": "execute_result"
    }
   ],
   "source": [
    "b"
   ]
  },
  {
   "cell_type": "code",
   "execution_count": 40,
   "metadata": {},
   "outputs": [
    {
     "data": {
      "text/html": [
       "<div>\n",
       "<style scoped>\n",
       "    .dataframe tbody tr th:only-of-type {\n",
       "        vertical-align: middle;\n",
       "    }\n",
       "\n",
       "    .dataframe tbody tr th {\n",
       "        vertical-align: top;\n",
       "    }\n",
       "\n",
       "    .dataframe thead th {\n",
       "        text-align: right;\n",
       "    }\n",
       "</style>\n",
       "<table border=\"1\" class=\"dataframe\">\n",
       "  <thead>\n",
       "    <tr style=\"text-align: right;\">\n",
       "      <th></th>\n",
       "      <th>LA_code</th>\n",
       "      <th>LA</th>\n",
       "      <th>year</th>\n",
       "      <th>SR</th>\n",
       "      <th>AR</th>\n",
       "      <th>DC_Total</th>\n",
       "      <th>date</th>\n",
       "      <th>SR_p</th>\n",
       "      <th>AR_p</th>\n",
       "    </tr>\n",
       "  </thead>\n",
       "  <tbody>\n",
       "    <tr>\n",
       "      <th>0</th>\n",
       "      <td>E08000026</td>\n",
       "      <td>Coventry</td>\n",
       "      <td>1992</td>\n",
       "      <td>102.0</td>\n",
       "      <td>127.0</td>\n",
       "      <td>230.0</td>\n",
       "      <td>1992-01-01</td>\n",
       "      <td>80.314961</td>\n",
       "      <td>55.217391</td>\n",
       "    </tr>\n",
       "    <tr>\n",
       "      <th>1</th>\n",
       "      <td>E08000026</td>\n",
       "      <td>Coventry</td>\n",
       "      <td>1993</td>\n",
       "      <td>231.0</td>\n",
       "      <td>331.0</td>\n",
       "      <td>390.0</td>\n",
       "      <td>1993-01-01</td>\n",
       "      <td>69.788520</td>\n",
       "      <td>84.871795</td>\n",
       "    </tr>\n",
       "    <tr>\n",
       "      <th>2</th>\n",
       "      <td>E08000026</td>\n",
       "      <td>Coventry</td>\n",
       "      <td>1994</td>\n",
       "      <td>378.0</td>\n",
       "      <td>474.0</td>\n",
       "      <td>330.0</td>\n",
       "      <td>1994-01-01</td>\n",
       "      <td>79.746835</td>\n",
       "      <td>143.636364</td>\n",
       "    </tr>\n",
       "    <tr>\n",
       "      <th>3</th>\n",
       "      <td>E08000026</td>\n",
       "      <td>Coventry</td>\n",
       "      <td>1995</td>\n",
       "      <td>271.0</td>\n",
       "      <td>371.0</td>\n",
       "      <td>490.0</td>\n",
       "      <td>1995-01-01</td>\n",
       "      <td>73.045822</td>\n",
       "      <td>75.714286</td>\n",
       "    </tr>\n",
       "    <tr>\n",
       "      <th>4</th>\n",
       "      <td>E08000026</td>\n",
       "      <td>Coventry</td>\n",
       "      <td>1996</td>\n",
       "      <td>203.0</td>\n",
       "      <td>315.0</td>\n",
       "      <td>530.0</td>\n",
       "      <td>1996-01-01</td>\n",
       "      <td>64.444444</td>\n",
       "      <td>59.433962</td>\n",
       "    </tr>\n",
       "    <tr>\n",
       "      <th>5</th>\n",
       "      <td>E08000026</td>\n",
       "      <td>Coventry</td>\n",
       "      <td>1997</td>\n",
       "      <td>86.0</td>\n",
       "      <td>163.0</td>\n",
       "      <td>460.0</td>\n",
       "      <td>1997-01-01</td>\n",
       "      <td>52.760736</td>\n",
       "      <td>35.434783</td>\n",
       "    </tr>\n",
       "    <tr>\n",
       "      <th>6</th>\n",
       "      <td>E08000026</td>\n",
       "      <td>Coventry</td>\n",
       "      <td>1998</td>\n",
       "      <td>127.0</td>\n",
       "      <td>211.0</td>\n",
       "      <td>410.0</td>\n",
       "      <td>1998-01-01</td>\n",
       "      <td>60.189573</td>\n",
       "      <td>51.463415</td>\n",
       "    </tr>\n",
       "    <tr>\n",
       "      <th>7</th>\n",
       "      <td>E08000026</td>\n",
       "      <td>Coventry</td>\n",
       "      <td>1999</td>\n",
       "      <td>193.0</td>\n",
       "      <td>227.0</td>\n",
       "      <td>570.0</td>\n",
       "      <td>1999-01-01</td>\n",
       "      <td>85.022026</td>\n",
       "      <td>39.824561</td>\n",
       "    </tr>\n",
       "    <tr>\n",
       "      <th>8</th>\n",
       "      <td>E08000026</td>\n",
       "      <td>Coventry</td>\n",
       "      <td>2000</td>\n",
       "      <td>190.0</td>\n",
       "      <td>204.0</td>\n",
       "      <td>510.0</td>\n",
       "      <td>2000-01-01</td>\n",
       "      <td>93.137255</td>\n",
       "      <td>40.000000</td>\n",
       "    </tr>\n",
       "    <tr>\n",
       "      <th>9</th>\n",
       "      <td>E08000026</td>\n",
       "      <td>Coventry</td>\n",
       "      <td>2001</td>\n",
       "      <td>99.0</td>\n",
       "      <td>100.0</td>\n",
       "      <td>340.0</td>\n",
       "      <td>2001-01-01</td>\n",
       "      <td>99.000000</td>\n",
       "      <td>29.411765</td>\n",
       "    </tr>\n",
       "    <tr>\n",
       "      <th>10</th>\n",
       "      <td>E08000026</td>\n",
       "      <td>Coventry</td>\n",
       "      <td>2002</td>\n",
       "      <td>76.0</td>\n",
       "      <td>140.0</td>\n",
       "      <td>575.0</td>\n",
       "      <td>2002-01-01</td>\n",
       "      <td>54.285714</td>\n",
       "      <td>24.347826</td>\n",
       "    </tr>\n",
       "    <tr>\n",
       "      <th>11</th>\n",
       "      <td>E08000026</td>\n",
       "      <td>Coventry</td>\n",
       "      <td>2003</td>\n",
       "      <td>218.0</td>\n",
       "      <td>320.0</td>\n",
       "      <td>810.0</td>\n",
       "      <td>2003-01-01</td>\n",
       "      <td>68.125000</td>\n",
       "      <td>39.506173</td>\n",
       "    </tr>\n",
       "    <tr>\n",
       "      <th>12</th>\n",
       "      <td>E08000026</td>\n",
       "      <td>Coventry</td>\n",
       "      <td>2004</td>\n",
       "      <td>98.0</td>\n",
       "      <td>111.0</td>\n",
       "      <td>475.0</td>\n",
       "      <td>2004-01-01</td>\n",
       "      <td>88.288288</td>\n",
       "      <td>23.368421</td>\n",
       "    </tr>\n",
       "    <tr>\n",
       "      <th>13</th>\n",
       "      <td>E08000026</td>\n",
       "      <td>Coventry</td>\n",
       "      <td>2005</td>\n",
       "      <td>131.0</td>\n",
       "      <td>174.0</td>\n",
       "      <td>140.0</td>\n",
       "      <td>2005-01-01</td>\n",
       "      <td>75.287356</td>\n",
       "      <td>124.285714</td>\n",
       "    </tr>\n",
       "    <tr>\n",
       "      <th>14</th>\n",
       "      <td>E08000026</td>\n",
       "      <td>Coventry</td>\n",
       "      <td>2006</td>\n",
       "      <td>122.0</td>\n",
       "      <td>172.0</td>\n",
       "      <td>520.0</td>\n",
       "      <td>2006-01-01</td>\n",
       "      <td>70.930233</td>\n",
       "      <td>33.076923</td>\n",
       "    </tr>\n",
       "    <tr>\n",
       "      <th>15</th>\n",
       "      <td>E08000026</td>\n",
       "      <td>Coventry</td>\n",
       "      <td>2007</td>\n",
       "      <td>85.0</td>\n",
       "      <td>222.0</td>\n",
       "      <td>870.0</td>\n",
       "      <td>2007-01-01</td>\n",
       "      <td>38.288288</td>\n",
       "      <td>25.517241</td>\n",
       "    </tr>\n",
       "    <tr>\n",
       "      <th>16</th>\n",
       "      <td>E08000026</td>\n",
       "      <td>Coventry</td>\n",
       "      <td>2008</td>\n",
       "      <td>291.0</td>\n",
       "      <td>524.0</td>\n",
       "      <td>1130.0</td>\n",
       "      <td>2008-01-01</td>\n",
       "      <td>55.534351</td>\n",
       "      <td>46.371681</td>\n",
       "    </tr>\n",
       "    <tr>\n",
       "      <th>17</th>\n",
       "      <td>E08000026</td>\n",
       "      <td>Coventry</td>\n",
       "      <td>2009</td>\n",
       "      <td>134.0</td>\n",
       "      <td>269.0</td>\n",
       "      <td>560.0</td>\n",
       "      <td>2009-01-01</td>\n",
       "      <td>49.814126</td>\n",
       "      <td>48.035714</td>\n",
       "    </tr>\n",
       "    <tr>\n",
       "      <th>18</th>\n",
       "      <td>E08000026</td>\n",
       "      <td>Coventry</td>\n",
       "      <td>2010</td>\n",
       "      <td>238.0</td>\n",
       "      <td>363.0</td>\n",
       "      <td>360.0</td>\n",
       "      <td>2010-01-01</td>\n",
       "      <td>65.564738</td>\n",
       "      <td>100.833333</td>\n",
       "    </tr>\n",
       "    <tr>\n",
       "      <th>19</th>\n",
       "      <td>E08000026</td>\n",
       "      <td>Coventry</td>\n",
       "      <td>2011</td>\n",
       "      <td>150.0</td>\n",
       "      <td>298.0</td>\n",
       "      <td>480.0</td>\n",
       "      <td>2011-01-01</td>\n",
       "      <td>50.335570</td>\n",
       "      <td>62.083333</td>\n",
       "    </tr>\n",
       "    <tr>\n",
       "      <th>20</th>\n",
       "      <td>E08000026</td>\n",
       "      <td>Coventry</td>\n",
       "      <td>2012</td>\n",
       "      <td>201.0</td>\n",
       "      <td>367.0</td>\n",
       "      <td>660.0</td>\n",
       "      <td>2012-01-01</td>\n",
       "      <td>54.768392</td>\n",
       "      <td>55.606061</td>\n",
       "    </tr>\n",
       "    <tr>\n",
       "      <th>21</th>\n",
       "      <td>E08000026</td>\n",
       "      <td>Coventry</td>\n",
       "      <td>2013</td>\n",
       "      <td>94.0</td>\n",
       "      <td>414.0</td>\n",
       "      <td>900.0</td>\n",
       "      <td>2013-01-01</td>\n",
       "      <td>22.705314</td>\n",
       "      <td>46.000000</td>\n",
       "    </tr>\n",
       "    <tr>\n",
       "      <th>22</th>\n",
       "      <td>E08000026</td>\n",
       "      <td>Coventry</td>\n",
       "      <td>2014</td>\n",
       "      <td>75.0</td>\n",
       "      <td>329.0</td>\n",
       "      <td>790.0</td>\n",
       "      <td>2014-01-01</td>\n",
       "      <td>22.796353</td>\n",
       "      <td>41.645570</td>\n",
       "    </tr>\n",
       "    <tr>\n",
       "      <th>23</th>\n",
       "      <td>E08000026</td>\n",
       "      <td>Coventry</td>\n",
       "      <td>2015</td>\n",
       "      <td>25.0</td>\n",
       "      <td>407.0</td>\n",
       "      <td>710.0</td>\n",
       "      <td>2015-01-01</td>\n",
       "      <td>6.142506</td>\n",
       "      <td>57.323944</td>\n",
       "    </tr>\n",
       "    <tr>\n",
       "      <th>24</th>\n",
       "      <td>E08000026</td>\n",
       "      <td>Coventry</td>\n",
       "      <td>2016</td>\n",
       "      <td>68.0</td>\n",
       "      <td>241.0</td>\n",
       "      <td>830.0</td>\n",
       "      <td>2016-01-01</td>\n",
       "      <td>28.215768</td>\n",
       "      <td>29.036145</td>\n",
       "    </tr>\n",
       "    <tr>\n",
       "      <th>25</th>\n",
       "      <td>E08000026</td>\n",
       "      <td>Coventry</td>\n",
       "      <td>2017</td>\n",
       "      <td>72.0</td>\n",
       "      <td>411.0</td>\n",
       "      <td>900.0</td>\n",
       "      <td>2017-01-01</td>\n",
       "      <td>17.518248</td>\n",
       "      <td>45.666667</td>\n",
       "    </tr>\n",
       "    <tr>\n",
       "      <th>26</th>\n",
       "      <td>E08000026</td>\n",
       "      <td>Coventry</td>\n",
       "      <td>2018</td>\n",
       "      <td>89.0</td>\n",
       "      <td>223.0</td>\n",
       "      <td>700.0</td>\n",
       "      <td>2018-01-01</td>\n",
       "      <td>39.910314</td>\n",
       "      <td>31.857143</td>\n",
       "    </tr>\n",
       "    <tr>\n",
       "      <th>27</th>\n",
       "      <td>E08000026</td>\n",
       "      <td>Coventry</td>\n",
       "      <td>2019</td>\n",
       "      <td>27.0</td>\n",
       "      <td>336.0</td>\n",
       "      <td>710.0</td>\n",
       "      <td>2019-01-01</td>\n",
       "      <td>8.035714</td>\n",
       "      <td>47.323944</td>\n",
       "    </tr>\n",
       "    <tr>\n",
       "      <th>28</th>\n",
       "      <td>E08000026</td>\n",
       "      <td>Coventry</td>\n",
       "      <td>2020</td>\n",
       "      <td>15.0</td>\n",
       "      <td>199.0</td>\n",
       "      <td>1220.0</td>\n",
       "      <td>2020-01-01</td>\n",
       "      <td>7.537688</td>\n",
       "      <td>16.311475</td>\n",
       "    </tr>\n",
       "    <tr>\n",
       "      <th>29</th>\n",
       "      <td>E08000026</td>\n",
       "      <td>Coventry</td>\n",
       "      <td>2021</td>\n",
       "      <td>0.0</td>\n",
       "      <td>163.0</td>\n",
       "      <td>570.0</td>\n",
       "      <td>2021-01-01</td>\n",
       "      <td>0.000000</td>\n",
       "      <td>28.596491</td>\n",
       "    </tr>\n",
       "  </tbody>\n",
       "</table>\n",
       "</div>"
      ],
      "text/plain": [
       "      LA_code        LA  year     SR     AR  DC_Total       date       SR_p  \\\n",
       "0   E08000026  Coventry  1992  102.0  127.0     230.0 1992-01-01  80.314961   \n",
       "1   E08000026  Coventry  1993  231.0  331.0     390.0 1993-01-01  69.788520   \n",
       "2   E08000026  Coventry  1994  378.0  474.0     330.0 1994-01-01  79.746835   \n",
       "3   E08000026  Coventry  1995  271.0  371.0     490.0 1995-01-01  73.045822   \n",
       "4   E08000026  Coventry  1996  203.0  315.0     530.0 1996-01-01  64.444444   \n",
       "5   E08000026  Coventry  1997   86.0  163.0     460.0 1997-01-01  52.760736   \n",
       "6   E08000026  Coventry  1998  127.0  211.0     410.0 1998-01-01  60.189573   \n",
       "7   E08000026  Coventry  1999  193.0  227.0     570.0 1999-01-01  85.022026   \n",
       "8   E08000026  Coventry  2000  190.0  204.0     510.0 2000-01-01  93.137255   \n",
       "9   E08000026  Coventry  2001   99.0  100.0     340.0 2001-01-01  99.000000   \n",
       "10  E08000026  Coventry  2002   76.0  140.0     575.0 2002-01-01  54.285714   \n",
       "11  E08000026  Coventry  2003  218.0  320.0     810.0 2003-01-01  68.125000   \n",
       "12  E08000026  Coventry  2004   98.0  111.0     475.0 2004-01-01  88.288288   \n",
       "13  E08000026  Coventry  2005  131.0  174.0     140.0 2005-01-01  75.287356   \n",
       "14  E08000026  Coventry  2006  122.0  172.0     520.0 2006-01-01  70.930233   \n",
       "15  E08000026  Coventry  2007   85.0  222.0     870.0 2007-01-01  38.288288   \n",
       "16  E08000026  Coventry  2008  291.0  524.0    1130.0 2008-01-01  55.534351   \n",
       "17  E08000026  Coventry  2009  134.0  269.0     560.0 2009-01-01  49.814126   \n",
       "18  E08000026  Coventry  2010  238.0  363.0     360.0 2010-01-01  65.564738   \n",
       "19  E08000026  Coventry  2011  150.0  298.0     480.0 2011-01-01  50.335570   \n",
       "20  E08000026  Coventry  2012  201.0  367.0     660.0 2012-01-01  54.768392   \n",
       "21  E08000026  Coventry  2013   94.0  414.0     900.0 2013-01-01  22.705314   \n",
       "22  E08000026  Coventry  2014   75.0  329.0     790.0 2014-01-01  22.796353   \n",
       "23  E08000026  Coventry  2015   25.0  407.0     710.0 2015-01-01   6.142506   \n",
       "24  E08000026  Coventry  2016   68.0  241.0     830.0 2016-01-01  28.215768   \n",
       "25  E08000026  Coventry  2017   72.0  411.0     900.0 2017-01-01  17.518248   \n",
       "26  E08000026  Coventry  2018   89.0  223.0     700.0 2018-01-01  39.910314   \n",
       "27  E08000026  Coventry  2019   27.0  336.0     710.0 2019-01-01   8.035714   \n",
       "28  E08000026  Coventry  2020   15.0  199.0    1220.0 2020-01-01   7.537688   \n",
       "29  E08000026  Coventry  2021    0.0  163.0     570.0 2021-01-01   0.000000   \n",
       "\n",
       "          AR_p  \n",
       "0    55.217391  \n",
       "1    84.871795  \n",
       "2   143.636364  \n",
       "3    75.714286  \n",
       "4    59.433962  \n",
       "5    35.434783  \n",
       "6    51.463415  \n",
       "7    39.824561  \n",
       "8    40.000000  \n",
       "9    29.411765  \n",
       "10   24.347826  \n",
       "11   39.506173  \n",
       "12   23.368421  \n",
       "13  124.285714  \n",
       "14   33.076923  \n",
       "15   25.517241  \n",
       "16   46.371681  \n",
       "17   48.035714  \n",
       "18  100.833333  \n",
       "19   62.083333  \n",
       "20   55.606061  \n",
       "21   46.000000  \n",
       "22   41.645570  \n",
       "23   57.323944  \n",
       "24   29.036145  \n",
       "25   45.666667  \n",
       "26   31.857143  \n",
       "27   47.323944  \n",
       "28   16.311475  \n",
       "29   28.596491  "
      ]
     },
     "execution_count": 40,
     "metadata": {},
     "output_type": "execute_result"
    }
   ],
   "source": [
    "dcov"
   ]
  },
  {
   "cell_type": "code",
   "execution_count": 71,
   "metadata": {},
   "outputs": [],
   "source": [
    "c = dcov_pop['date']\n",
    "d = dcov_pop['pchange']"
   ]
  },
  {
   "cell_type": "code",
   "execution_count": 76,
   "metadata": {},
   "outputs": [
    {
     "data": {
      "image/png": "[encoded data removed]",
      "text/plain": [
       "<Figure size 720x432 with 3 Axes>"
      ]
     },
     "metadata": {
      "needs_background": "light"
     },
     "output_type": "display_data"
    }
   ],
   "source": [
    "fig, ax = plt.subplots(nrows=3,ncols=1,figsize=(10,6))\n",
    "ax[0].plot(x[10:],y1[10:])\n",
    "ax[0].plot(x[10:],y2[10:])\n",
    "ax[0].plot(x[10:],y3[10:])\n",
    "ax[0].set(ylabel='Dwellings Completed',title='Housing Delivery')\n",
    "ax[0].legend(['Socially Rented','Total Affordable Rent','Total Housing'])\n",
    "ax[1].plot(a[7:],b[7:])\n",
    "ax[1].set(ylabel='median house price',xlabel='year',title='Housing Prices')\n",
    "ax[2].plot(c,d)\n",
    "ax[2].set(ylabel='population change',title='Population Change')\n",
    "fig.suptitle('Housing Delivery and Housing Prices')\n",
    "fig.tight_layout()\n",
    "plt.show()"
   ]
  },
  {
   "cell_type": "code",
   "execution_count": 75,
   "metadata": {},
   "outputs": [
    {
     "data": {
      "text/plain": [
       "Int64Index([1995, 1996, 1997, 1998, 1999, 2000, 2001, 2002, 2003, 2004, 2005,\n",
       "            2006, 2007, 2008, 2009, 2010, 2011, 2012, 2013, 2014, 2015, 2016,\n",
       "            2017, 2018, 2019, 2020, 2021],\n",
       "           dtype='int64', name='year')"
      ]
     },
     "execution_count": 75,
     "metadata": {},
     "output_type": "execute_result"
    }
   ],
   "source": [
    "a"
   ]
  },
  {
   "cell_type": "markdown",
   "metadata": {},
   "source": [
    "# Social Housing and Homelessness"
   ]
  },
  {
   "cell_type": "code",
   "execution_count": null,
   "metadata": {},
   "outputs": [],
   "source": [
    "df_h = pd.read_excel('Homelessness 2009-2018 by LA.xlsx')"
   ]
  }
 ],
 "metadata": {
  "interpreter": {
   "hash": "afcbf81318a229b4525fb6e135028dc6563b1b027cefba10fdf5bdd956634443"
  },
  "kernelspec": {
   "display_name": "Python 3.10.4 64-bit",
   "language": "python",
   "name": "python3"
  },
  "language_info": {
   "codemirror_mode": {
    "name": "ipython",
    "version": 3
   },
   "file_extension": ".py",
   "mimetype": "text/x-python",
   "name": "python",
   "nbconvert_exporter": "python",
   "pygments_lexer": "ipython3",
   "version": "3.10.4"
  },
  "orig_nbformat": 4
 },
 "nbformat": 4,
 "nbformat_minor": 2
}
